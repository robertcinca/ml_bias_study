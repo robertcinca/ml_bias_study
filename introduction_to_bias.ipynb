{
 "cells": [
  {
   "cell_type": "markdown",
   "metadata": {},
   "source": [
    "# 0. Environment Setup\n",
    "\n",
    "- Please run the code below at the start. It fetches the bias tool from GitHub, and installs a missing package."
   ]
  },
  {
   "cell_type": "code",
   "execution_count": 1,
   "metadata": {},
   "outputs": [
    {
     "name": "stdout",
     "output_type": "stream",
     "text": [
      "fatal: destination path 'ml_bias_explainability' already exists and is not an empty directory.\n",
      "[Errno 2] No such file or directory: '/content/ml_bias_explainability'\n",
      "/Users/robertcinca/Desktop/UCL/PhD/explainability_library/ml_bias_explainability\n",
      "Requirement already satisfied: chart-studio==1.1.0 in /Users/robertcinca/.pyenv/versions/3.7.6/lib/python3.7/site-packages (1.1.0)\n",
      "Requirement already satisfied: retrying>=1.3.3 in /Users/robertcinca/.pyenv/versions/3.7.6/lib/python3.7/site-packages (from chart-studio==1.1.0) (1.3.3)\n",
      "Requirement already satisfied: plotly in /Users/robertcinca/.pyenv/versions/3.7.6/lib/python3.7/site-packages (from chart-studio==1.1.0) (5.6.0)\n",
      "Requirement already satisfied: six in /Users/robertcinca/.pyenv/versions/3.7.6/lib/python3.7/site-packages (from chart-studio==1.1.0) (1.16.0)\n",
      "Requirement already satisfied: requests in /Users/robertcinca/.pyenv/versions/3.7.6/lib/python3.7/site-packages (from chart-studio==1.1.0) (2.27.1)\n",
      "Requirement already satisfied: tenacity>=6.2.0 in /Users/robertcinca/.pyenv/versions/3.7.6/lib/python3.7/site-packages (from plotly->chart-studio==1.1.0) (8.0.1)\n",
      "Requirement already satisfied: charset-normalizer~=2.0.0 in /Users/robertcinca/.pyenv/versions/3.7.6/lib/python3.7/site-packages (from requests->chart-studio==1.1.0) (2.0.12)\n",
      "Requirement already satisfied: certifi>=2017.4.17 in /Users/robertcinca/.pyenv/versions/3.7.6/lib/python3.7/site-packages (from requests->chart-studio==1.1.0) (2021.10.8)\n",
      "Requirement already satisfied: idna<4,>=2.5 in /Users/robertcinca/.pyenv/versions/3.7.6/lib/python3.7/site-packages (from requests->chart-studio==1.1.0) (3.3)\n",
      "Requirement already satisfied: urllib3<1.27,>=1.21.1 in /Users/robertcinca/.pyenv/versions/3.7.6/lib/python3.7/site-packages (from requests->chart-studio==1.1.0) (1.26.8)\n",
      "\u001b[33mWARNING: You are using pip version 22.0.3; however, version 22.0.4 is available.\n",
      "You should consider upgrading via the '/Users/robertcinca/.pyenv/versions/3.7.6/bin/python3.7 -m pip install --upgrade pip' command.\u001b[0m\u001b[33m\n",
      "\u001b[0m"
     ]
    }
   ],
   "source": [
    "# RUN THE FOLLOWING ONCE AT THE START, IN GOOGLE COLLAB\n",
    "!git clone https://github.com/robertcinca/ml_bias_study\n",
    "%cd \"/content/ml_bias_study\"\n",
    "!pip install chart-studio==1.1.0"
   ]
  },
  {
   "cell_type": "markdown",
   "metadata": {},
   "source": [
    "# 1. Introduction & Instructions\n",
    "\n",
    "This study introduces you to Bias in Machine Learning (ML) whilst interacting with a bias mitigation tool. Some code is already provided. You can simply run these code snippets, however, please read them, including the comments. \n",
    "\n",
    "As you go through the tutorial, you will be asked to complete 11 mini exercises, these are bolded and start with the word **Exercise**. There is an optional 12th exploratory exercise at the end. Please write answers down within this notebook and share the file with us in advance of the interview.\n",
    "\n",
    "The purpose of this activity is for us to understand how Bias is perceived within ML, and how to design tutorials and tools for Bias detection and mitigation. It is not to evaluate your ability or skills!\n",
    "\n",
    "Please note that Colab has some limitations: a session ends after 12 hours, or if it has been idle for more than 90 minutes. All runtime data is lost once the session ends. Therefore, you may want to complete this study in one go.\n",
    "\n",
    "To display all sections of the study, in the menubar at the top please \"view\" and then \"expand sections\"."
   ]
  },
  {
   "cell_type": "markdown",
   "metadata": {},
   "source": [
    "**Exercise 1:** How would you describe what bias in machine learning is? Please write down your thoughts."
   ]
  },
  {
   "cell_type": "markdown",
   "metadata": {},
   "source": [
    "*Please single (or double) click this box and type your answer here.*"
   ]
  },
  {
   "cell_type": "markdown",
   "metadata": {},
   "source": [
    "**Exercise 2:** How do issues of bias and fairness influence the way you use (or the way you would use) ML technology in your work? Please write down your thoughts."
   ]
  },
  {
   "cell_type": "markdown",
   "metadata": {},
   "source": [
    "*Please single (or double) click this box and type your answer here.*"
   ]
  },
  {
   "cell_type": "markdown",
   "metadata": {},
   "source": [
    "This section contains import statements and global variables used in the tutorial"
   ]
  },
  {
   "cell_type": "code",
   "execution_count": 36,
   "metadata": {},
   "outputs": [
    {
     "data": {
      "text/html": [
       "        <script type=\"text/javascript\">\n",
       "        window.PlotlyConfig = {MathJaxConfig: 'local'};\n",
       "        if (window.MathJax) {MathJax.Hub.Config({SVG: {font: \"STIX-Web\"}});}\n",
       "        if (typeof require !== 'undefined') {\n",
       "        require.undef(\"plotly\");\n",
       "        requirejs.config({\n",
       "            paths: {\n",
       "                'plotly': ['https://cdn.plot.ly/plotly-2.9.0.min']\n",
       "            }\n",
       "        });\n",
       "        require(['plotly'], function(Plotly) {\n",
       "            window._Plotly = Plotly;\n",
       "        });\n",
       "        }\n",
       "        </script>\n",
       "        "
      ]
     },
     "metadata": {},
     "output_type": "display_data"
    }
   ],
   "source": [
    "import os\n",
    "import cufflinks as cf\n",
    "import numpy as np\n",
    "import pandas as pd\n",
    "import plotly.io as pio\n",
    "from IPython.display import Image, display\n",
    "from ipywidgets import interact, interact_manual\n",
    "\n",
    "from ml_bias_explainability.compile_model_and_analysis import CompileModelAndAnalysis\n",
    "from ml_bias_explainability.find_best_parameters import FindBestParameter\n",
    "from ml_bias_explainability.helpers.helper import Helper\n",
    "from ml_bias_explainability.run_tool_interaction import RunInteraction\n",
    "\n",
    "cf.go_offline()\n",
    "cf.set_config_file(offline=False, world_readable=True)\n",
    "pio.renderers.default = \"colab\" # comment out if not running in Colab"
   ]
  },
  {
   "cell_type": "markdown",
   "metadata": {},
   "source": [
    "# 2. Our First Dataset: COMPAS Recidivism Dataset\n",
    "\n",
    "We will introduce concepts of bias through the help of the COMPAS dataset. The input features in this dataset are used to determine the risk of recidivism (chance of re-offending) that a criminal defendant has. This dataset is widely used within Bias Analysis as an example of a biased dataset."
   ]
  },
  {
   "cell_type": "code",
   "execution_count": 4,
   "metadata": {},
   "outputs": [],
   "source": [
    "# Variables refering to folder locations for the COMPAS dataset are defined here\n",
    "\"\"\"\n",
    "Path to the dataset\n",
    "\"\"\"\n",
    "first_dataset_csv_path = \"scripts/data/1_compass_recidivism/compas-scores-two-years.csv\"\n",
    "\n",
    "\"\"\"\n",
    "List of columns that need to be removed from the dataset in the pre-processing stage\n",
    "\"\"\"\n",
    "first_dataset_columns_to_remove = Helper.read_yaml(\"scripts/data/1_compass_recidivism/columns_to_remove.yml\")\n",
    "\n",
    "\"\"\"\n",
    "Output folder for the analysis. This can be accessed at a later stage, \n",
    "to avoid having to re-run everything.\n",
    "\"\"\"\n",
    "output_folder_location = \"scripts/data/1_compass_recidivism/output\""
   ]
  },
  {
   "cell_type": "markdown",
   "metadata": {},
   "source": [
    "### Step 1: Loading & Understanding the Dataset\n",
    "\n",
    "The first step is to load and clean the dataset. Have a look at the code below to get an idea of the cleaning processes that take place, and the resulting dataframe"
   ]
  },
  {
   "cell_type": "code",
   "execution_count": 5,
   "metadata": {},
   "outputs": [
    {
     "data": {
      "text/html": [
       "<div>\n",
       "<style scoped>\n",
       "    .dataframe tbody tr th:only-of-type {\n",
       "        vertical-align: middle;\n",
       "    }\n",
       "\n",
       "    .dataframe tbody tr th {\n",
       "        vertical-align: top;\n",
       "    }\n",
       "\n",
       "    .dataframe thead th {\n",
       "        text-align: right;\n",
       "    }\n",
       "</style>\n",
       "<table border=\"1\" class=\"dataframe\">\n",
       "  <thead>\n",
       "    <tr style=\"text-align: right;\">\n",
       "      <th></th>\n",
       "      <th>sex</th>\n",
       "      <th>age</th>\n",
       "      <th>age_cat</th>\n",
       "      <th>race</th>\n",
       "      <th>juv_fel_count</th>\n",
       "      <th>juv_misd_count</th>\n",
       "      <th>juv_other_count</th>\n",
       "      <th>priors_count</th>\n",
       "      <th>c_charge_degree</th>\n",
       "      <th>c_charge_desc</th>\n",
       "      <th>two_year_recid</th>\n",
       "    </tr>\n",
       "    <tr>\n",
       "      <th>id</th>\n",
       "      <th></th>\n",
       "      <th></th>\n",
       "      <th></th>\n",
       "      <th></th>\n",
       "      <th></th>\n",
       "      <th></th>\n",
       "      <th></th>\n",
       "      <th></th>\n",
       "      <th></th>\n",
       "      <th></th>\n",
       "      <th></th>\n",
       "    </tr>\n",
       "  </thead>\n",
       "  <tbody>\n",
       "    <tr>\n",
       "      <th>1</th>\n",
       "      <td>Male</td>\n",
       "      <td>69</td>\n",
       "      <td>Greater than 45</td>\n",
       "      <td>Other</td>\n",
       "      <td>0</td>\n",
       "      <td>0</td>\n",
       "      <td>0</td>\n",
       "      <td>0</td>\n",
       "      <td>F</td>\n",
       "      <td>Aggravated Assault w/Firearm</td>\n",
       "      <td>0</td>\n",
       "    </tr>\n",
       "    <tr>\n",
       "      <th>3</th>\n",
       "      <td>Male</td>\n",
       "      <td>34</td>\n",
       "      <td>25 - 45</td>\n",
       "      <td>African-American</td>\n",
       "      <td>0</td>\n",
       "      <td>0</td>\n",
       "      <td>0</td>\n",
       "      <td>0</td>\n",
       "      <td>F</td>\n",
       "      <td>Felony Battery w/Prior Convict</td>\n",
       "      <td>1</td>\n",
       "    </tr>\n",
       "    <tr>\n",
       "      <th>4</th>\n",
       "      <td>Male</td>\n",
       "      <td>24</td>\n",
       "      <td>Less than 25</td>\n",
       "      <td>African-American</td>\n",
       "      <td>0</td>\n",
       "      <td>0</td>\n",
       "      <td>1</td>\n",
       "      <td>4</td>\n",
       "      <td>F</td>\n",
       "      <td>Possession of Cocaine</td>\n",
       "      <td>1</td>\n",
       "    </tr>\n",
       "    <tr>\n",
       "      <th>7</th>\n",
       "      <td>Male</td>\n",
       "      <td>44</td>\n",
       "      <td>25 - 45</td>\n",
       "      <td>Other</td>\n",
       "      <td>0</td>\n",
       "      <td>0</td>\n",
       "      <td>0</td>\n",
       "      <td>0</td>\n",
       "      <td>M</td>\n",
       "      <td>Battery</td>\n",
       "      <td>0</td>\n",
       "    </tr>\n",
       "    <tr>\n",
       "      <th>8</th>\n",
       "      <td>Male</td>\n",
       "      <td>41</td>\n",
       "      <td>25 - 45</td>\n",
       "      <td>Caucasian</td>\n",
       "      <td>0</td>\n",
       "      <td>0</td>\n",
       "      <td>0</td>\n",
       "      <td>14</td>\n",
       "      <td>F</td>\n",
       "      <td>Possession Burglary Tools</td>\n",
       "      <td>1</td>\n",
       "    </tr>\n",
       "    <tr>\n",
       "      <th>...</th>\n",
       "      <td>...</td>\n",
       "      <td>...</td>\n",
       "      <td>...</td>\n",
       "      <td>...</td>\n",
       "      <td>...</td>\n",
       "      <td>...</td>\n",
       "      <td>...</td>\n",
       "      <td>...</td>\n",
       "      <td>...</td>\n",
       "      <td>...</td>\n",
       "      <td>...</td>\n",
       "    </tr>\n",
       "    <tr>\n",
       "      <th>10996</th>\n",
       "      <td>Male</td>\n",
       "      <td>23</td>\n",
       "      <td>Less than 25</td>\n",
       "      <td>African-American</td>\n",
       "      <td>0</td>\n",
       "      <td>0</td>\n",
       "      <td>0</td>\n",
       "      <td>0</td>\n",
       "      <td>F</td>\n",
       "      <td>Deliver Cannabis</td>\n",
       "      <td>0</td>\n",
       "    </tr>\n",
       "    <tr>\n",
       "      <th>10997</th>\n",
       "      <td>Male</td>\n",
       "      <td>23</td>\n",
       "      <td>Less than 25</td>\n",
       "      <td>African-American</td>\n",
       "      <td>0</td>\n",
       "      <td>0</td>\n",
       "      <td>0</td>\n",
       "      <td>0</td>\n",
       "      <td>F</td>\n",
       "      <td>Leaving the Scene of Accident</td>\n",
       "      <td>0</td>\n",
       "    </tr>\n",
       "    <tr>\n",
       "      <th>10999</th>\n",
       "      <td>Male</td>\n",
       "      <td>57</td>\n",
       "      <td>Greater than 45</td>\n",
       "      <td>Other</td>\n",
       "      <td>0</td>\n",
       "      <td>0</td>\n",
       "      <td>0</td>\n",
       "      <td>0</td>\n",
       "      <td>F</td>\n",
       "      <td>Aggravated Battery / Pregnant</td>\n",
       "      <td>0</td>\n",
       "    </tr>\n",
       "    <tr>\n",
       "      <th>11000</th>\n",
       "      <td>Female</td>\n",
       "      <td>33</td>\n",
       "      <td>25 - 45</td>\n",
       "      <td>African-American</td>\n",
       "      <td>0</td>\n",
       "      <td>0</td>\n",
       "      <td>0</td>\n",
       "      <td>3</td>\n",
       "      <td>M</td>\n",
       "      <td>Battery on Law Enforc Officer</td>\n",
       "      <td>0</td>\n",
       "    </tr>\n",
       "    <tr>\n",
       "      <th>11001</th>\n",
       "      <td>Female</td>\n",
       "      <td>23</td>\n",
       "      <td>Less than 25</td>\n",
       "      <td>Hispanic</td>\n",
       "      <td>0</td>\n",
       "      <td>0</td>\n",
       "      <td>0</td>\n",
       "      <td>2</td>\n",
       "      <td>F</td>\n",
       "      <td>Possession of Ethylone</td>\n",
       "      <td>1</td>\n",
       "    </tr>\n",
       "  </tbody>\n",
       "</table>\n",
       "<p>6172 rows × 11 columns</p>\n",
       "</div>"
      ],
      "text/plain": [
       "          sex  age          age_cat              race  juv_fel_count  \\\n",
       "id                                                                     \n",
       "1        Male   69  Greater than 45             Other              0   \n",
       "3        Male   34          25 - 45  African-American              0   \n",
       "4        Male   24     Less than 25  African-American              0   \n",
       "7        Male   44          25 - 45             Other              0   \n",
       "8        Male   41          25 - 45         Caucasian              0   \n",
       "...       ...  ...              ...               ...            ...   \n",
       "10996    Male   23     Less than 25  African-American              0   \n",
       "10997    Male   23     Less than 25  African-American              0   \n",
       "10999    Male   57  Greater than 45             Other              0   \n",
       "11000  Female   33          25 - 45  African-American              0   \n",
       "11001  Female   23     Less than 25          Hispanic              0   \n",
       "\n",
       "       juv_misd_count  juv_other_count  priors_count c_charge_degree  \\\n",
       "id                                                                     \n",
       "1                   0                0             0               F   \n",
       "3                   0                0             0               F   \n",
       "4                   0                1             4               F   \n",
       "7                   0                0             0               M   \n",
       "8                   0                0            14               F   \n",
       "...               ...              ...           ...             ...   \n",
       "10996               0                0             0               F   \n",
       "10997               0                0             0               F   \n",
       "10999               0                0             0               F   \n",
       "11000               0                0             3               M   \n",
       "11001               0                0             2               F   \n",
       "\n",
       "                        c_charge_desc  two_year_recid  \n",
       "id                                                     \n",
       "1        Aggravated Assault w/Firearm               0  \n",
       "3      Felony Battery w/Prior Convict               1  \n",
       "4               Possession of Cocaine               1  \n",
       "7                             Battery               0  \n",
       "8           Possession Burglary Tools               1  \n",
       "...                               ...             ...  \n",
       "10996                Deliver Cannabis               0  \n",
       "10997   Leaving the Scene of Accident               0  \n",
       "10999   Aggravated Battery / Pregnant               0  \n",
       "11000   Battery on Law Enforc Officer               0  \n",
       "11001          Possession of Ethylone               1  \n",
       "\n",
       "[6172 rows x 11 columns]"
      ]
     },
     "execution_count": 5,
     "metadata": {},
     "output_type": "execute_result"
    }
   ],
   "source": [
    "# Load and clean the dataset\n",
    "def clean_dataset(csv_path, columns_to_remove):\n",
    "    # The dataset used is taken from https://github.com/propublica/compas-analysis\n",
    "    df = pd.read_csv(csv_path, index_col=0)\n",
    "\n",
    "    # Based on propublica analysis, filter rows where COMPAS scoring and\n",
    "    # arrest date weren't within 30 days of each other\n",
    "    df = df[df.days_b_screening_arrest <= 30]\n",
    "    df = df[df.days_b_screening_arrest >= -30]\n",
    "\n",
    "    # get rid of columns that shouldn't be in the input model\n",
    "    filtered_columns_to_remove = df.filter(columns_to_remove)\n",
    "    df.drop(filtered_columns_to_remove, inplace=True, axis=1)\n",
    "\n",
    "    # Ensure validity of inputs – No NaNs\n",
    "    object_list, numeric_list = Helper.get_df_types_list(df)\n",
    "    for column in object_list:\n",
    "        df[column].fillna(\"\", inplace=True)\n",
    "    for column in numeric_list:\n",
    "        df[column].fillna(-1, inplace=True)\n",
    "\n",
    "    return df\n",
    "\n",
    "recidivism_df = clean_dataset(first_dataset_csv_path, first_dataset_columns_to_remove)\n",
    "recidivism_df"
   ]
  },
  {
   "cell_type": "markdown",
   "metadata": {},
   "source": [
    "Here is a brief explanation of each feature:\n",
    "- sex: Male or Female\n",
    "- age: ranges from 18 to 96\n",
    "- age_cat: ages grouped into 3 categories: [Greater than 45, 25 - 45, Less than 25]\n",
    "- race: 6 categories: [Other, African-American, Caucasian, Hispanic, Asian, Native American]\n",
    "- juv_fel_count: number of felonies (serious offences) that the person committed as a juvenile (under 18). Ranges from 0 to 20.\n",
    "- juv_misd_count: number of misdemeanors (less serious offences) that the person committed as a juvenile (under 18). Ranges from 0 to 13.\n",
    "- juv_other_count: number of other charges (not felonies nor misdemeanors) that the person committed as a juvenile (under 18). Ranges from 0 to 9.\n",
    "- priors_count: number of previous offences that the person has committed. Ranges from 0 to 38.\n",
    "- c_charge_degree: whether the crime in question is a felony (F) or misdemeanor (M).\n",
    "- c_charge_desc: a description of the crime that took place\n",
    "\n",
    "- two_year_recid (output feature): whether the person in question went on to commit a crime within the next two years. 1 for yes, 0 for no."
   ]
  },
  {
   "cell_type": "markdown",
   "metadata": {},
   "source": [
    "**Exercise 3:** From the 10 input features of the dataset, which features would you say could be problematic in terms of bias and discrimination? In other words, if you were building a model with this dataset, what features would you expect to cause bias?"
   ]
  },
  {
   "cell_type": "markdown",
   "metadata": {},
   "source": [
    "*Please single (or double) click this box and type your answer here.*"
   ]
  },
  {
   "cell_type": "markdown",
   "metadata": {},
   "source": [
    "Before even starting on any computations, it is worth playing around with the dataset to get a feel for it. Feel free to use the next few sections to explore the dataset"
   ]
  },
  {
   "cell_type": "code",
   "execution_count": 6,
   "metadata": {},
   "outputs": [
    {
     "data": {
      "application/vnd.jupyter.widget-view+json": {
       "model_id": "266ef39048884968ab8c5b5a626dce66",
       "version_major": 2,
       "version_minor": 0
      },
      "text/plain": [
       "interactive(children=(Dropdown(description='column', options=('age', 'juv_fel_count', 'juv_misd_count', 'juv_o…"
      ]
     },
     "metadata": {},
     "output_type": "display_data"
    }
   ],
   "source": [
    "# Interact with specification of arguments\n",
    "@interact\n",
    "def show_filtered_raw_data(column=recidivism_df.select_dtypes(include=[np.number]).columns, x=(0, 100, 1)):\n",
    "    return recidivism_df.loc[recidivism_df[column] >= x]"
   ]
  },
  {
   "cell_type": "code",
   "execution_count": 7,
   "metadata": {},
   "outputs": [
    {
     "data": {
      "application/vnd.jupyter.widget-view+json": {
       "model_id": "e609441ea4aa405893611e39566eb702",
       "version_major": 2,
       "version_minor": 0
      },
      "text/plain": [
       "interactive(children=(Dropdown(description='x', options=('age', 'juv_fel_count', 'juv_misd_count', 'juv_other_…"
      ]
     },
     "metadata": {},
     "output_type": "display_data"
    }
   ],
   "source": [
    "# Observe the data through a scatter plot. Press \"Run Interact\" to start the plotting.\n",
    "@interact_manual\n",
    "def scatter_plot(\n",
    "    x=list(recidivism_df.select_dtypes(\"number\").columns),\n",
    "    y=list(recidivism_df.select_dtypes(\"number\").columns)[1:],\n",
    "    theme=list(cf.themes.THEMES.keys()),\n",
    "    colorscale=list(cf.colors._scales_names.keys()),\n",
    "):\n",
    "\n",
    "    recidivism_df.iplot(\n",
    "        kind=\"scatter\",\n",
    "        x=x,\n",
    "        y=y,\n",
    "        mode=\"markers\",\n",
    "        xTitle=x.title(),\n",
    "        yTitle=y.title(),\n",
    "        title=f\"Scatter Plot: {y.title()} vs {x.title()}\",\n",
    "        theme=theme,\n",
    "        colorscale=colorscale,\n",
    "    )"
   ]
  },
  {
   "cell_type": "markdown",
   "metadata": {},
   "source": [
    "Please note, if you want to look at any of the csv files in-depth (e.g., by opening them in Excel), feel free to do so. You can find them under the following directory: ``ml_bias_explainability/scripts/data/``. E.g., the COMPAS dataset that you have just been looking at is located at ``ml_bias_explainability/scripts/data/1_compass_recidivism/compas-scores-two-years.csv``. In there you will also see an ``output`` folder, which is where all the computed analysis goes."
   ]
  },
  {
   "cell_type": "markdown",
   "metadata": {},
   "source": [
    "### Step 2: Computing the Analysis\n",
    "The second step is to use the tool to create a ML model and then compute bias statistics and visualizations related to the output. Bias concepts and definitions will be explained and inspected in the Tool Analysis section (Section 3)."
   ]
  },
  {
   "cell_type": "code",
   "execution_count": 8,
   "metadata": {},
   "outputs": [],
   "source": [
    "# Firstly define the following parameters for the tool\n",
    "\n",
    "\"\"\"\n",
    "training_types tells the bias tool what modifications to apply to the dataset before running the analysis.\n",
    "There are two types: original_dataset, which leaves the data unchanged and remove_feature, which runs \n",
    "the analysis on multiple datasets, each dataset having a different feature removed.\n",
    "\"\"\"\n",
    "training_types = [\n",
    "        \"original_dataset\",\n",
    "        \"remove_feature\",\n",
    "    ]\n",
    "\n",
    "\"\"\"\n",
    "features_of_interest are user-defined input features that are at risk of bias or discrimination. \n",
    "The \"all\" setting shows the overall metrics for the dataset.\n",
    "\"\"\"\n",
    "features_of_interest = [\"all\", \"race\", \"sex\", \"age_cat\"]\n",
    "\n",
    "\"\"\"\n",
    "This defines the output feature, the rest of the features will be deemed as input features.\n",
    "\"\"\"\n",
    "output = \"two_year_recid\"\n",
    "\n",
    "\"\"\"\n",
    "This is a threshold for the tool to use when defining categorical vs numerical features. \n",
    "Keeping this value low will make the analysis run faster, at the expense of granularity.\n",
    "\"\"\"\n",
    "unique_values = 6\n",
    "\n",
    "\"\"\"\n",
    "Setting Verbose to True will result in additional textual explanations highlighting areas with potential bias.\n",
    "\"\"\"\n",
    "verbose = False\n",
    "\n",
    "\"\"\"\n",
    "Setting parameters for the trained Neural Network model.\n",
    "\"\"\"\n",
    "best_params = dict(\n",
    "    batch_size=128,\n",
    "    epochs=15,\n",
    "    optimizer=\"Nadam\",\n",
    "    init_mode=\"he_uniform\",\n",
    "    activation=\"sigmoid\",\n",
    "    weight_constraint=1,\n",
    "    dropout_rate=0.2,\n",
    "    neurons=128,\n",
    "    hidden_layers=4,\n",
    ")"
   ]
  },
  {
   "cell_type": "code",
   "execution_count": 9,
   "metadata": {
    "scrolled": true
   },
   "outputs": [
    {
     "name": "stdout",
     "output_type": "stream",
     "text": [
      "RUNNING ANALYSIS FOR TRAINING TYPE: 'original_dataset'\n",
      "\n",
      "List of numeric features for this dataset: ['age', 'juv_fel_count', 'juv_misd_count', 'juv_other_count', 'priors_count']\n",
      "List of non-numeric features: ['sex', 'age_cat', 'race', 'c_charge_degree', 'c_charge_desc']\n",
      "\n",
      "Total number of training samples: 3949\n",
      "Total number of validation samples: 988\n",
      "Total number of test samples: 1235\n",
      "\n",
      "Training the model:\n",
      "Epoch 1/15\n",
      "31/31 [==============================] - 1s 12ms/step - loss: 0.7338 - accuracy: 0.5042 - val_loss: 0.6915 - val_accuracy: 0.5202\n",
      "Epoch 2/15\n",
      "31/31 [==============================] - 0s 3ms/step - loss: 0.7129 - accuracy: 0.5181 - val_loss: 0.6857 - val_accuracy: 0.5233\n",
      "Epoch 3/15\n",
      "31/31 [==============================] - 0s 3ms/step - loss: 0.6912 - accuracy: 0.5536 - val_loss: 0.6629 - val_accuracy: 0.6387\n",
      "Epoch 4/15\n",
      "31/31 [==============================] - 0s 3ms/step - loss: 0.6548 - accuracy: 0.6161 - val_loss: 0.6328 - val_accuracy: 0.6488\n",
      "Epoch 5/15\n",
      "31/31 [==============================] - 0s 3ms/step - loss: 0.6310 - accuracy: 0.6470 - val_loss: 0.6311 - val_accuracy: 0.6407\n",
      "Epoch 6/15\n",
      "31/31 [==============================] - 0s 3ms/step - loss: 0.6123 - accuracy: 0.6683 - val_loss: 0.6353 - val_accuracy: 0.6447\n",
      "Epoch 7/15\n",
      "31/31 [==============================] - 0s 3ms/step - loss: 0.6095 - accuracy: 0.6738 - val_loss: 0.6295 - val_accuracy: 0.6457\n",
      "Epoch 8/15\n",
      "31/31 [==============================] - 0s 3ms/step - loss: 0.6112 - accuracy: 0.6809 - val_loss: 0.6280 - val_accuracy: 0.6518\n",
      "Epoch 9/15\n",
      "31/31 [==============================] - 0s 3ms/step - loss: 0.6060 - accuracy: 0.6731 - val_loss: 0.6278 - val_accuracy: 0.6549\n",
      "Epoch 10/15\n",
      "31/31 [==============================] - 0s 3ms/step - loss: 0.6100 - accuracy: 0.6721 - val_loss: 0.6282 - val_accuracy: 0.6488\n",
      "Epoch 11/15\n",
      "31/31 [==============================] - 0s 3ms/step - loss: 0.6006 - accuracy: 0.6779 - val_loss: 0.6264 - val_accuracy: 0.6528\n",
      "Epoch 12/15\n",
      "31/31 [==============================] - 0s 3ms/step - loss: 0.6030 - accuracy: 0.6774 - val_loss: 0.6246 - val_accuracy: 0.6609\n",
      "Epoch 13/15\n",
      "31/31 [==============================] - 0s 3ms/step - loss: 0.6027 - accuracy: 0.6746 - val_loss: 0.6335 - val_accuracy: 0.6498\n",
      "Epoch 14/15\n",
      "31/31 [==============================] - 0s 3ms/step - loss: 0.6006 - accuracy: 0.6842 - val_loss: 0.6250 - val_accuracy: 0.6559\n",
      "Epoch 15/15\n",
      "31/31 [==============================] - 0s 3ms/step - loss: 0.6011 - accuracy: 0.6799 - val_loss: 0.6281 - val_accuracy: 0.6468\n",
      "9/9 [==============================] - 0s 2ms/step - loss: 0.6270 - accuracy: 0.6422\n",
      "Model accuracy is: 0.6421845555305481\n",
      "\n",
      "Running the sensitivity analysis feature by feature. This might take a while.\n"
     ]
    },
    {
     "name": "stderr",
     "output_type": "stream",
     "text": [
      "[Parallel(n_jobs=-1)]: Using backend ThreadingBackend with 16 concurrent workers.\n",
      "[Parallel(n_jobs=-1)]: Done   2 out of   9 | elapsed:    9.3s remaining:   32.5s\n",
      "[Parallel(n_jobs=-1)]: Done   4 out of   9 | elapsed:   14.0s remaining:   17.6s\n",
      "[Parallel(n_jobs=-1)]: Done   6 out of   9 | elapsed:   14.5s remaining:    7.3s\n",
      "[Parallel(n_jobs=-1)]: Done   9 out of   9 | elapsed:   14.6s finished\n"
     ]
    },
    {
     "name": "stdout",
     "output_type": "stream",
     "text": [
      "RUNNING ANALYSIS FOR TRAINING TYPE: 'remove_feature_sex'\n",
      "\n",
      "List of numeric features for this dataset: ['age', 'juv_fel_count', 'juv_misd_count', 'juv_other_count', 'priors_count']\n",
      "List of non-numeric features: ['age_cat', 'race', 'c_charge_degree', 'c_charge_desc']\n",
      "\n",
      "Total number of training samples: 3949\n",
      "Total number of validation samples: 988\n",
      "Total number of test samples: 1235\n",
      "\n",
      "Training the model:\n",
      "Epoch 1/15\n",
      "31/31 [==============================] - 1s 10ms/step - loss: 0.7221 - accuracy: 0.5092 - val_loss: 0.6831 - val_accuracy: 0.5698\n",
      "Epoch 2/15\n",
      "31/31 [==============================] - 0s 3ms/step - loss: 0.7056 - accuracy: 0.5234 - val_loss: 0.6821 - val_accuracy: 0.5830\n",
      "Epoch 3/15\n",
      "31/31 [==============================] - 0s 3ms/step - loss: 0.6838 - accuracy: 0.5644 - val_loss: 0.6787 - val_accuracy: 0.5577\n",
      "Epoch 4/15\n",
      "31/31 [==============================] - 0s 3ms/step - loss: 0.6616 - accuracy: 0.6080 - val_loss: 0.6314 - val_accuracy: 0.6549\n",
      "Epoch 5/15\n",
      "31/31 [==============================] - 0s 3ms/step - loss: 0.6272 - accuracy: 0.6538 - val_loss: 0.6302 - val_accuracy: 0.6619\n",
      "Epoch 6/15\n",
      "31/31 [==============================] - 0s 3ms/step - loss: 0.6229 - accuracy: 0.6635 - val_loss: 0.6291 - val_accuracy: 0.6559\n",
      "Epoch 7/15\n",
      "31/31 [==============================] - 0s 3ms/step - loss: 0.6170 - accuracy: 0.6642 - val_loss: 0.6298 - val_accuracy: 0.6538\n",
      "Epoch 8/15\n",
      "31/31 [==============================] - 0s 3ms/step - loss: 0.6133 - accuracy: 0.6614 - val_loss: 0.6293 - val_accuracy: 0.6559\n",
      "Epoch 9/15\n",
      "31/31 [==============================] - 0s 3ms/step - loss: 0.6130 - accuracy: 0.6769 - val_loss: 0.6271 - val_accuracy: 0.6569\n",
      "Epoch 10/15\n",
      "31/31 [==============================] - 0s 3ms/step - loss: 0.6094 - accuracy: 0.6716 - val_loss: 0.6334 - val_accuracy: 0.6599\n",
      "Epoch 11/15\n",
      "31/31 [==============================] - 0s 3ms/step - loss: 0.6054 - accuracy: 0.6756 - val_loss: 0.6290 - val_accuracy: 0.6700\n",
      "Epoch 12/15\n",
      "31/31 [==============================] - 0s 3ms/step - loss: 0.6095 - accuracy: 0.6685 - val_loss: 0.6265 - val_accuracy: 0.6700\n",
      "Epoch 13/15\n",
      "31/31 [==============================] - 0s 3ms/step - loss: 0.6056 - accuracy: 0.6779 - val_loss: 0.6283 - val_accuracy: 0.6579\n",
      "Epoch 14/15\n",
      "31/31 [==============================] - 0s 3ms/step - loss: 0.6073 - accuracy: 0.6789 - val_loss: 0.6276 - val_accuracy: 0.6599\n",
      "Epoch 15/15\n",
      "31/31 [==============================] - 0s 3ms/step - loss: 0.6065 - accuracy: 0.6738 - val_loss: 0.6254 - val_accuracy: 0.6680\n",
      "9/9 [==============================] - 0s 2ms/step - loss: 0.6053 - accuracy: 0.6675\n",
      "Model accuracy is: 0.6675392389297485\n",
      "\n",
      "Running the sensitivity analysis feature by feature. This might take a while.\n"
     ]
    },
    {
     "name": "stderr",
     "output_type": "stream",
     "text": [
      "[Parallel(n_jobs=-1)]: Using backend ThreadingBackend with 16 concurrent workers.\n",
      "[Parallel(n_jobs=-1)]: Done   3 out of   8 | elapsed:   13.0s remaining:   21.7s\n",
      "[Parallel(n_jobs=-1)]: Done   5 out of   8 | elapsed:   13.6s remaining:    8.2s\n",
      "[Parallel(n_jobs=-1)]: Done   8 out of   8 | elapsed:   13.7s finished\n"
     ]
    },
    {
     "name": "stdout",
     "output_type": "stream",
     "text": [
      "RUNNING ANALYSIS FOR TRAINING TYPE: 'remove_feature_age'\n",
      "\n",
      "List of numeric features for this dataset: ['juv_fel_count', 'juv_misd_count', 'juv_other_count', 'priors_count']\n",
      "List of non-numeric features: ['sex', 'age_cat', 'race', 'c_charge_degree', 'c_charge_desc']\n",
      "\n",
      "Total number of training samples: 3949\n",
      "Total number of validation samples: 988\n",
      "Total number of test samples: 1235\n",
      "\n",
      "Training the model:\n",
      "Epoch 1/15\n",
      "31/31 [==============================] - 2s 11ms/step - loss: 0.7136 - accuracy: 0.5204 - val_loss: 0.6982 - val_accuracy: 0.4474\n",
      "Epoch 2/15\n",
      "31/31 [==============================] - 0s 3ms/step - loss: 0.7034 - accuracy: 0.5199 - val_loss: 0.6795 - val_accuracy: 0.5911\n",
      "Epoch 3/15\n",
      "31/31 [==============================] - 0s 3ms/step - loss: 0.6869 - accuracy: 0.5574 - val_loss: 0.6538 - val_accuracy: 0.6265\n",
      "Epoch 4/15\n",
      "31/31 [==============================] - 0s 3ms/step - loss: 0.6565 - accuracy: 0.6088 - val_loss: 0.6361 - val_accuracy: 0.6549\n",
      "Epoch 5/15\n",
      "31/31 [==============================] - 0s 3ms/step - loss: 0.6302 - accuracy: 0.6538 - val_loss: 0.6229 - val_accuracy: 0.6538\n",
      "Epoch 6/15\n",
      "31/31 [==============================] - 0s 3ms/step - loss: 0.6279 - accuracy: 0.6614 - val_loss: 0.6186 - val_accuracy: 0.6751\n",
      "Epoch 7/15\n",
      "31/31 [==============================] - 0s 3ms/step - loss: 0.6212 - accuracy: 0.6630 - val_loss: 0.6144 - val_accuracy: 0.6579\n",
      "Epoch 8/15\n",
      "31/31 [==============================] - 0s 3ms/step - loss: 0.6227 - accuracy: 0.6627 - val_loss: 0.6131 - val_accuracy: 0.6660\n",
      "Epoch 9/15\n",
      "31/31 [==============================] - 0s 3ms/step - loss: 0.6157 - accuracy: 0.6703 - val_loss: 0.6154 - val_accuracy: 0.6579\n",
      "Epoch 10/15\n",
      "31/31 [==============================] - 0s 3ms/step - loss: 0.6151 - accuracy: 0.6759 - val_loss: 0.6238 - val_accuracy: 0.6751\n",
      "Epoch 11/15\n",
      "31/31 [==============================] - 0s 3ms/step - loss: 0.6151 - accuracy: 0.6650 - val_loss: 0.6116 - val_accuracy: 0.6690\n",
      "Epoch 12/15\n",
      "31/31 [==============================] - 0s 3ms/step - loss: 0.6131 - accuracy: 0.6693 - val_loss: 0.6141 - val_accuracy: 0.6508\n",
      "Epoch 13/15\n",
      "31/31 [==============================] - 0s 3ms/step - loss: 0.6132 - accuracy: 0.6728 - val_loss: 0.6142 - val_accuracy: 0.6609\n",
      "Epoch 14/15\n",
      "31/31 [==============================] - 0s 3ms/step - loss: 0.6118 - accuracy: 0.6693 - val_loss: 0.6117 - val_accuracy: 0.6680\n",
      "Epoch 15/15\n",
      "31/31 [==============================] - 0s 3ms/step - loss: 0.6121 - accuracy: 0.6695 - val_loss: 0.6163 - val_accuracy: 0.6660\n",
      "9/9 [==============================] - 0s 1ms/step - loss: 0.6148 - accuracy: 0.6611\n",
      "Model accuracy is: 0.6611418128013611\n",
      "\n",
      "Running the sensitivity analysis feature by feature. This might take a while.\n"
     ]
    },
    {
     "name": "stderr",
     "output_type": "stream",
     "text": [
      "[Parallel(n_jobs=-1)]: Using backend ThreadingBackend with 16 concurrent workers.\n",
      "[Parallel(n_jobs=-1)]: Done   3 out of   8 | elapsed:    9.6s remaining:   16.0s\n",
      "[Parallel(n_jobs=-1)]: Done   5 out of   8 | elapsed:   12.4s remaining:    7.4s\n",
      "[Parallel(n_jobs=-1)]: Done   8 out of   8 | elapsed:   12.5s finished\n"
     ]
    },
    {
     "name": "stdout",
     "output_type": "stream",
     "text": [
      "RUNNING ANALYSIS FOR TRAINING TYPE: 'remove_feature_age_cat'\n",
      "\n",
      "List of numeric features for this dataset: ['age', 'juv_fel_count', 'juv_misd_count', 'juv_other_count', 'priors_count']\n",
      "List of non-numeric features: ['sex', 'race', 'c_charge_degree', 'c_charge_desc']\n",
      "\n",
      "Total number of training samples: 3949\n",
      "Total number of validation samples: 988\n",
      "Total number of test samples: 1235\n",
      "\n",
      "Training the model:\n",
      "Epoch 1/15\n",
      "31/31 [==============================] - 2s 10ms/step - loss: 0.7295 - accuracy: 0.5166 - val_loss: 0.6931 - val_accuracy: 0.4494\n",
      "Epoch 2/15\n",
      "31/31 [==============================] - 0s 3ms/step - loss: 0.7163 - accuracy: 0.5108 - val_loss: 0.6829 - val_accuracy: 0.5962\n",
      "Epoch 3/15\n",
      "31/31 [==============================] - 0s 3ms/step - loss: 0.7017 - accuracy: 0.5358 - val_loss: 0.6619 - val_accuracy: 0.5719\n",
      "Epoch 4/15\n",
      "31/31 [==============================] - 0s 3ms/step - loss: 0.6714 - accuracy: 0.5850 - val_loss: 0.6191 - val_accuracy: 0.6609\n",
      "Epoch 5/15\n",
      "31/31 [==============================] - 0s 3ms/step - loss: 0.6466 - accuracy: 0.6333 - val_loss: 0.6048 - val_accuracy: 0.6842\n",
      "Epoch 6/15\n",
      "31/31 [==============================] - 0s 3ms/step - loss: 0.6308 - accuracy: 0.6513 - val_loss: 0.6047 - val_accuracy: 0.6690\n",
      "Epoch 7/15\n",
      "31/31 [==============================] - 0s 3ms/step - loss: 0.6252 - accuracy: 0.6566 - val_loss: 0.5978 - val_accuracy: 0.6893\n",
      "Epoch 8/15\n",
      "31/31 [==============================] - 0s 3ms/step - loss: 0.6213 - accuracy: 0.6592 - val_loss: 0.5967 - val_accuracy: 0.6862\n",
      "Epoch 9/15\n",
      "31/31 [==============================] - 0s 3ms/step - loss: 0.6197 - accuracy: 0.6673 - val_loss: 0.5982 - val_accuracy: 0.6771\n",
      "Epoch 10/15\n",
      "31/31 [==============================] - 0s 3ms/step - loss: 0.6190 - accuracy: 0.6632 - val_loss: 0.6068 - val_accuracy: 0.6660\n",
      "Epoch 11/15\n",
      "31/31 [==============================] - 0s 3ms/step - loss: 0.6191 - accuracy: 0.6655 - val_loss: 0.6220 - val_accuracy: 0.6549\n",
      "Epoch 12/15\n",
      "31/31 [==============================] - 0s 3ms/step - loss: 0.6183 - accuracy: 0.6655 - val_loss: 0.6006 - val_accuracy: 0.6751\n",
      "Epoch 13/15\n",
      "31/31 [==============================] - 0s 3ms/step - loss: 0.6153 - accuracy: 0.6652 - val_loss: 0.5964 - val_accuracy: 0.6791\n",
      "Epoch 14/15\n",
      "31/31 [==============================] - 0s 3ms/step - loss: 0.6136 - accuracy: 0.6756 - val_loss: 0.5959 - val_accuracy: 0.6842\n",
      "Epoch 15/15\n",
      "31/31 [==============================] - 0s 3ms/step - loss: 0.6128 - accuracy: 0.6642 - val_loss: 0.5962 - val_accuracy: 0.6832\n",
      "9/9 [==============================] - 0s 2ms/step - loss: 0.6026 - accuracy: 0.6817\n",
      "Model accuracy is: 0.6817359924316406\n",
      "\n",
      "Running the sensitivity analysis feature by feature. This might take a while.\n"
     ]
    },
    {
     "name": "stderr",
     "output_type": "stream",
     "text": [
      "[Parallel(n_jobs=-1)]: Using backend ThreadingBackend with 16 concurrent workers.\n",
      "[Parallel(n_jobs=-1)]: Done   3 out of   8 | elapsed:   12.5s remaining:   20.8s\n",
      "[Parallel(n_jobs=-1)]: Done   5 out of   8 | elapsed:   13.1s remaining:    7.9s\n",
      "[Parallel(n_jobs=-1)]: Done   8 out of   8 | elapsed:   13.3s finished\n"
     ]
    },
    {
     "name": "stdout",
     "output_type": "stream",
     "text": [
      "RUNNING ANALYSIS FOR TRAINING TYPE: 'remove_feature_race'\n",
      "\n",
      "List of numeric features for this dataset: ['age', 'juv_fel_count', 'juv_misd_count', 'juv_other_count', 'priors_count']\n",
      "List of non-numeric features: ['sex', 'age_cat', 'c_charge_degree', 'c_charge_desc']\n",
      "\n",
      "Total number of training samples: 3949\n",
      "Total number of validation samples: 988\n",
      "Total number of test samples: 1235\n",
      "\n",
      "Training the model:\n",
      "Epoch 1/15\n",
      "31/31 [==============================] - 1s 10ms/step - loss: 0.7365 - accuracy: 0.5065 - val_loss: 0.6846 - val_accuracy: 0.5769\n",
      "Epoch 2/15\n",
      "31/31 [==============================] - 0s 3ms/step - loss: 0.7062 - accuracy: 0.5214 - val_loss: 0.6848 - val_accuracy: 0.6053\n",
      "Epoch 3/15\n",
      "31/31 [==============================] - 0s 3ms/step - loss: 0.6965 - accuracy: 0.5303 - val_loss: 0.6721 - val_accuracy: 0.5769\n",
      "Epoch 4/15\n",
      "31/31 [==============================] - 0s 3ms/step - loss: 0.6781 - accuracy: 0.5695 - val_loss: 0.6438 - val_accuracy: 0.6660\n",
      "Epoch 5/15\n",
      "31/31 [==============================] - 0s 3ms/step - loss: 0.6473 - accuracy: 0.6303 - val_loss: 0.6235 - val_accuracy: 0.6599\n",
      "Epoch 6/15\n",
      "31/31 [==============================] - 0s 3ms/step - loss: 0.6321 - accuracy: 0.6465 - val_loss: 0.6033 - val_accuracy: 0.6883\n",
      "Epoch 7/15\n",
      "31/31 [==============================] - 0s 3ms/step - loss: 0.6242 - accuracy: 0.6566 - val_loss: 0.6075 - val_accuracy: 0.6872\n",
      "Epoch 8/15\n",
      "31/31 [==============================] - 0s 3ms/step - loss: 0.6214 - accuracy: 0.6559 - val_loss: 0.6069 - val_accuracy: 0.6883\n",
      "Epoch 9/15\n",
      "31/31 [==============================] - 0s 3ms/step - loss: 0.6186 - accuracy: 0.6609 - val_loss: 0.6038 - val_accuracy: 0.6923\n",
      "Epoch 10/15\n",
      "31/31 [==============================] - 0s 3ms/step - loss: 0.6115 - accuracy: 0.6700 - val_loss: 0.5990 - val_accuracy: 0.7045\n",
      "Epoch 11/15\n",
      "31/31 [==============================] - 0s 3ms/step - loss: 0.6154 - accuracy: 0.6655 - val_loss: 0.6001 - val_accuracy: 0.7014\n",
      "Epoch 12/15\n",
      "31/31 [==============================] - 0s 3ms/step - loss: 0.6134 - accuracy: 0.6723 - val_loss: 0.5983 - val_accuracy: 0.7065\n",
      "Epoch 13/15\n",
      "31/31 [==============================] - 0s 3ms/step - loss: 0.6131 - accuracy: 0.6650 - val_loss: 0.6070 - val_accuracy: 0.6852\n",
      "Epoch 14/15\n",
      "31/31 [==============================] - 0s 3ms/step - loss: 0.6108 - accuracy: 0.6693 - val_loss: 0.6019 - val_accuracy: 0.6964\n",
      "Epoch 15/15\n",
      "31/31 [==============================] - 0s 3ms/step - loss: 0.6135 - accuracy: 0.6665 - val_loss: 0.6183 - val_accuracy: 0.6700\n",
      "9/9 [==============================] - 0s 2ms/step - loss: 0.5955 - accuracy: 0.6872\n",
      "Model accuracy is: 0.6871609687805176\n",
      "\n",
      "Running the sensitivity analysis feature by feature. This might take a while.\n"
     ]
    },
    {
     "name": "stderr",
     "output_type": "stream",
     "text": [
      "[Parallel(n_jobs=-1)]: Using backend ThreadingBackend with 16 concurrent workers.\n",
      "[Parallel(n_jobs=-1)]: Done   3 out of   8 | elapsed:    9.6s remaining:   16.0s\n",
      "[Parallel(n_jobs=-1)]: Done   5 out of   8 | elapsed:   12.8s remaining:    7.7s\n",
      "[Parallel(n_jobs=-1)]: Done   8 out of   8 | elapsed:   12.8s finished\n"
     ]
    },
    {
     "name": "stdout",
     "output_type": "stream",
     "text": [
      "RUNNING ANALYSIS FOR TRAINING TYPE: 'remove_feature_juv_fel_count'\n",
      "\n",
      "List of numeric features for this dataset: ['age', 'juv_misd_count', 'juv_other_count', 'priors_count']\n",
      "List of non-numeric features: ['sex', 'age_cat', 'race', 'c_charge_degree', 'c_charge_desc']\n",
      "\n",
      "Total number of training samples: 3949\n",
      "Total number of validation samples: 988\n",
      "Total number of test samples: 1235\n",
      "\n",
      "Training the model:\n",
      "Epoch 1/15\n",
      "31/31 [==============================] - 1s 10ms/step - loss: 0.7185 - accuracy: 0.5224 - val_loss: 0.6826 - val_accuracy: 0.5668\n",
      "Epoch 2/15\n",
      "31/31 [==============================] - 0s 3ms/step - loss: 0.7078 - accuracy: 0.5265 - val_loss: 0.6762 - val_accuracy: 0.5739\n",
      "Epoch 3/15\n",
      "31/31 [==============================] - 0s 3ms/step - loss: 0.6874 - accuracy: 0.5536 - val_loss: 0.6578 - val_accuracy: 0.6377\n",
      "Epoch 4/15\n",
      "31/31 [==============================] - 0s 3ms/step - loss: 0.6526 - accuracy: 0.6224 - val_loss: 0.6266 - val_accuracy: 0.6528\n",
      "Epoch 5/15\n",
      "31/31 [==============================] - 0s 3ms/step - loss: 0.6359 - accuracy: 0.6404 - val_loss: 0.6084 - val_accuracy: 0.6761\n",
      "Epoch 6/15\n",
      "31/31 [==============================] - 0s 3ms/step - loss: 0.6290 - accuracy: 0.6493 - val_loss: 0.5998 - val_accuracy: 0.6872\n",
      "Epoch 7/15\n",
      "31/31 [==============================] - 0s 3ms/step - loss: 0.6228 - accuracy: 0.6579 - val_loss: 0.6143 - val_accuracy: 0.6680\n",
      "Epoch 8/15\n",
      "31/31 [==============================] - 0s 3ms/step - loss: 0.6219 - accuracy: 0.6561 - val_loss: 0.5959 - val_accuracy: 0.6953\n",
      "Epoch 9/15\n",
      "31/31 [==============================] - 0s 3ms/step - loss: 0.6260 - accuracy: 0.6584 - val_loss: 0.5963 - val_accuracy: 0.6933\n",
      "Epoch 10/15\n",
      "31/31 [==============================] - 0s 3ms/step - loss: 0.6200 - accuracy: 0.6637 - val_loss: 0.5936 - val_accuracy: 0.6832\n",
      "Epoch 11/15\n",
      "31/31 [==============================] - 0s 3ms/step - loss: 0.6221 - accuracy: 0.6670 - val_loss: 0.5964 - val_accuracy: 0.6984\n",
      "Epoch 12/15\n",
      "31/31 [==============================] - 0s 3ms/step - loss: 0.6176 - accuracy: 0.6624 - val_loss: 0.5936 - val_accuracy: 0.6943\n",
      "Epoch 13/15\n",
      "31/31 [==============================] - 0s 3ms/step - loss: 0.6162 - accuracy: 0.6657 - val_loss: 0.5915 - val_accuracy: 0.6953\n",
      "Epoch 14/15\n",
      "31/31 [==============================] - 0s 3ms/step - loss: 0.6151 - accuracy: 0.6635 - val_loss: 0.5916 - val_accuracy: 0.6893\n",
      "Epoch 15/15\n",
      "31/31 [==============================] - 0s 3ms/step - loss: 0.6144 - accuracy: 0.6655 - val_loss: 0.5942 - val_accuracy: 0.6943\n",
      "9/9 [==============================] - 0s 2ms/step - loss: 0.5906 - accuracy: 0.6802\n",
      "Model accuracy is: 0.6802120208740234\n",
      "\n",
      "Running the sensitivity analysis feature by feature. This might take a while.\n"
     ]
    },
    {
     "name": "stderr",
     "output_type": "stream",
     "text": [
      "[Parallel(n_jobs=-1)]: Using backend ThreadingBackend with 16 concurrent workers.\n",
      "[Parallel(n_jobs=-1)]: Done   3 out of   8 | elapsed:    9.5s remaining:   15.8s\n",
      "[Parallel(n_jobs=-1)]: Done   5 out of   8 | elapsed:   12.6s remaining:    7.5s\n",
      "[Parallel(n_jobs=-1)]: Done   8 out of   8 | elapsed:   12.6s finished\n"
     ]
    },
    {
     "name": "stdout",
     "output_type": "stream",
     "text": [
      "RUNNING ANALYSIS FOR TRAINING TYPE: 'remove_feature_juv_misd_count'\n",
      "\n",
      "List of numeric features for this dataset: ['age', 'juv_fel_count', 'juv_other_count', 'priors_count']\n",
      "List of non-numeric features: ['sex', 'age_cat', 'race', 'c_charge_degree', 'c_charge_desc']\n",
      "\n",
      "Total number of training samples: 3949\n",
      "Total number of validation samples: 988\n",
      "Total number of test samples: 1235\n",
      "\n",
      "Training the model:\n",
      "Epoch 1/15\n",
      "31/31 [==============================] - 2s 10ms/step - loss: 0.7256 - accuracy: 0.5075 - val_loss: 0.6844 - val_accuracy: 0.5607\n",
      "Epoch 2/15\n",
      "31/31 [==============================] - 0s 3ms/step - loss: 0.7087 - accuracy: 0.5222 - val_loss: 0.6802 - val_accuracy: 0.5607\n",
      "Epoch 3/15\n",
      "31/31 [==============================] - 0s 3ms/step - loss: 0.7030 - accuracy: 0.5257 - val_loss: 0.6651 - val_accuracy: 0.5789\n",
      "Epoch 4/15\n",
      "31/31 [==============================] - 0s 3ms/step - loss: 0.6668 - accuracy: 0.5989 - val_loss: 0.6356 - val_accuracy: 0.6296\n",
      "Epoch 5/15\n",
      "31/31 [==============================] - 0s 3ms/step - loss: 0.6354 - accuracy: 0.6478 - val_loss: 0.6148 - val_accuracy: 0.6518\n",
      "Epoch 6/15\n",
      "31/31 [==============================] - 0s 3ms/step - loss: 0.6225 - accuracy: 0.6536 - val_loss: 0.6144 - val_accuracy: 0.6559\n",
      "Epoch 7/15\n",
      "31/31 [==============================] - 0s 3ms/step - loss: 0.6201 - accuracy: 0.6632 - val_loss: 0.6135 - val_accuracy: 0.6630\n",
      "Epoch 8/15\n",
      "31/31 [==============================] - 0s 3ms/step - loss: 0.6132 - accuracy: 0.6736 - val_loss: 0.6127 - val_accuracy: 0.6660\n",
      "Epoch 9/15\n",
      "31/31 [==============================] - 0s 3ms/step - loss: 0.6115 - accuracy: 0.6736 - val_loss: 0.6121 - val_accuracy: 0.6741\n",
      "Epoch 10/15\n",
      "31/31 [==============================] - 0s 3ms/step - loss: 0.6111 - accuracy: 0.6751 - val_loss: 0.6219 - val_accuracy: 0.6589\n",
      "Epoch 11/15\n",
      "31/31 [==============================] - 0s 3ms/step - loss: 0.6108 - accuracy: 0.6761 - val_loss: 0.6197 - val_accuracy: 0.6508\n",
      "Epoch 12/15\n",
      "31/31 [==============================] - 0s 3ms/step - loss: 0.6083 - accuracy: 0.6705 - val_loss: 0.6160 - val_accuracy: 0.6579\n",
      "Epoch 13/15\n",
      "31/31 [==============================] - 0s 3ms/step - loss: 0.6073 - accuracy: 0.6736 - val_loss: 0.6177 - val_accuracy: 0.6518\n",
      "Epoch 14/15\n",
      "31/31 [==============================] - 0s 3ms/step - loss: 0.6039 - accuracy: 0.6766 - val_loss: 0.6113 - val_accuracy: 0.6680\n",
      "Epoch 15/15\n",
      "31/31 [==============================] - 0s 3ms/step - loss: 0.6087 - accuracy: 0.6685 - val_loss: 0.6146 - val_accuracy: 0.6609\n",
      "10/10 [==============================] - 0s 2ms/step - loss: 0.6042 - accuracy: 0.6690\n",
      "Model accuracy is: 0.6689655184745789\n",
      "\n",
      "Running the sensitivity analysis feature by feature. This might take a while.\n"
     ]
    },
    {
     "name": "stderr",
     "output_type": "stream",
     "text": [
      "[Parallel(n_jobs=-1)]: Using backend ThreadingBackend with 16 concurrent workers.\n",
      "[Parallel(n_jobs=-1)]: Done   3 out of   8 | elapsed:    9.7s remaining:   16.1s\n",
      "[Parallel(n_jobs=-1)]: Done   5 out of   8 | elapsed:   12.8s remaining:    7.7s\n",
      "[Parallel(n_jobs=-1)]: Done   8 out of   8 | elapsed:   12.9s finished\n"
     ]
    },
    {
     "name": "stdout",
     "output_type": "stream",
     "text": [
      "RUNNING ANALYSIS FOR TRAINING TYPE: 'remove_feature_juv_other_count'\n",
      "\n",
      "List of numeric features for this dataset: ['age', 'juv_fel_count', 'juv_misd_count', 'priors_count']\n",
      "List of non-numeric features: ['sex', 'age_cat', 'race', 'c_charge_degree', 'c_charge_desc']\n",
      "\n",
      "Total number of training samples: 3949\n",
      "Total number of validation samples: 988\n",
      "Total number of test samples: 1235\n",
      "\n",
      "Training the model:\n",
      "Epoch 1/15\n",
      "31/31 [==============================] - 2s 11ms/step - loss: 0.7272 - accuracy: 0.5067 - val_loss: 0.6896 - val_accuracy: 0.5314\n",
      "Epoch 2/15\n",
      "31/31 [==============================] - 0s 3ms/step - loss: 0.7105 - accuracy: 0.5168 - val_loss: 0.6826 - val_accuracy: 0.6700\n",
      "Epoch 3/15\n",
      "31/31 [==============================] - 0s 3ms/step - loss: 0.6919 - accuracy: 0.5480 - val_loss: 0.6578 - val_accuracy: 0.6589\n",
      "Epoch 4/15\n",
      "31/31 [==============================] - 0s 3ms/step - loss: 0.6580 - accuracy: 0.6040 - val_loss: 0.6195 - val_accuracy: 0.6670\n",
      "Epoch 5/15\n",
      "31/31 [==============================] - 0s 3ms/step - loss: 0.6310 - accuracy: 0.6526 - val_loss: 0.6131 - val_accuracy: 0.6559\n",
      "Epoch 6/15\n",
      "31/31 [==============================] - 0s 3ms/step - loss: 0.6290 - accuracy: 0.6511 - val_loss: 0.6050 - val_accuracy: 0.6731\n",
      "Epoch 7/15\n",
      "31/31 [==============================] - 0s 3ms/step - loss: 0.6176 - accuracy: 0.6657 - val_loss: 0.6056 - val_accuracy: 0.6751\n",
      "Epoch 8/15\n",
      "31/31 [==============================] - 0s 3ms/step - loss: 0.6190 - accuracy: 0.6622 - val_loss: 0.6038 - val_accuracy: 0.6771\n",
      "Epoch 9/15\n",
      "31/31 [==============================] - 0s 3ms/step - loss: 0.6177 - accuracy: 0.6683 - val_loss: 0.6058 - val_accuracy: 0.6690\n",
      "Epoch 10/15\n",
      "31/31 [==============================] - 0s 3ms/step - loss: 0.6136 - accuracy: 0.6751 - val_loss: 0.6011 - val_accuracy: 0.6771\n",
      "Epoch 11/15\n",
      "31/31 [==============================] - 0s 3ms/step - loss: 0.6152 - accuracy: 0.6680 - val_loss: 0.6042 - val_accuracy: 0.6711\n",
      "Epoch 12/15\n",
      "31/31 [==============================] - 0s 3ms/step - loss: 0.6100 - accuracy: 0.6751 - val_loss: 0.6014 - val_accuracy: 0.6812\n",
      "Epoch 13/15\n",
      "31/31 [==============================] - 0s 3ms/step - loss: 0.6090 - accuracy: 0.6784 - val_loss: 0.5998 - val_accuracy: 0.6781\n",
      "Epoch 14/15\n",
      "31/31 [==============================] - 0s 3ms/step - loss: 0.6089 - accuracy: 0.6721 - val_loss: 0.6071 - val_accuracy: 0.6741\n",
      "Epoch 15/15\n",
      "31/31 [==============================] - 0s 3ms/step - loss: 0.6089 - accuracy: 0.6787 - val_loss: 0.6036 - val_accuracy: 0.6771\n",
      "9/9 [==============================] - 0s 1ms/step - loss: 0.6190 - accuracy: 0.6768\n",
      "Model accuracy is: 0.6767857074737549\n",
      "\n",
      "Running the sensitivity analysis feature by feature. This might take a while.\n"
     ]
    },
    {
     "name": "stderr",
     "output_type": "stream",
     "text": [
      "[Parallel(n_jobs=-1)]: Using backend ThreadingBackend with 16 concurrent workers.\n",
      "[Parallel(n_jobs=-1)]: Done   3 out of   8 | elapsed:    9.7s remaining:   16.1s\n",
      "[Parallel(n_jobs=-1)]: Done   5 out of   8 | elapsed:   12.7s remaining:    7.6s\n",
      "[Parallel(n_jobs=-1)]: Done   8 out of   8 | elapsed:   12.8s finished\n"
     ]
    },
    {
     "name": "stdout",
     "output_type": "stream",
     "text": [
      "RUNNING ANALYSIS FOR TRAINING TYPE: 'remove_feature_priors_count'\n",
      "\n",
      "List of numeric features for this dataset: ['age', 'juv_fel_count', 'juv_misd_count', 'juv_other_count']\n",
      "List of non-numeric features: ['sex', 'age_cat', 'race', 'c_charge_degree', 'c_charge_desc']\n",
      "\n",
      "Total number of training samples: 3949\n",
      "Total number of validation samples: 988\n",
      "Total number of test samples: 1235\n",
      "\n",
      "Training the model:\n",
      "Epoch 1/15\n",
      "31/31 [==============================] - 2s 10ms/step - loss: 0.7444 - accuracy: 0.5065 - val_loss: 0.7016 - val_accuracy: 0.5061\n",
      "Epoch 2/15\n",
      "31/31 [==============================] - 0s 3ms/step - loss: 0.7208 - accuracy: 0.5237 - val_loss: 0.6910 - val_accuracy: 0.5142\n",
      "Epoch 3/15\n",
      "31/31 [==============================] - 0s 3ms/step - loss: 0.7068 - accuracy: 0.5287 - val_loss: 0.6879 - val_accuracy: 0.5213\n",
      "Epoch 4/15\n",
      "31/31 [==============================] - 0s 3ms/step - loss: 0.6993 - accuracy: 0.5363 - val_loss: 0.6786 - val_accuracy: 0.5881\n",
      "Epoch 5/15\n",
      "31/31 [==============================] - 0s 3ms/step - loss: 0.6683 - accuracy: 0.5819 - val_loss: 0.7015 - val_accuracy: 0.5516\n",
      "Epoch 6/15\n",
      "31/31 [==============================] - 0s 3ms/step - loss: 0.6613 - accuracy: 0.6077 - val_loss: 0.6771 - val_accuracy: 0.5901\n",
      "Epoch 7/15\n",
      "31/31 [==============================] - 0s 3ms/step - loss: 0.6529 - accuracy: 0.6174 - val_loss: 0.6714 - val_accuracy: 0.5962\n",
      "Epoch 8/15\n",
      "31/31 [==============================] - 0s 3ms/step - loss: 0.6522 - accuracy: 0.6166 - val_loss: 0.6753 - val_accuracy: 0.5921\n",
      "Epoch 9/15\n",
      "31/31 [==============================] - 0s 3ms/step - loss: 0.6477 - accuracy: 0.6118 - val_loss: 0.6838 - val_accuracy: 0.5891\n",
      "Epoch 10/15\n",
      "31/31 [==============================] - 0s 3ms/step - loss: 0.6489 - accuracy: 0.6202 - val_loss: 0.6803 - val_accuracy: 0.5830\n",
      "Epoch 11/15\n",
      "31/31 [==============================] - 0s 3ms/step - loss: 0.6458 - accuracy: 0.6197 - val_loss: 0.6726 - val_accuracy: 0.5911\n",
      "Epoch 12/15\n",
      "31/31 [==============================] - 0s 3ms/step - loss: 0.6469 - accuracy: 0.6207 - val_loss: 0.6739 - val_accuracy: 0.5840\n",
      "Epoch 13/15\n",
      "31/31 [==============================] - 0s 3ms/step - loss: 0.6456 - accuracy: 0.6247 - val_loss: 0.6729 - val_accuracy: 0.5911\n",
      "Epoch 14/15\n",
      "31/31 [==============================] - 0s 3ms/step - loss: 0.6445 - accuracy: 0.6204 - val_loss: 0.6714 - val_accuracy: 0.6032\n",
      "Epoch 15/15\n",
      "31/31 [==============================] - 0s 3ms/step - loss: 0.6473 - accuracy: 0.6240 - val_loss: 0.6880 - val_accuracy: 0.5891\n",
      "9/9 [==============================] - 0s 2ms/step - loss: 0.6715 - accuracy: 0.5962\n",
      "Model accuracy is: 0.5961887240409851\n",
      "\n",
      "Running the sensitivity analysis feature by feature. This might take a while.\n"
     ]
    },
    {
     "name": "stderr",
     "output_type": "stream",
     "text": [
      "[Parallel(n_jobs=-1)]: Using backend ThreadingBackend with 16 concurrent workers.\n",
      "[Parallel(n_jobs=-1)]: Done   3 out of   8 | elapsed:   10.2s remaining:   16.9s\n",
      "[Parallel(n_jobs=-1)]: Done   5 out of   8 | elapsed:   13.2s remaining:    7.9s\n",
      "[Parallel(n_jobs=-1)]: Done   8 out of   8 | elapsed:   13.4s finished\n"
     ]
    },
    {
     "name": "stdout",
     "output_type": "stream",
     "text": [
      "RUNNING ANALYSIS FOR TRAINING TYPE: 'remove_feature_c_charge_degree'\n",
      "\n",
      "List of numeric features for this dataset: ['age', 'juv_fel_count', 'juv_misd_count', 'juv_other_count', 'priors_count']\n",
      "List of non-numeric features: ['sex', 'age_cat', 'race', 'c_charge_desc']\n",
      "\n",
      "Total number of training samples: 3949\n",
      "Total number of validation samples: 988\n",
      "Total number of test samples: 1235\n",
      "\n",
      "Training the model:\n",
      "Epoch 1/15\n",
      "31/31 [==============================] - 2s 10ms/step - loss: 0.7179 - accuracy: 0.5247 - val_loss: 0.6912 - val_accuracy: 0.4615\n",
      "Epoch 2/15\n",
      "31/31 [==============================] - 0s 3ms/step - loss: 0.7157 - accuracy: 0.5146 - val_loss: 0.6758 - val_accuracy: 0.5455\n",
      "Epoch 3/15\n",
      "31/31 [==============================] - 0s 3ms/step - loss: 0.6761 - accuracy: 0.5748 - val_loss: 0.6380 - val_accuracy: 0.6437\n",
      "Epoch 4/15\n",
      "31/31 [==============================] - 0s 3ms/step - loss: 0.6391 - accuracy: 0.6369 - val_loss: 0.6187 - val_accuracy: 0.6660\n",
      "Epoch 5/15\n",
      "31/31 [==============================] - 0s 3ms/step - loss: 0.6295 - accuracy: 0.6503 - val_loss: 0.6283 - val_accuracy: 0.6508\n",
      "Epoch 6/15\n",
      "31/31 [==============================] - 0s 3ms/step - loss: 0.6231 - accuracy: 0.6548 - val_loss: 0.6183 - val_accuracy: 0.6731\n",
      "Epoch 7/15\n",
      "31/31 [==============================] - 0s 3ms/step - loss: 0.6184 - accuracy: 0.6698 - val_loss: 0.6143 - val_accuracy: 0.6923\n",
      "Epoch 8/15\n",
      "31/31 [==============================] - 0s 3ms/step - loss: 0.6170 - accuracy: 0.6655 - val_loss: 0.6141 - val_accuracy: 0.6812\n",
      "Epoch 9/15\n",
      "31/31 [==============================] - 0s 3ms/step - loss: 0.6160 - accuracy: 0.6693 - val_loss: 0.6105 - val_accuracy: 0.6893\n",
      "Epoch 10/15\n",
      "31/31 [==============================] - 0s 3ms/step - loss: 0.6140 - accuracy: 0.6713 - val_loss: 0.6097 - val_accuracy: 0.6852\n",
      "Epoch 11/15\n",
      "31/31 [==============================] - 0s 3ms/step - loss: 0.6127 - accuracy: 0.6711 - val_loss: 0.6099 - val_accuracy: 0.6893\n",
      "Epoch 12/15\n",
      "31/31 [==============================] - 0s 3ms/step - loss: 0.6100 - accuracy: 0.6705 - val_loss: 0.6092 - val_accuracy: 0.6883\n",
      "Epoch 13/15\n",
      "31/31 [==============================] - 0s 3ms/step - loss: 0.6126 - accuracy: 0.6675 - val_loss: 0.6089 - val_accuracy: 0.6862\n",
      "Epoch 14/15\n",
      "31/31 [==============================] - 0s 3ms/step - loss: 0.6090 - accuracy: 0.6779 - val_loss: 0.6114 - val_accuracy: 0.6852\n",
      "Epoch 15/15\n",
      "31/31 [==============================] - 0s 3ms/step - loss: 0.6113 - accuracy: 0.6731 - val_loss: 0.6095 - val_accuracy: 0.6893\n",
      "9/9 [==============================] - 0s 1ms/step - loss: 0.6036 - accuracy: 0.6703\n",
      "Model accuracy is: 0.6702508926391602\n",
      "\n",
      "Running the sensitivity analysis feature by feature. This might take a while.\n"
     ]
    },
    {
     "name": "stderr",
     "output_type": "stream",
     "text": [
      "[Parallel(n_jobs=-1)]: Using backend ThreadingBackend with 16 concurrent workers.\n",
      "[Parallel(n_jobs=-1)]: Done   3 out of   8 | elapsed:   14.2s remaining:   23.6s\n",
      "[Parallel(n_jobs=-1)]: Done   5 out of   8 | elapsed:   14.7s remaining:    8.8s\n",
      "[Parallel(n_jobs=-1)]: Done   8 out of   8 | elapsed:   14.7s finished\n"
     ]
    },
    {
     "name": "stdout",
     "output_type": "stream",
     "text": [
      "RUNNING ANALYSIS FOR TRAINING TYPE: 'remove_feature_c_charge_desc'\n",
      "\n",
      "List of numeric features for this dataset: ['age', 'juv_fel_count', 'juv_misd_count', 'juv_other_count', 'priors_count']\n",
      "List of non-numeric features: ['sex', 'age_cat', 'race', 'c_charge_degree']\n",
      "\n",
      "Total number of training samples: 3949\n",
      "Total number of validation samples: 988\n",
      "Total number of test samples: 1235\n",
      "\n",
      "Training the model:\n",
      "Epoch 1/15\n",
      "31/31 [==============================] - 1s 10ms/step - loss: 0.7150 - accuracy: 0.5110 - val_loss: 0.6892 - val_accuracy: 0.5395\n",
      "Epoch 2/15\n",
      "31/31 [==============================] - 0s 3ms/step - loss: 0.6985 - accuracy: 0.5214 - val_loss: 0.6730 - val_accuracy: 0.5587\n",
      "Epoch 3/15\n",
      "31/31 [==============================] - 0s 3ms/step - loss: 0.6707 - accuracy: 0.5870 - val_loss: 0.6549 - val_accuracy: 0.5870\n",
      "Epoch 4/15\n",
      "31/31 [==============================] - 0s 3ms/step - loss: 0.6385 - accuracy: 0.6432 - val_loss: 0.6267 - val_accuracy: 0.6690\n",
      "Epoch 5/15\n",
      "31/31 [==============================] - 0s 3ms/step - loss: 0.6253 - accuracy: 0.6559 - val_loss: 0.6124 - val_accuracy: 0.6771\n",
      "Epoch 6/15\n",
      "31/31 [==============================] - 0s 3ms/step - loss: 0.6167 - accuracy: 0.6650 - val_loss: 0.6169 - val_accuracy: 0.6680\n",
      "Epoch 7/15\n",
      "31/31 [==============================] - 0s 3ms/step - loss: 0.6201 - accuracy: 0.6637 - val_loss: 0.6173 - val_accuracy: 0.6862\n",
      "Epoch 8/15\n",
      "31/31 [==============================] - 0s 3ms/step - loss: 0.6130 - accuracy: 0.6675 - val_loss: 0.6079 - val_accuracy: 0.6761\n",
      "Epoch 9/15\n",
      "31/31 [==============================] - 0s 3ms/step - loss: 0.6136 - accuracy: 0.6713 - val_loss: 0.6086 - val_accuracy: 0.6883\n",
      "Epoch 10/15\n",
      "31/31 [==============================] - 0s 3ms/step - loss: 0.6136 - accuracy: 0.6718 - val_loss: 0.6076 - val_accuracy: 0.6872\n",
      "Epoch 11/15\n",
      "31/31 [==============================] - 0s 3ms/step - loss: 0.6095 - accuracy: 0.6794 - val_loss: 0.6084 - val_accuracy: 0.6903\n",
      "Epoch 12/15\n",
      "31/31 [==============================] - 0s 3ms/step - loss: 0.6134 - accuracy: 0.6698 - val_loss: 0.6084 - val_accuracy: 0.6741\n",
      "Epoch 13/15\n",
      "31/31 [==============================] - 0s 3ms/step - loss: 0.6124 - accuracy: 0.6718 - val_loss: 0.6062 - val_accuracy: 0.6791\n",
      "Epoch 14/15\n",
      "31/31 [==============================] - 0s 3ms/step - loss: 0.6099 - accuracy: 0.6726 - val_loss: 0.6053 - val_accuracy: 0.6852\n",
      "Epoch 15/15\n",
      "31/31 [==============================] - 0s 3ms/step - loss: 0.6104 - accuracy: 0.6703 - val_loss: 0.6082 - val_accuracy: 0.6893\n",
      "9/9 [==============================] - 0s 1ms/step - loss: 0.6104 - accuracy: 0.6667\n",
      "Model accuracy is: 0.6666666865348816\n",
      "\n",
      "Running the sensitivity analysis feature by feature. This might take a while.\n"
     ]
    },
    {
     "name": "stderr",
     "output_type": "stream",
     "text": [
      "[Parallel(n_jobs=-1)]: Using backend ThreadingBackend with 16 concurrent workers.\n",
      "[Parallel(n_jobs=-1)]: Done   2 out of   9 | elapsed:    8.8s remaining:   30.6s\n",
      "[Parallel(n_jobs=-1)]: Done   4 out of   9 | elapsed:   12.6s remaining:   15.8s\n"
     ]
    },
    {
     "name": "stdout",
     "output_type": "stream",
     "text": [
      "\n",
      "Data Computation Phase Completed Successfully.\n",
      "\n"
     ]
    },
    {
     "name": "stderr",
     "output_type": "stream",
     "text": [
      "[Parallel(n_jobs=-1)]: Done   6 out of   9 | elapsed:   13.7s remaining:    6.9s\n",
      "[Parallel(n_jobs=-1)]: Done   9 out of   9 | elapsed:   13.8s finished\n"
     ]
    }
   ],
   "source": [
    "# Running the analysis itself\n",
    "(\n",
    "    model_evaluation_df,\n",
    "    raw_predictions_df,\n",
    "    predictions_change_df,\n",
    "    volatility_df,\n",
    "    sensitivity_evaluation_df,\n",
    ") = CompileModelAndAnalysis(\n",
    "    training_types,\n",
    "    features_of_interest,\n",
    "    output,\n",
    "    first_dataset_columns_to_remove,\n",
    "    first_dataset_csv_path,\n",
    "    None,\n",
    "    unique_values,\n",
    "    best_params,\n",
    ").main(\n",
    "    recidivism_df\n",
    ")"
   ]
  },
  {
   "cell_type": "code",
   "execution_count": 10,
   "metadata": {},
   "outputs": [],
   "source": [
    "# Saving the computed datasets. These are used in the analysis part of the tool\n",
    "model_evaluation_df.round(2).to_csv(\n",
    "    f\"{output_folder_location}/ml_models_evaluation.csv\", index=False,\n",
    ")\n",
    "raw_predictions_df.round(2).to_csv(\n",
    "    f\"{output_folder_location}/sensitivity_predictions_raw.csv\", index=False,\n",
    ")\n",
    "predictions_change_df.round(2).to_csv(\n",
    "    f\"{output_folder_location}/sensitivity_predictions_change.csv\", index=False,\n",
    ")\n",
    "volatility_df.round(2).to_csv(\n",
    "    f\"{output_folder_location}/sensitivity_predictions_volatility.csv\", index=False,\n",
    ")\n",
    "sensitivity_evaluation_df.round(2).to_csv(\n",
    "    f\"{output_folder_location}/sensitivity_output_evaluation.csv\", index=False,\n",
    ")"
   ]
  },
  {
   "cell_type": "code",
   "execution_count": 11,
   "metadata": {
    "scrolled": true
   },
   "outputs": [
    {
     "name": "stdout",
     "output_type": "stream",
     "text": [
      "Creating visualizations based on the computed datasets.\n",
      "\n",
      "Creating correlation plot.\n",
      "\n",
      "Creating delta bias plots.\n",
      "\n",
      "Creating sensitivity analysis plots.\n",
      "\n",
      "Visualization creation completed.\n",
      "\n"
     ]
    }
   ],
   "source": [
    "# The final step in the bias tool: creating visualization and textual explanations for the computed statistics\n",
    "\n",
    "RunInteraction(first_dataset_csv_path, output, output_folder_location, verbose).main(recidivism_df)"
   ]
  },
  {
   "cell_type": "markdown",
   "metadata": {},
   "source": [
    "# 3. Bias Analysis using the Tool Output"
   ]
  },
  {
   "cell_type": "markdown",
   "metadata": {},
   "source": [
    "We can analyze the output now that the tool has finished running. The data comes in several formats: raw csv files, useful for software pipelines or for detailed inspection, a set of visualizations, and textual Explanations through the logged outputs of the terminal. These will be outlined below, linking back to different concepts of bias. \n",
    "\n",
    "Although fairness might seem intuitive to grasp, there is no single definition of fairness.\n",
    "As we analyze the tool output, we will cover a range of fairness definitions and metrics that have been defined and employed within the context of ML. This list is not exhaustive: it is a selection of definitions that span a range of bias metrics, which have then adapted to be compatible with our tool. \n",
    "In addition, there are trade-offs between satisfying different kinds of fairness (e.g., Equal Opportunity, Demographic Parity, Counterfactual Fairness), making it hard to tackle issues relating to bias.\n",
    "As you complete the tutorial, you are welcome to use other ways of defining bias, including your own."
   ]
  },
  {
   "cell_type": "markdown",
   "metadata": {},
   "source": [
    "### Quick Terminology\n",
    "\n",
    "In a binary classification problem, the user defines a positive class (e.g., output 1) and a negative class (e.g., output 0). \n",
    "If a prediction matches the outcome, it is known as a True Positive for positive predictions, and as a True Negative for negative predictions. \n",
    "Conversely, if a prediction does not match the outcome, it is known as a False Positive for positive predictions, and as a False Negative for negative predictions.\n",
    "\n",
    "We will abbreviate terminology in formulas as follows:\n",
    "\n",
    "TP = True Positives\n",
    "\n",
    "FP = False Positives\n",
    "\n",
    "TN = True Negatives\n",
    "\n",
    "FN = False Negatives\n",
    "\n",
    "It is useful to consider how well a classifier performs on each class, and whether it tends to *confuse* data from one class as belonging to a different one. A confusion matrix displays this data in a matrix format: each column corresponds to an original class (i.e. based on the labels known to be correct), while each row corresponds to a predicted class. Each quadrant represents a different prediction to actual output combination.\n",
    "\n",
    "Please run the below code snippet to visualize this:"
   ]
  },
  {
   "cell_type": "code",
   "execution_count": 12,
   "metadata": {},
   "outputs": [
    {
     "data": {
      "application/vnd.jupyter.widget-view+json": {
       "model_id": "4aafbf1cd06f498b8a1fa661721e3ec1",
       "version_major": 2,
       "version_minor": 0
      },
      "text/plain": [
       "interactive(children=(Dropdown(description='x', options=('ConfusionMatrixRedBlue.png',), value='ConfusionMatri…"
      ]
     },
     "metadata": {},
     "output_type": "display_data"
    },
    {
     "data": {
      "text/plain": [
       "<function __main__.<lambda>(x)>"
      ]
     },
     "execution_count": 12,
     "metadata": {},
     "output_type": "execute_result"
    }
   ],
   "source": [
    "def show_confusion_matrix(file=os.listdir(\"images/confusion_matrix/\")):\n",
    "    display(Image(f\"images/confusion_matrix/{file}\"))\n",
    "\n",
    "\n",
    "interact(lambda x: show_confusion_matrix(x), x=[y for y in os.listdir(\"images/confusion_matrix/\") if not y.startswith(\".\")])"
   ]
  },
  {
   "cell_type": "markdown",
   "metadata": {},
   "source": [
    "## 3.1 CSV Files"
   ]
  },
  {
   "cell_type": "markdown",
   "metadata": {},
   "source": [
    "Five CSV files are created during the analysis. These contain data on evaluation metrics and outputs along different groups. \n",
    "\n",
    "A **group** is defined as a subset of the main dataset that has been filtered down by a specific value of a feature. For example, taking the _race_ attribute, we can create 6 groups, based on the unique values of the feature (Other, African-American, Caucasian, Hispanic, Asian, Native American)."
   ]
  },
  {
   "cell_type": "markdown",
   "metadata": {},
   "source": [
    "### model_evaluation_df"
   ]
  },
  {
   "cell_type": "markdown",
   "metadata": {},
   "source": [
    "This CSV evaluates the model performance, broken down across the (1) training type, (2) feature and (3) feature value. An example of this is: {training_type: original_dataset, feature: sex, feature_value: Male}.\n",
    "\n",
    "Various evaluation and bias metrics are provided in the computed columns, such as true_positives, accuracy, and equalized_odds.\n",
    "\n",
    "From this dataset we could draw conclusions about differences between groups, for example, say if the accuracy between sex–Male and sex–Female differed by a significant margin."
   ]
  },
  {
   "cell_type": "markdown",
   "metadata": {},
   "source": [
    "Please have a look at this dataset and the explanations provided below it."
   ]
  },
  {
   "cell_type": "code",
   "execution_count": 13,
   "metadata": {
    "scrolled": true
   },
   "outputs": [
    {
     "data": {
      "text/html": [
       "<div>\n",
       "<style scoped>\n",
       "    .dataframe tbody tr th:only-of-type {\n",
       "        vertical-align: middle;\n",
       "    }\n",
       "\n",
       "    .dataframe tbody tr th {\n",
       "        vertical-align: top;\n",
       "    }\n",
       "\n",
       "    .dataframe thead th {\n",
       "        text-align: right;\n",
       "    }\n",
       "</style>\n",
       "<table border=\"1\" class=\"dataframe\">\n",
       "  <thead>\n",
       "    <tr style=\"text-align: right;\">\n",
       "      <th></th>\n",
       "      <th>training_type</th>\n",
       "      <th>feature</th>\n",
       "      <th>feature_value</th>\n",
       "      <th>sample_count</th>\n",
       "      <th>true_positives</th>\n",
       "      <th>false_positives</th>\n",
       "      <th>true_negatives</th>\n",
       "      <th>false_negatives</th>\n",
       "      <th>equalized_odds</th>\n",
       "      <th>equal_opportunity</th>\n",
       "      <th>statistical_parity</th>\n",
       "      <th>treatment_equality</th>\n",
       "      <th>accuracy</th>\n",
       "      <th>precision</th>\n",
       "      <th>recall</th>\n",
       "      <th>f1</th>\n",
       "    </tr>\n",
       "  </thead>\n",
       "  <tbody>\n",
       "    <tr>\n",
       "      <th>0</th>\n",
       "      <td>original_dataset</td>\n",
       "      <td>all</td>\n",
       "      <td>all</td>\n",
       "      <td>1062</td>\n",
       "      <td>0.186441</td>\n",
       "      <td>0.189266</td>\n",
       "      <td>0.310734</td>\n",
       "      <td>0.313559</td>\n",
       "      <td>0.187842</td>\n",
       "      <td>0.186441</td>\n",
       "      <td>0.375706</td>\n",
       "      <td>0.144086</td>\n",
       "      <td>0.497175</td>\n",
       "      <td>0.496989</td>\n",
       "      <td>0.497175</td>\n",
       "      <td>0.489285</td>\n",
       "    </tr>\n",
       "    <tr>\n",
       "      <th>1</th>\n",
       "      <td>original_dataset</td>\n",
       "      <td>race</td>\n",
       "      <td>African-American</td>\n",
       "      <td>562</td>\n",
       "      <td>0.286477</td>\n",
       "      <td>0.218861</td>\n",
       "      <td>0.208185</td>\n",
       "      <td>0.286477</td>\n",
       "      <td>0.248145</td>\n",
       "      <td>0.286477</td>\n",
       "      <td>0.505338</td>\n",
       "      <td>0.170124</td>\n",
       "      <td>0.494662</td>\n",
       "      <td>0.504536</td>\n",
       "      <td>0.494662</td>\n",
       "      <td>0.497354</td>\n",
       "    </tr>\n",
       "    <tr>\n",
       "      <th>2</th>\n",
       "      <td>original_dataset</td>\n",
       "      <td>race</td>\n",
       "      <td>Hispanic</td>\n",
       "      <td>84</td>\n",
       "      <td>0.071429</td>\n",
       "      <td>0.119048</td>\n",
       "      <td>0.535714</td>\n",
       "      <td>0.273810</td>\n",
       "      <td>0.089286</td>\n",
       "      <td>0.071429</td>\n",
       "      <td>0.190476</td>\n",
       "      <td>0.093458</td>\n",
       "      <td>0.607143</td>\n",
       "      <td>0.562763</td>\n",
       "      <td>0.607143</td>\n",
       "      <td>0.571158</td>\n",
       "    </tr>\n",
       "    <tr>\n",
       "      <th>3</th>\n",
       "      <td>original_dataset</td>\n",
       "      <td>race</td>\n",
       "      <td>Caucasian</td>\n",
       "      <td>345</td>\n",
       "      <td>0.113043</td>\n",
       "      <td>0.136232</td>\n",
       "      <td>0.423188</td>\n",
       "      <td>0.327536</td>\n",
       "      <td>0.123559</td>\n",
       "      <td>0.113043</td>\n",
       "      <td>0.249275</td>\n",
       "      <td>0.102620</td>\n",
       "      <td>0.536232</td>\n",
       "      <td>0.515147</td>\n",
       "      <td>0.536232</td>\n",
       "      <td>0.505787</td>\n",
       "    </tr>\n",
       "    <tr>\n",
       "      <th>4</th>\n",
       "      <td>original_dataset</td>\n",
       "      <td>race</td>\n",
       "      <td>Other</td>\n",
       "      <td>65</td>\n",
       "      <td>0.061538</td>\n",
       "      <td>0.107692</td>\n",
       "      <td>0.507692</td>\n",
       "      <td>0.323077</td>\n",
       "      <td>0.078322</td>\n",
       "      <td>0.061538</td>\n",
       "      <td>0.169231</td>\n",
       "      <td>0.081395</td>\n",
       "      <td>0.569231</td>\n",
       "      <td>0.515929</td>\n",
       "      <td>0.569231</td>\n",
       "      <td>0.517549</td>\n",
       "    </tr>\n",
       "    <tr>\n",
       "      <th>...</th>\n",
       "      <td>...</td>\n",
       "      <td>...</td>\n",
       "      <td>...</td>\n",
       "      <td>...</td>\n",
       "      <td>...</td>\n",
       "      <td>...</td>\n",
       "      <td>...</td>\n",
       "      <td>...</td>\n",
       "      <td>...</td>\n",
       "      <td>...</td>\n",
       "      <td>...</td>\n",
       "      <td>...</td>\n",
       "      <td>...</td>\n",
       "      <td>...</td>\n",
       "      <td>...</td>\n",
       "      <td>...</td>\n",
       "    </tr>\n",
       "    <tr>\n",
       "      <th>126</th>\n",
       "      <td>remove_feature_c_charge_desc</td>\n",
       "      <td>sex</td>\n",
       "      <td>Male</td>\n",
       "      <td>823</td>\n",
       "      <td>0.263670</td>\n",
       "      <td>0.228433</td>\n",
       "      <td>0.240583</td>\n",
       "      <td>0.267315</td>\n",
       "      <td>0.244789</td>\n",
       "      <td>0.263670</td>\n",
       "      <td>0.492102</td>\n",
       "      <td>0.180249</td>\n",
       "      <td>0.504253</td>\n",
       "      <td>0.506668</td>\n",
       "      <td>0.504253</td>\n",
       "      <td>0.504698</td>\n",
       "    </tr>\n",
       "    <tr>\n",
       "      <th>127</th>\n",
       "      <td>remove_feature_c_charge_desc</td>\n",
       "      <td>sex</td>\n",
       "      <td>Female</td>\n",
       "      <td>209</td>\n",
       "      <td>0.076555</td>\n",
       "      <td>0.177033</td>\n",
       "      <td>0.444976</td>\n",
       "      <td>0.301435</td>\n",
       "      <td>0.106888</td>\n",
       "      <td>0.076555</td>\n",
       "      <td>0.253589</td>\n",
       "      <td>0.136029</td>\n",
       "      <td>0.521531</td>\n",
       "      <td>0.484924</td>\n",
       "      <td>0.521531</td>\n",
       "      <td>0.496158</td>\n",
       "    </tr>\n",
       "    <tr>\n",
       "      <th>128</th>\n",
       "      <td>remove_feature_c_charge_desc</td>\n",
       "      <td>age_cat</td>\n",
       "      <td>25 - 45</td>\n",
       "      <td>580</td>\n",
       "      <td>0.210345</td>\n",
       "      <td>0.206897</td>\n",
       "      <td>0.286207</td>\n",
       "      <td>0.296552</td>\n",
       "      <td>0.208606</td>\n",
       "      <td>0.210345</td>\n",
       "      <td>0.417241</td>\n",
       "      <td>0.159574</td>\n",
       "      <td>0.496552</td>\n",
       "      <td>0.497718</td>\n",
       "      <td>0.496552</td>\n",
       "      <td>0.493108</td>\n",
       "    </tr>\n",
       "    <tr>\n",
       "      <th>129</th>\n",
       "      <td>remove_feature_c_charge_desc</td>\n",
       "      <td>age_cat</td>\n",
       "      <td>Greater than 45</td>\n",
       "      <td>235</td>\n",
       "      <td>0.068085</td>\n",
       "      <td>0.127660</td>\n",
       "      <td>0.476596</td>\n",
       "      <td>0.327660</td>\n",
       "      <td>0.088807</td>\n",
       "      <td>0.068085</td>\n",
       "      <td>0.195745</td>\n",
       "      <td>0.096154</td>\n",
       "      <td>0.544681</td>\n",
       "      <td>0.495728</td>\n",
       "      <td>0.544681</td>\n",
       "      <td>0.500029</td>\n",
       "    </tr>\n",
       "    <tr>\n",
       "      <th>130</th>\n",
       "      <td>remove_feature_c_charge_desc</td>\n",
       "      <td>age_cat</td>\n",
       "      <td>Less than 25</td>\n",
       "      <td>217</td>\n",
       "      <td>0.460829</td>\n",
       "      <td>0.322581</td>\n",
       "      <td>0.082949</td>\n",
       "      <td>0.133641</td>\n",
       "      <td>0.379507</td>\n",
       "      <td>0.460829</td>\n",
       "      <td>0.783410</td>\n",
       "      <td>0.284553</td>\n",
       "      <td>0.543779</td>\n",
       "      <td>0.504998</td>\n",
       "      <td>0.543779</td>\n",
       "      <td>0.505780</td>\n",
       "    </tr>\n",
       "  </tbody>\n",
       "</table>\n",
       "<p>131 rows × 16 columns</p>\n",
       "</div>"
      ],
      "text/plain": [
       "                    training_type  feature     feature_value  sample_count  \\\n",
       "0                original_dataset      all               all          1062   \n",
       "1                original_dataset     race  African-American           562   \n",
       "2                original_dataset     race          Hispanic            84   \n",
       "3                original_dataset     race         Caucasian           345   \n",
       "4                original_dataset     race             Other            65   \n",
       "..                            ...      ...               ...           ...   \n",
       "126  remove_feature_c_charge_desc      sex              Male           823   \n",
       "127  remove_feature_c_charge_desc      sex            Female           209   \n",
       "128  remove_feature_c_charge_desc  age_cat           25 - 45           580   \n",
       "129  remove_feature_c_charge_desc  age_cat   Greater than 45           235   \n",
       "130  remove_feature_c_charge_desc  age_cat      Less than 25           217   \n",
       "\n",
       "     true_positives  false_positives  true_negatives  false_negatives  \\\n",
       "0          0.186441         0.189266        0.310734         0.313559   \n",
       "1          0.286477         0.218861        0.208185         0.286477   \n",
       "2          0.071429         0.119048        0.535714         0.273810   \n",
       "3          0.113043         0.136232        0.423188         0.327536   \n",
       "4          0.061538         0.107692        0.507692         0.323077   \n",
       "..              ...              ...             ...              ...   \n",
       "126        0.263670         0.228433        0.240583         0.267315   \n",
       "127        0.076555         0.177033        0.444976         0.301435   \n",
       "128        0.210345         0.206897        0.286207         0.296552   \n",
       "129        0.068085         0.127660        0.476596         0.327660   \n",
       "130        0.460829         0.322581        0.082949         0.133641   \n",
       "\n",
       "     equalized_odds  equal_opportunity  statistical_parity  \\\n",
       "0          0.187842           0.186441            0.375706   \n",
       "1          0.248145           0.286477            0.505338   \n",
       "2          0.089286           0.071429            0.190476   \n",
       "3          0.123559           0.113043            0.249275   \n",
       "4          0.078322           0.061538            0.169231   \n",
       "..              ...                ...                 ...   \n",
       "126        0.244789           0.263670            0.492102   \n",
       "127        0.106888           0.076555            0.253589   \n",
       "128        0.208606           0.210345            0.417241   \n",
       "129        0.088807           0.068085            0.195745   \n",
       "130        0.379507           0.460829            0.783410   \n",
       "\n",
       "     treatment_equality  accuracy  precision    recall        f1  \n",
       "0              0.144086  0.497175   0.496989  0.497175  0.489285  \n",
       "1              0.170124  0.494662   0.504536  0.494662  0.497354  \n",
       "2              0.093458  0.607143   0.562763  0.607143  0.571158  \n",
       "3              0.102620  0.536232   0.515147  0.536232  0.505787  \n",
       "4              0.081395  0.569231   0.515929  0.569231  0.517549  \n",
       "..                  ...       ...        ...       ...       ...  \n",
       "126            0.180249  0.504253   0.506668  0.504253  0.504698  \n",
       "127            0.136029  0.521531   0.484924  0.521531  0.496158  \n",
       "128            0.159574  0.496552   0.497718  0.496552  0.493108  \n",
       "129            0.096154  0.544681   0.495728  0.544681  0.500029  \n",
       "130            0.284553  0.543779   0.504998  0.543779  0.505780  \n",
       "\n",
       "[131 rows x 16 columns]"
      ]
     },
     "execution_count": 13,
     "metadata": {},
     "output_type": "execute_result"
    }
   ],
   "source": [
    "model_evaluation_df"
   ]
  },
  {
   "cell_type": "markdown",
   "metadata": {},
   "source": [
    "Here is an explanation of each column:\n",
    "\n",
    "Grouping features: these features help identify a \"group\" of individuals in the dataset.\n",
    "- training_type: the type of modification that has been applied to the dataset: either using the original_dataset or a specific feature has been removed.\n",
    "- feature: the input feature that is being scrutinized (e.g., sex, race, age_cat)\n",
    "- feature_value: the specific value of the input feature that is being scrutinized (e.g., for sex, we have Male and Female)\n",
    "- sample_count: the number of individuals that have that specific feature value (e.g., the whole dataset has 1092 samples)\n",
    "\n",
    "Bias Metric Constructors: these four columns help define the bias metrics displayed in this CSV. They each display a ratio between 0 and 1. In a given row, summing the four metrics should yield a value of 1. The metrics are:\n",
    "- true_positives\n",
    "- false_positives\n",
    "- true_negatives\n",
    "- false_negatives\n",
    "\n",
    "Bias Metrics: using the bias metric constructors, five ways of defining bias emerge. These are all computed as a ratio between 0 and 1. For fairness to hold, the computed values for each metric should be the same (or as close as possible) between different groups. For example, we would say there is no bias in terms of equalized odds between sex-Male and sex-Female if both of them had the same value of 0.2. The larger the difference between groups, the larger the bias. The metrics are as follows:\n",
    "- **equalized_odds**: a harmonic mean of the odds of being correctly assigned a positive outcome (TP) and the odds of being incorrectly assigned a positive outcome (FP). For this to hold true, the value should be the same across all groups.\n",
    "- **equal_opportunity**: a relaxation of equalized_odds, where only the odds of being correctly assigned a positive outcome (TP) is computed. For this to hold true, the value should be the same across all groups.\n",
    "- **statistical_parity**: the positivity rate (i.e., TP + FP) of each group is computed, and should be the same across all groups for it to hold true.\n",
    "- **treatment_equality**: the ratio of false positives and false negatives should be the same for each group for this to hold true. The aim of this metric is to avoid a situation where some groups experience a higher ratio of false positives whilst other groups experience higher false negatives.\n",
    "- **Fairness in Relational Domains**: although not shown in the table, this definition is a relaxation of statistical parity. For it to hold true, the positivity rates between groups should be _similar_ to each other, with a user-defined cut-off. This definition may make more sense in practice, as it is unlikely that metrics will be exactly equal.\n",
    "\n",
    "Standard Evaluation Metrics: these are the classic ML metrics used to evaluate output performance.\n",
    "- accuracy: a ratio (beteween 0 and 1) of the proportion of correctly predicted instances.\n",
    "- precision: the proportion of positive identifications that were correct.\n",
    "- recall: the proportion of positives that were correctly identified.\n",
    "- f1: a harmonic mean of precision and recall, aiming to create a balance between the two metrics, as there is usually a trade-off between them."
   ]
  },
  {
   "cell_type": "markdown",
   "metadata": {},
   "source": [
    "___\n",
    "\n",
    "Below are some interactive sliders and visualizations to help inspect the dataset further:"
   ]
  },
  {
   "cell_type": "code",
   "execution_count": 14,
   "metadata": {
    "scrolled": true
   },
   "outputs": [
    {
     "data": {
      "application/vnd.jupyter.widget-view+json": {
       "model_id": "155baa2efd1a416f8ca50eb122edcb01",
       "version_major": 2,
       "version_minor": 0
      },
      "text/plain": [
       "interactive(children=(Dropdown(description='column', options=('true_positives', 'false_positives', 'true_negat…"
      ]
     },
     "metadata": {},
     "output_type": "display_data"
    }
   ],
   "source": [
    "@interact\n",
    "def show_filtered_model_evaluation_bias_metrics(\n",
    "    column=[\n",
    "        \"true_positives\",\n",
    "        \"false_positives\",\n",
    "        \"true_negatives\",\n",
    "        \"false_negatives\",\n",
    "        \"equalized_odds\",\n",
    "        \"equal_opportunity\",\n",
    "        \"statistical_parity\",\n",
    "        \"treatment_equality\",\n",
    "        \"accuracy\",\n",
    "        \"precision\",\n",
    "        \"recall\",\n",
    "        \"f1\",\n",
    "    ],\n",
    "    x=(0, 1, 0.01),\n",
    "):\n",
    "    return model_evaluation_df.loc[model_evaluation_df[column] >= x]"
   ]
  },
  {
   "cell_type": "code",
   "execution_count": 15,
   "metadata": {
    "scrolled": true
   },
   "outputs": [
    {
     "data": {
      "application/vnd.jupyter.widget-view+json": {
       "model_id": "663887d8a56a4080b6b364081f8b3a7a",
       "version_major": 2,
       "version_minor": 0
      },
      "text/plain": [
       "interactive(children=(Dropdown(description='column', options=('sample_count',), value='sample_count'), IntSlid…"
      ]
     },
     "metadata": {},
     "output_type": "display_data"
    }
   ],
   "source": [
    "@interact\n",
    "def show_filtered_model_evaluation_sample_count(column=[\"sample_count\"], x=(0, model_evaluation_df.sample_count.max(), 1)):\n",
    "    return model_evaluation_df.loc[model_evaluation_df[column] >= x]"
   ]
  },
  {
   "cell_type": "markdown",
   "metadata": {},
   "source": [
    "You can also observe the data through a scatter plot (or other visualizations, should you wish to plot your own). Press \"Run Interact\" to start the plotting."
   ]
  },
  {
   "cell_type": "code",
   "execution_count": 16,
   "metadata": {},
   "outputs": [
    {
     "data": {
      "application/vnd.jupyter.widget-view+json": {
       "model_id": "511fd47a6dad410195548dd6fe31b53f",
       "version_major": 2,
       "version_minor": 0
      },
      "text/plain": [
       "interactive(children=(Dropdown(description='x', options=('sample_count', 'true_positives', 'false_positives', …"
      ]
     },
     "metadata": {},
     "output_type": "display_data"
    }
   ],
   "source": [
    "@interact_manual\n",
    "def scatter_plot(\n",
    "    x=list(model_evaluation_df.select_dtypes(\"number\").columns),\n",
    "    y=list(model_evaluation_df.select_dtypes(\"number\").columns)[1:],\n",
    "    theme=list(cf.themes.THEMES.keys()),\n",
    "    colorscale=list(cf.colors._scales_names.keys()),\n",
    "):\n",
    "\n",
    "    model_evaluation_df.iplot(\n",
    "        kind=\"scatter\",\n",
    "        x=x,\n",
    "        y=y,\n",
    "        mode=\"markers\",\n",
    "        xTitle=x.title(),\n",
    "        yTitle=y.title(),\n",
    "        title=f\"Scatter Plot: {y.title()} vs {x.title()}\",\n",
    "        theme=theme,\n",
    "        colorscale=colorscale,\n",
    "    )"
   ]
  },
  {
   "cell_type": "markdown",
   "metadata": {},
   "source": [
    "**Exercise 4**: After playing around with the data, did you notice any difference in the performance of the Neural Network in relation to specific values of features? For example if there were big discrepancies in some evaluation metrics for different feature values of the same feature."
   ]
  },
  {
   "cell_type": "markdown",
   "metadata": {},
   "source": [
    "*Please single (or double) click this box and type your answer here.*"
   ]
  },
  {
   "cell_type": "markdown",
   "metadata": {},
   "source": [
    "### raw_predictions_df"
   ]
  },
  {
   "cell_type": "markdown",
   "metadata": {},
   "source": [
    "This CSV is a log of all the predictions that the tool performs in the sensitivity analysis. **Sensitivity Analysis** is a type of analysis that involves changing a single input feature and observing any changes in output. This processes is repeated across all features and feature values, therefore obtaining an overall image of how sensitive the model is to slight changes in the input.\n",
    "\n",
    "Each row of this CSV represents a prediction for a given (1) training type, (2) feature, (3) original value and (4) new value. For example: {training_type: original_dataset, column_name: age, value_original: x, value_new: -6.0 from the original}. Please note that for continuous variables, the original value is perturbed at fixed percentages from the original value, x. For discrete variables, the original value is changed to each of the other unique values that the feature has.\n",
    "\n",
    "The output columns display the true label of the feature, the original predicted label, and the new predicted label based on changing the value of the feature. The standard deviation tells us how the probability of the output has changed, and the standard deviation direction tells us the direction it has changed in. For example, if a given sample had a 0.53 chance of being output 1, and a 0.47 chance of being output 0, the predicted label would be 1. After changing the value of one feature, the percentages may have changed to 0.55 and 0.45, respectively. This means that the predicted output has shifted 0.02 in the direction of 1.\n",
    "\n",
    "As it is raw data, this dataset can be quite large, but it may be useful to look at if wanting to inspect individuals samples (the file will be located under ``ml_bias_explainability/scripts/data/1_compass_recidivism/output/sensitivity_predictions_raw.csv``)."
   ]
  },
  {
   "cell_type": "code",
   "execution_count": 17,
   "metadata": {
    "scrolled": true
   },
   "outputs": [
    {
     "data": {
      "text/html": [
       "<div>\n",
       "<style scoped>\n",
       "    .dataframe tbody tr th:only-of-type {\n",
       "        vertical-align: middle;\n",
       "    }\n",
       "\n",
       "    .dataframe tbody tr th {\n",
       "        vertical-align: top;\n",
       "    }\n",
       "\n",
       "    .dataframe thead th {\n",
       "        text-align: right;\n",
       "    }\n",
       "</style>\n",
       "<table border=\"1\" class=\"dataframe\">\n",
       "  <thead>\n",
       "    <tr style=\"text-align: right;\">\n",
       "      <th></th>\n",
       "      <th>training_type</th>\n",
       "      <th>column_name</th>\n",
       "      <th>value_original</th>\n",
       "      <th>value_new</th>\n",
       "      <th>label_true</th>\n",
       "      <th>label_predicted_original</th>\n",
       "      <th>label_predicted_new</th>\n",
       "      <th>standard_deviation</th>\n",
       "      <th>standard_deviation_direction</th>\n",
       "    </tr>\n",
       "    <tr>\n",
       "      <th>id</th>\n",
       "      <th></th>\n",
       "      <th></th>\n",
       "      <th></th>\n",
       "      <th></th>\n",
       "      <th></th>\n",
       "      <th></th>\n",
       "      <th></th>\n",
       "      <th></th>\n",
       "      <th></th>\n",
       "    </tr>\n",
       "  </thead>\n",
       "  <tbody>\n",
       "    <tr>\n",
       "      <th>330</th>\n",
       "      <td>original_dataset</td>\n",
       "      <td>age</td>\n",
       "      <td>x</td>\n",
       "      <td>-6.0 from the original</td>\n",
       "      <td>0</td>\n",
       "      <td>0</td>\n",
       "      <td>0</td>\n",
       "      <td>0.009085</td>\n",
       "      <td>1</td>\n",
       "    </tr>\n",
       "    <tr>\n",
       "      <th>2829</th>\n",
       "      <td>original_dataset</td>\n",
       "      <td>age</td>\n",
       "      <td>x</td>\n",
       "      <td>-6.0 from the original</td>\n",
       "      <td>0</td>\n",
       "      <td>0</td>\n",
       "      <td>0</td>\n",
       "      <td>0.035571</td>\n",
       "      <td>0</td>\n",
       "    </tr>\n",
       "    <tr>\n",
       "      <th>7913</th>\n",
       "      <td>original_dataset</td>\n",
       "      <td>age</td>\n",
       "      <td>x</td>\n",
       "      <td>-6.0 from the original</td>\n",
       "      <td>0</td>\n",
       "      <td>0</td>\n",
       "      <td>1</td>\n",
       "      <td>0.590038</td>\n",
       "      <td>1</td>\n",
       "    </tr>\n",
       "    <tr>\n",
       "      <th>7144</th>\n",
       "      <td>original_dataset</td>\n",
       "      <td>age</td>\n",
       "      <td>x</td>\n",
       "      <td>-6.0 from the original</td>\n",
       "      <td>0</td>\n",
       "      <td>0</td>\n",
       "      <td>1</td>\n",
       "      <td>0.355216</td>\n",
       "      <td>1</td>\n",
       "    </tr>\n",
       "    <tr>\n",
       "      <th>10897</th>\n",
       "      <td>original_dataset</td>\n",
       "      <td>age</td>\n",
       "      <td>x</td>\n",
       "      <td>-6.0 from the original</td>\n",
       "      <td>0</td>\n",
       "      <td>0</td>\n",
       "      <td>0</td>\n",
       "      <td>0.020586</td>\n",
       "      <td>1</td>\n",
       "    </tr>\n",
       "    <tr>\n",
       "      <th>...</th>\n",
       "      <td>...</td>\n",
       "      <td>...</td>\n",
       "      <td>...</td>\n",
       "      <td>...</td>\n",
       "      <td>...</td>\n",
       "      <td>...</td>\n",
       "      <td>...</td>\n",
       "      <td>...</td>\n",
       "      <td>...</td>\n",
       "    </tr>\n",
       "    <tr>\n",
       "      <th>5929</th>\n",
       "      <td>remove_feature_c_charge_desc</td>\n",
       "      <td>c_charge_degree</td>\n",
       "      <td>F</td>\n",
       "      <td>M</td>\n",
       "      <td>1</td>\n",
       "      <td>1</td>\n",
       "      <td>0</td>\n",
       "      <td>0.164362</td>\n",
       "      <td>0</td>\n",
       "    </tr>\n",
       "    <tr>\n",
       "      <th>2883</th>\n",
       "      <td>remove_feature_c_charge_desc</td>\n",
       "      <td>c_charge_degree</td>\n",
       "      <td>F</td>\n",
       "      <td>M</td>\n",
       "      <td>1</td>\n",
       "      <td>0</td>\n",
       "      <td>1</td>\n",
       "      <td>0.500734</td>\n",
       "      <td>1</td>\n",
       "    </tr>\n",
       "    <tr>\n",
       "      <th>6525</th>\n",
       "      <td>remove_feature_c_charge_desc</td>\n",
       "      <td>c_charge_degree</td>\n",
       "      <td>F</td>\n",
       "      <td>M</td>\n",
       "      <td>1</td>\n",
       "      <td>1</td>\n",
       "      <td>0</td>\n",
       "      <td>0.186053</td>\n",
       "      <td>0</td>\n",
       "    </tr>\n",
       "    <tr>\n",
       "      <th>3227</th>\n",
       "      <td>remove_feature_c_charge_desc</td>\n",
       "      <td>c_charge_degree</td>\n",
       "      <td>F</td>\n",
       "      <td>M</td>\n",
       "      <td>1</td>\n",
       "      <td>0</td>\n",
       "      <td>1</td>\n",
       "      <td>0.484880</td>\n",
       "      <td>1</td>\n",
       "    </tr>\n",
       "    <tr>\n",
       "      <th>8424</th>\n",
       "      <td>remove_feature_c_charge_desc</td>\n",
       "      <td>c_charge_degree</td>\n",
       "      <td>F</td>\n",
       "      <td>M</td>\n",
       "      <td>1</td>\n",
       "      <td>0</td>\n",
       "      <td>1</td>\n",
       "      <td>0.619614</td>\n",
       "      <td>1</td>\n",
       "    </tr>\n",
       "  </tbody>\n",
       "</table>\n",
       "<p>363634 rows × 9 columns</p>\n",
       "</div>"
      ],
      "text/plain": [
       "                      training_type      column_name value_original  \\\n",
       "id                                                                    \n",
       "330                original_dataset              age              x   \n",
       "2829               original_dataset              age              x   \n",
       "7913               original_dataset              age              x   \n",
       "7144               original_dataset              age              x   \n",
       "10897              original_dataset              age              x   \n",
       "...                             ...              ...            ...   \n",
       "5929   remove_feature_c_charge_desc  c_charge_degree              F   \n",
       "2883   remove_feature_c_charge_desc  c_charge_degree              F   \n",
       "6525   remove_feature_c_charge_desc  c_charge_degree              F   \n",
       "3227   remove_feature_c_charge_desc  c_charge_degree              F   \n",
       "8424   remove_feature_c_charge_desc  c_charge_degree              F   \n",
       "\n",
       "                    value_new  label_true  label_predicted_original  \\\n",
       "id                                                                    \n",
       "330    -6.0 from the original           0                         0   \n",
       "2829   -6.0 from the original           0                         0   \n",
       "7913   -6.0 from the original           0                         0   \n",
       "7144   -6.0 from the original           0                         0   \n",
       "10897  -6.0 from the original           0                         0   \n",
       "...                       ...         ...                       ...   \n",
       "5929                        M           1                         1   \n",
       "2883                        M           1                         0   \n",
       "6525                        M           1                         1   \n",
       "3227                        M           1                         0   \n",
       "8424                        M           1                         0   \n",
       "\n",
       "       label_predicted_new  standard_deviation  standard_deviation_direction  \n",
       "id                                                                            \n",
       "330                      0            0.009085                             1  \n",
       "2829                     0            0.035571                             0  \n",
       "7913                     1            0.590038                             1  \n",
       "7144                     1            0.355216                             1  \n",
       "10897                    0            0.020586                             1  \n",
       "...                    ...                 ...                           ...  \n",
       "5929                     0            0.164362                             0  \n",
       "2883                     1            0.500734                             1  \n",
       "6525                     0            0.186053                             0  \n",
       "3227                     1            0.484880                             1  \n",
       "8424                     1            0.619614                             1  \n",
       "\n",
       "[363634 rows x 9 columns]"
      ]
     },
     "execution_count": 17,
     "metadata": {},
     "output_type": "execute_result"
    }
   ],
   "source": [
    "raw_predictions_df"
   ]
  },
  {
   "cell_type": "markdown",
   "metadata": {},
   "source": [
    "**Bias Metrics present within Sensitivity Analysis**: there are four ways of defining bias that emerge.\n",
    "These metrics are similar to each other in that they want protected characteristics to not affect the output of a model. Given the similarity of the definitions, these are combined through the Sensitivity Analysis.\n",
    "\n",
    "- **Fairness Through Awareness**: any two individuals that are similar based on a computed similarity score should receive the same outcome. For the purpose of our tool, we consider two individuals as similar if they are equal for all input features, except for the one that is being changed.\n",
    "- **Test Fairness**: individuals from each sensitive group (e.g., Sex-Male and Sex-Female) must have an equal probability of correctly belonging to the positive class. In other words, given two almost identical individuals, which have the same values across all input features except for one or more sensitive attributes (e.g., one individual is Male and the other is Female), the probability of belonging to the positive output class must be equal for test fairness to hold.\n",
    "- **Counterfactual Fairness**: this is based on the notion that an outcome is fair for a particular individual if they would receive the same outcome given that they belonged to a different demographic group (in a Counterfactual World). Similarly to the other definitions, this metric is useful as it directly compares individuals that differ only through protected characteristics, to ensure that both sets of individuals receive the same predicted output.\n",
    "- **Conditional Statistical Parity**: this fairness definition states that all groups should have an equal probability of being assigned to a positive outcome given the same set of core input features (a user-defined set of features). This definition is similar to the others above, in that it also states that the output probabilities should not change simply by modifying non-core input features (e.g., the output should not change by modifying sensitive features such as Race)."
   ]
  },
  {
   "cell_type": "markdown",
   "metadata": {},
   "source": [
    "___\n",
    "\n",
    "You can use the function below to find filter specific combinations of input values:"
   ]
  },
  {
   "cell_type": "code",
   "execution_count": 18,
   "metadata": {
    "scrolled": true
   },
   "outputs": [
    {
     "data": {
      "application/vnd.jupyter.widget-view+json": {
       "model_id": "a3601948ef0b4f378d8e8e275a1135c2",
       "version_major": 2,
       "version_minor": 0
      },
      "text/plain": [
       "interactive(children=(Dropdown(description='training_type', options=('remove_feature_juv_fel_count', 'remove_f…"
      ]
     },
     "metadata": {},
     "output_type": "display_data"
    },
    {
     "data": {
      "text/plain": [
       "<function __main__.raw_predictions_interact(training_type, column_name, value_original, value_new, label_true, label_predicted_original, label_predicted_new)>"
      ]
     },
     "execution_count": 18,
     "metadata": {},
     "output_type": "execute_result"
    }
   ],
   "source": [
    "def raw_predictions_interact(\n",
    "    training_type,\n",
    "    column_name,\n",
    "    value_original,\n",
    "    value_new,\n",
    "    label_true,\n",
    "    label_predicted_original,\n",
    "    label_predicted_new,\n",
    "):\n",
    "    return raw_predictions_df[\n",
    "        (raw_predictions_df[\"training_type\"] == training_type)\n",
    "        & (raw_predictions_df[\"column_name\"] == column_name)\n",
    "        & (raw_predictions_df[\"value_original\"] == value_original)\n",
    "        & (raw_predictions_df[\"value_new\"] == value_new)\n",
    "        & (raw_predictions_df[\"label_true\"] == label_true)\n",
    "        & (raw_predictions_df[\"label_predicted_original\"] == label_predicted_original)\n",
    "        & (raw_predictions_df[\"label_predicted_new\"] == label_predicted_new)\n",
    "    ]\n",
    "\n",
    "\n",
    "interact(\n",
    "    raw_predictions_interact,\n",
    "    training_type=list(set(raw_predictions_df[\"training_type\"].values)),\n",
    "    column_name=list(set(raw_predictions_df[\"column_name\"].values)),\n",
    "    value_original=list(set(raw_predictions_df[\"value_original\"].values)),\n",
    "    value_new=list(set(raw_predictions_df[\"value_new\"].values)),\n",
    "    label_true=[1, 0],\n",
    "    label_predicted_original=[1, 0],\n",
    "    label_predicted_new=[1, 0],\n",
    ")"
   ]
  },
  {
   "cell_type": "markdown",
   "metadata": {},
   "source": [
    "You can also observe the data through a bar plot (or other visualizations, should you wish to plot your own, but please be aware that this dataset is very large).\n",
    "\n",
    "To read this chart: if the label_predicted_new matches the label_predicted_original, it means that the sensitivity analysis had no effect on the output. Otherwise, the predicted output has changed."
   ]
  },
  {
   "cell_type": "code",
   "execution_count": 19,
   "metadata": {},
   "outputs": [
    {
     "data": {
      "image/png": "[encoded data removed]",
      "text/plain": [
       "<Figure size 1008x576 with 1 Axes>"
      ]
     },
     "execution_count": 19,
     "metadata": {},
     "output_type": "execute_result"
    }
   ],
   "source": [
    "ax = raw_predictions_df.groupby(['label_predicted_original','label_predicted_new'])['label_predicted_original'].count().unstack(0).plot.bar(figsize=(14,8))\n",
    "_ = ax.set_xlabel('label_predicted_new')\n",
    "_ = ax.set_ylabel('Frequency')\n",
    "ax.figure"
   ]
  },
  {
   "cell_type": "markdown",
   "metadata": {},
   "source": [
    "### predictions_change_df"
   ]
  },
  {
   "cell_type": "markdown",
   "metadata": {},
   "source": [
    "This CSV is an aggregate of the raw_predictions_df. It introduces a size column, that tells the practitioner the effect of perturbing the value of the raw samples on the predicted output label. For example: {training_type: original_dataset, column_name: age, value_original: x, value_new: -3.0 from the original} has some samples where the predicted output changes, and some samples where it stays the same. Rows of interest might be those where a significant number of predictions change. For example, when it comes to bias and discrimination, a problematic outcome might be a significant proportion of predictions changing simply by modifying sex from Male to Female."
   ]
  },
  {
   "cell_type": "markdown",
   "metadata": {},
   "source": [
    "Please have a quick play with this dataset. Again, interactive displays have been included to help draw conclusions"
   ]
  },
  {
   "cell_type": "code",
   "execution_count": 20,
   "metadata": {},
   "outputs": [
    {
     "data": {
      "text/html": [
       "<div>\n",
       "<style scoped>\n",
       "    .dataframe tbody tr th:only-of-type {\n",
       "        vertical-align: middle;\n",
       "    }\n",
       "\n",
       "    .dataframe tbody tr th {\n",
       "        vertical-align: top;\n",
       "    }\n",
       "\n",
       "    .dataframe thead th {\n",
       "        text-align: right;\n",
       "    }\n",
       "</style>\n",
       "<table border=\"1\" class=\"dataframe\">\n",
       "  <thead>\n",
       "    <tr style=\"text-align: right;\">\n",
       "      <th></th>\n",
       "      <th>training_type</th>\n",
       "      <th>column_name</th>\n",
       "      <th>value_original</th>\n",
       "      <th>value_new</th>\n",
       "      <th>label_predicted_original</th>\n",
       "      <th>label_predicted_new</th>\n",
       "      <th>size</th>\n",
       "    </tr>\n",
       "  </thead>\n",
       "  <tbody>\n",
       "    <tr>\n",
       "      <th>0</th>\n",
       "      <td>original_dataset</td>\n",
       "      <td>age</td>\n",
       "      <td>x</td>\n",
       "      <td>-3.0 from the original</td>\n",
       "      <td>0</td>\n",
       "      <td>0</td>\n",
       "      <td>378</td>\n",
       "    </tr>\n",
       "    <tr>\n",
       "      <th>1</th>\n",
       "      <td>original_dataset</td>\n",
       "      <td>age</td>\n",
       "      <td>x</td>\n",
       "      <td>-3.0 from the original</td>\n",
       "      <td>0</td>\n",
       "      <td>1</td>\n",
       "      <td>285</td>\n",
       "    </tr>\n",
       "    <tr>\n",
       "      <th>2</th>\n",
       "      <td>original_dataset</td>\n",
       "      <td>age</td>\n",
       "      <td>x</td>\n",
       "      <td>-3.0 from the original</td>\n",
       "      <td>1</td>\n",
       "      <td>0</td>\n",
       "      <td>235</td>\n",
       "    </tr>\n",
       "    <tr>\n",
       "      <th>3</th>\n",
       "      <td>original_dataset</td>\n",
       "      <td>age</td>\n",
       "      <td>x</td>\n",
       "      <td>-3.0 from the original</td>\n",
       "      <td>1</td>\n",
       "      <td>1</td>\n",
       "      <td>164</td>\n",
       "    </tr>\n",
       "    <tr>\n",
       "      <th>4</th>\n",
       "      <td>original_dataset</td>\n",
       "      <td>age</td>\n",
       "      <td>x</td>\n",
       "      <td>-6.0 from the original</td>\n",
       "      <td>0</td>\n",
       "      <td>0</td>\n",
       "      <td>373</td>\n",
       "    </tr>\n",
       "    <tr>\n",
       "      <th>...</th>\n",
       "      <td>...</td>\n",
       "      <td>...</td>\n",
       "      <td>...</td>\n",
       "      <td>...</td>\n",
       "      <td>...</td>\n",
       "      <td>...</td>\n",
       "      <td>...</td>\n",
       "    </tr>\n",
       "    <tr>\n",
       "      <th>230</th>\n",
       "      <td>remove_feature_c_charge_desc</td>\n",
       "      <td>sex</td>\n",
       "      <td>Male</td>\n",
       "      <td>Female</td>\n",
       "      <td>1</td>\n",
       "      <td>1</td>\n",
       "      <td>130</td>\n",
       "    </tr>\n",
       "    <tr>\n",
       "      <th>231</th>\n",
       "      <td>remove_feature_c_charge_desc</td>\n",
       "      <td>sex</td>\n",
       "      <td>Male</td>\n",
       "      <td>Male</td>\n",
       "      <td>0</td>\n",
       "      <td>0</td>\n",
       "      <td>228</td>\n",
       "    </tr>\n",
       "    <tr>\n",
       "      <th>232</th>\n",
       "      <td>remove_feature_c_charge_desc</td>\n",
       "      <td>sex</td>\n",
       "      <td>Male</td>\n",
       "      <td>Male</td>\n",
       "      <td>0</td>\n",
       "      <td>1</td>\n",
       "      <td>221</td>\n",
       "    </tr>\n",
       "    <tr>\n",
       "      <th>233</th>\n",
       "      <td>remove_feature_c_charge_desc</td>\n",
       "      <td>sex</td>\n",
       "      <td>Male</td>\n",
       "      <td>Male</td>\n",
       "      <td>1</td>\n",
       "      <td>0</td>\n",
       "      <td>197</td>\n",
       "    </tr>\n",
       "    <tr>\n",
       "      <th>234</th>\n",
       "      <td>remove_feature_c_charge_desc</td>\n",
       "      <td>sex</td>\n",
       "      <td>Male</td>\n",
       "      <td>Male</td>\n",
       "      <td>1</td>\n",
       "      <td>1</td>\n",
       "      <td>177</td>\n",
       "    </tr>\n",
       "  </tbody>\n",
       "</table>\n",
       "<p>2577 rows × 7 columns</p>\n",
       "</div>"
      ],
      "text/plain": [
       "                    training_type column_name value_original  \\\n",
       "0                original_dataset         age              x   \n",
       "1                original_dataset         age              x   \n",
       "2                original_dataset         age              x   \n",
       "3                original_dataset         age              x   \n",
       "4                original_dataset         age              x   \n",
       "..                            ...         ...            ...   \n",
       "230  remove_feature_c_charge_desc         sex           Male   \n",
       "231  remove_feature_c_charge_desc         sex           Male   \n",
       "232  remove_feature_c_charge_desc         sex           Male   \n",
       "233  remove_feature_c_charge_desc         sex           Male   \n",
       "234  remove_feature_c_charge_desc         sex           Male   \n",
       "\n",
       "                  value_new  label_predicted_original  label_predicted_new  \\\n",
       "0    -3.0 from the original                         0                    0   \n",
       "1    -3.0 from the original                         0                    1   \n",
       "2    -3.0 from the original                         1                    0   \n",
       "3    -3.0 from the original                         1                    1   \n",
       "4    -6.0 from the original                         0                    0   \n",
       "..                      ...                       ...                  ...   \n",
       "230                  Female                         1                    1   \n",
       "231                    Male                         0                    0   \n",
       "232                    Male                         0                    1   \n",
       "233                    Male                         1                    0   \n",
       "234                    Male                         1                    1   \n",
       "\n",
       "     size  \n",
       "0     378  \n",
       "1     285  \n",
       "2     235  \n",
       "3     164  \n",
       "4     373  \n",
       "..    ...  \n",
       "230   130  \n",
       "231   228  \n",
       "232   221  \n",
       "233   197  \n",
       "234   177  \n",
       "\n",
       "[2577 rows x 7 columns]"
      ]
     },
     "execution_count": 20,
     "metadata": {},
     "output_type": "execute_result"
    }
   ],
   "source": [
    "predictions_change_df"
   ]
  },
  {
   "cell_type": "code",
   "execution_count": 21,
   "metadata": {
    "scrolled": true
   },
   "outputs": [
    {
     "data": {
      "application/vnd.jupyter.widget-view+json": {
       "model_id": "be0e3b49adb249c7b403d72b5037e7ae",
       "version_major": 2,
       "version_minor": 0
      },
      "text/plain": [
       "interactive(children=(Dropdown(description='training_type', options=('remove_feature_juv_fel_count', 'remove_f…"
      ]
     },
     "metadata": {},
     "output_type": "display_data"
    },
    {
     "data": {
      "text/plain": [
       "<function __main__.aggregate_predictions_interact(training_type, column_name)>"
      ]
     },
     "execution_count": 21,
     "metadata": {},
     "output_type": "execute_result"
    }
   ],
   "source": [
    "def aggregate_predictions_interact(training_type, column_name):\n",
    "    return predictions_change_df[\n",
    "        (predictions_change_df[\"training_type\"] == training_type)\n",
    "        & (predictions_change_df[\"column_name\"] == column_name)\n",
    "    ]\n",
    "\n",
    "\n",
    "interact(\n",
    "    aggregate_predictions_interact,\n",
    "    training_type=list(set(predictions_change_df[\"training_type\"].values)),\n",
    "    column_name=list(set(predictions_change_df[\"column_name\"].values)),\n",
    ")"
   ]
  },
  {
   "cell_type": "markdown",
   "metadata": {},
   "source": [
    "**Exercise 5**: After playing around with the data, can you share an example where in the original dataset training type, changing a feature value led to many predictions changing? For that same feature change combination, was there another training type that led to fewer changes in the prediction? The idea here is to mitigate the number of samples changing for features at risk of being discriminatory (_Fairness Through Awareness_ definition of bias)."
   ]
  },
  {
   "cell_type": "markdown",
   "metadata": {},
   "source": [
    "*Please single (or double) click this box and type your answer here.*"
   ]
  },
  {
   "cell_type": "markdown",
   "metadata": {},
   "source": [
    "You can also observe the data through a bar plot (or other visualizations, should you wish to plot your own).\n",
    "\n",
    "The chart below is a way of viewing if the sensitivity analysis had an effect on the output (true if predicted output changed, false otherwise). It is currently broken down by training type, but you can have a play with it and change what column is being used. "
   ]
  },
  {
   "cell_type": "code",
   "execution_count": 22,
   "metadata": {},
   "outputs": [
    {
     "data": {
      "image/png": "[encoded data removed]",
      "text/plain": [
       "<Figure size 1008x576 with 1 Axes>"
      ]
     },
     "execution_count": 22,
     "metadata": {},
     "output_type": "execute_result"
    }
   ],
   "source": [
    "predictions_change_visual_df = predictions_change_df.copy()\n",
    "predictions_change_visual_df[\"prediction_change\"] = predictions_change_visual_df.label_predicted_original != predictions_change_visual_df.label_predicted_new\n",
    "ax = predictions_change_visual_df.groupby([\n",
    "                    \"training_type\", # try changing this with the feature \"column_name\", or another feature of your choice                   \n",
    "                    \"prediction_change\",\n",
    "                ])[\"size\"].sum().unstack(0).plot.bar(figsize=(14,8))\n",
    "_ = ax.set_ylabel('frequency')\n",
    "ax.figure"
   ]
  },
  {
   "cell_type": "markdown",
   "metadata": {},
   "source": [
    "## 3.2 Visualizations"
   ]
  },
  {
   "cell_type": "markdown",
   "metadata": {},
   "source": [
    "This section covers the visualizations that the tool outputs. The visualizations are designed to help inform a practitioner on what kinds of biases might be present in their dataset, and also what the effect is of removing each feature present in the dataset, should the practitioner wish to remove features.\n",
    "It is important to note that there is a trade-off between these different kinds of fairness and also with model performance. Therefore, a practitioner may want to use the visualizations to observe the effect of satisfying different kinds of fairness, whilst taking model performance into account."
   ]
  },
  {
   "cell_type": "markdown",
   "metadata": {},
   "source": [
    "### Analysis 1: Feature Evaluation – Correlation Plot"
   ]
  },
  {
   "cell_type": "markdown",
   "metadata": {},
   "source": [
    "This visualization is a Pearson’s Correlation for each feature combination of the features in the original dataset. The scale is 0 to 1 (absolute values), where 0 is uncorrelated and 1 is fully correlated. Below you'll be able to see a correlation plot for the features in the dataset: to aid inspection, only values above a threshold of 0.2 are displayed. This visualization is useful for practitioners to observe correlations between features. It might be useful in uncovering features that are proxies for biased features, in order to remove them from the model. This brings us to our final bias definition:"
   ]
  },
  {
   "cell_type": "markdown",
   "metadata": {},
   "source": [
    "\n",
    "**Fairness through Unawareness**:\n",
    "In this definition, a model can be considered fair as long as it does not use any input features that are deemed to be protected characteristics (e.g. Race, Sex). This simply involves the practitioner removing discriminatory features from the dataset before the model is even trained.\n",
    "This is quite popular in practice, as it is quick and straightforward to implement, without needing to compute metrics to evaluate potential biases. For example, Google has removed gender labels from image recognition models, replacing labels referring to _man_ and _woman_ with _person_, with the aim of reducing bias. \n",
    "However, the practitioner may want to take this one step further and also remove closely correlated _proxy_ features, as those features may end up being used by the model as an approximation of the removed sensitive features.\n",
    "\n"
   ]
  },
  {
   "cell_type": "code",
   "execution_count": 23,
   "metadata": {
    "scrolled": true
   },
   "outputs": [
    {
     "data": {
      "application/vnd.jupyter.widget-view+json": {
       "model_id": "93a75a8fdab94c8ea8d2a705abd5c418",
       "version_major": 2,
       "version_minor": 0
      },
      "text/plain": [
       "interactive(children=(Dropdown(description='x', options=('correlation_plot.png',), value='correlation_plot.png…"
      ]
     },
     "metadata": {},
     "output_type": "display_data"
    },
    {
     "data": {
      "text/plain": [
       "<function __main__.<lambda>(x)>"
      ]
     },
     "execution_count": 23,
     "metadata": {},
     "output_type": "execute_result"
    }
   ],
   "source": [
    "analysis_1_compass = f\"{output_folder_location}/visualizations/analysis_1\"\n",
    "\n",
    "def show_analysis_1(file=os.listdir(analysis_1_compass)):\n",
    "    display(Image(f\"{analysis_1_compass}/{file}\"))\n",
    "\n",
    "interact(\n",
    "    lambda x: show_analysis_1(x),\n",
    "    x=[y for y in os.listdir(analysis_1_compass) if not y.startswith(\".\")],\n",
    ")"
   ]
  },
  {
   "cell_type": "markdown",
   "metadata": {},
   "source": [
    "**Exercise 6**: Which feature pairs have the highest correlation between them? Given the _Fairness through Unawareness_ definition of bias, would you keep both, one, or neither feature?"
   ]
  },
  {
   "cell_type": "markdown",
   "metadata": {},
   "source": [
    "*Please single (or double) click this box and type your answer here.*"
   ]
  },
  {
   "cell_type": "markdown",
   "metadata": {},
   "source": [
    "### Analysis 2: Relative Delta Bias"
   ]
  },
  {
   "cell_type": "markdown",
   "metadata": {},
   "source": [
    "These visualizations compare the differences in feature value metrics for each feature by training type, computing a feature value delta using the max difference in each of the summary metrics.\n",
    "\n",
    "In other words:\n",
    "- For each performance metric (e.g., accuracy, recall)\n",
    "- For each training type (e.g., all_features, remove_sex)\n",
    "- For each user-chosen feature that has computed metrics (e.g., a user may choose protected characteristics such as Race and Sex)\n",
    "- A delta is computed between the maximum and minimum performance of feature values of a feature (i.e., a group)."
   ]
  },
  {
   "cell_type": "markdown",
   "metadata": {},
   "source": [
    "Linking back to the bias definitions in the section introducing model_evaluation_df, in a truly fair World, metrics such as _equalized_odds_ should be equal among all groups for a given feature. I.e., the _equalized_odds_delta_ should be 0, as that implies that all groups have the same value.\n",
    "\n",
    "A practitioner will want to use this data to select a training type that leads to the lowest relative delta values for a given performance or bias metric. In practice, it may be hard to find an optimal training type that is the minimum delta for all metrics."
   ]
  },
  {
   "cell_type": "markdown",
   "metadata": {},
   "source": [
    "The sketches below are grouped by feature, and have two display modes: stacked or small multiples. Double clicking on visualizations will make it zoom in, which might make the graph more readable."
   ]
  },
  {
   "cell_type": "code",
   "execution_count": 24,
   "metadata": {},
   "outputs": [
    {
     "data": {
      "application/vnd.jupyter.widget-view+json": {
       "model_id": "207336ef56fc46e380f76235a9382c09",
       "version_major": 2,
       "version_minor": 0
      },
      "text/plain": [
       "interactive(children=(Dropdown(description='x', options=('age_cat_small_multiples.png', 'sex_small_multiples.p…"
      ]
     },
     "metadata": {},
     "output_type": "display_data"
    },
    {
     "data": {
      "text/plain": [
       "<function __main__.<lambda>(x)>"
      ]
     },
     "execution_count": 24,
     "metadata": {},
     "output_type": "execute_result"
    }
   ],
   "source": [
    "analysis_2_compass = f\"{output_folder_location}/visualizations/analysis_2_and_3_ml_models/analysis_2_relative_delta_bias/\"\n",
    "\n",
    "def show_analysis_2(file=os.listdir(analysis_2_compass)):\n",
    "    display(Image(f\"{analysis_2_compass}/{file}\"))\n",
    "\n",
    "interact(\n",
    "    lambda x: show_analysis_2(x),\n",
    "    x=[y for y in os.listdir(analysis_2_compass) if not y.startswith(\".\")],\n",
    ")"
   ]
  },
  {
   "cell_type": "markdown",
   "metadata": {},
   "source": [
    "**Exercise 7**: For variable statistical_party_delta, and feature sex, which training type results in the lowest delta metric? Is this an improvement over the original dataset training type? For the definition of statistical_parity_delta, is this dataset now fair?"
   ]
  },
  {
   "cell_type": "markdown",
   "metadata": {},
   "source": [
    "*Please single (or double) click this box and type your answer here.*"
   ]
  },
  {
   "cell_type": "markdown",
   "metadata": {},
   "source": [
    "**Exercise 8**: The 4 bias metrics displayed here are equalized odds, equal opportunity, statistical parity and treatment equality. Out of these bias types, are there any that you are likely to use for this kind of dataset? How did you decide which to use?"
   ]
  },
  {
   "cell_type": "markdown",
   "metadata": {},
   "source": [
    "*Please single (or double) click this box and type your answer here.*"
   ]
  },
  {
   "cell_type": "markdown",
   "metadata": {},
   "source": [
    "### Analysis 3: Absolute Delta Bias"
   ]
  },
  {
   "cell_type": "markdown",
   "metadata": {},
   "source": [
    "This visualization looks at the effect of training type on the same feature value for each evaluation metric. The least biased training option for a feature value can be considered the one with the highest values in the performance metrics.\n",
    "\n",
    "Whilst Analysis 2 looks at the between-feature value effects of different training methods, aiming to minimize the discrepancies in metrics between feature values, Analysis 3 looks at the within-feature value effects of different training types, when compared to the original dataset. In other words, this analysis tells a practitioner if performing a certain modification on the original dataset leads to an improvement in metrics: a positive delta suggests an improvement, whilst a negative value means that the new training method is worse than the original one."
   ]
  },
  {
   "cell_type": "code",
   "execution_count": 25,
   "metadata": {},
   "outputs": [
    {
     "data": {
      "application/vnd.jupyter.widget-view+json": {
       "model_id": "76def2d35b8043b4bc9822e202ebbab8",
       "version_major": 2,
       "version_minor": 0
      },
      "text/plain": [
       "interactive(children=(Dropdown(description='x', options=('race_african_american_small_multiples.png', 'race_ot…"
      ]
     },
     "metadata": {},
     "output_type": "display_data"
    },
    {
     "data": {
      "text/plain": [
       "<function __main__.<lambda>(x)>"
      ]
     },
     "execution_count": 25,
     "metadata": {},
     "output_type": "execute_result"
    }
   ],
   "source": [
    "analysis_3_compass = f\"{output_folder_location}/visualizations/analysis_2_and_3_ml_models/analysis_3_absolute_delta_bias\"\n",
    "\n",
    "def show_analysis_3(file=os.listdir(analysis_3_compass)):\n",
    "    display(Image(f\"{analysis_3_compass}/{file}\"))\n",
    "\n",
    "interact(\n",
    "    lambda x: show_analysis_3(x),\n",
    "    x=[y for y in os.listdir(analysis_3_compass) if not y.startswith(\".\")],\n",
    ")"
   ]
  },
  {
   "cell_type": "markdown",
   "metadata": {},
   "source": [
    "**Exercise 9**: For variable equalized_odds_delta, and feature value African American (race), which training type results in the biggest improvement in score? If you chose this training type, how does it affect the equalized_odds_delta of feature value Caucasian (race)?"
   ]
  },
  {
   "cell_type": "markdown",
   "metadata": {},
   "source": [
    "*Please single (or double) click this box and type your answer here.*"
   ]
  },
  {
   "cell_type": "markdown",
   "metadata": {},
   "source": [
    "### Analysis 4: Prediction Change"
   ]
  },
  {
   "cell_type": "markdown",
   "metadata": {},
   "source": [
    "These visualizations look at the effect of training type on the ratio of samples changing output, for a given sensitive feature and feature value. Based on the bias definitions introduced in raw_predictions_df, the least biased training option for a feature value can be considered the one with the lowest number of samples changing output when that feature value is modified.\n",
    "\n",
    "In the visualization, any training methods with a lower ratio than the original (all_features) signifies an improvement in bias prevention, whilst a higher ratio signifies that the original training method is better."
   ]
  },
  {
   "cell_type": "code",
   "execution_count": 26,
   "metadata": {},
   "outputs": [
    {
     "data": {
      "application/vnd.jupyter.widget-view+json": {
       "model_id": "7a0f1a0318e74eb484a068da10217244",
       "version_major": 2,
       "version_minor": 0
      },
      "text/plain": [
       "interactive(children=(Dropdown(description='x', options=('race_other_stacked_visualization.png', 'age_x_stacke…"
      ]
     },
     "metadata": {},
     "output_type": "display_data"
    },
    {
     "data": {
      "text/plain": [
       "<function __main__.<lambda>(x)>"
      ]
     },
     "execution_count": 26,
     "metadata": {},
     "output_type": "execute_result"
    }
   ],
   "source": [
    "analysis_4_compass = f\"{output_folder_location}/visualizations/analysis_4_and_5_sensitivity/analysis_4_prediction_change\"\n",
    "\n",
    "def show_analysis_4(file=os.listdir(analysis_4_compass)):\n",
    "    display(Image(f\"{analysis_4_compass}/{file}\"))\n",
    "    \n",
    "interact(\n",
    "    lambda x: show_analysis_4(x),\n",
    "    x=[y for y in os.listdir(analysis_4_compass) if not y.startswith(\".\")],\n",
    ")"
   ]
  },
  {
   "cell_type": "markdown",
   "metadata": {},
   "source": [
    "**Exercise 10**: Pick a feature value, and write down which training type leads to the lowest ratio of prediction changes, and which leads to the highest ratio."
   ]
  },
  {
   "cell_type": "markdown",
   "metadata": {},
   "source": [
    "*Please single (or double) click this box and type your answer here.*"
   ]
  },
  {
   "cell_type": "markdown",
   "metadata": {},
   "source": [
    "### Analysis 5: Prediction Volatility"
   ]
  },
  {
   "cell_type": "markdown",
   "metadata": {},
   "source": [
    "These visualizations are very similar to those shown in Analysis 4, however, instead of looking at prediction changes, they look at changes in the prediction probabilities. The least biased training option for a feature value can be considered the one with the lowest changes in the size of probability outputs when that feature value is modified."
   ]
  },
  {
   "cell_type": "code",
   "execution_count": 27,
   "metadata": {},
   "outputs": [
    {
     "data": {
      "application/vnd.jupyter.widget-view+json": {
       "model_id": "39b03786a4c0411793439767b4008639",
       "version_major": 2,
       "version_minor": 0
      },
      "text/plain": [
       "interactive(children=(Dropdown(description='x', options=('race_other_stacked_visualization.png', 'age_x_stacke…"
      ]
     },
     "metadata": {},
     "output_type": "display_data"
    },
    {
     "data": {
      "text/plain": [
       "<function __main__.<lambda>(x)>"
      ]
     },
     "execution_count": 27,
     "metadata": {},
     "output_type": "execute_result"
    }
   ],
   "source": [
    "analysis_5_compass = f\"{output_folder_location}/visualizations/analysis_4_and_5_sensitivity/analysis_5_prediction_volatility\"\n",
    "\n",
    "def show_analysis_5(file=os.listdir(analysis_5_compass)):\n",
    "    display(Image(f\"{analysis_5_compass}/{file}\"))\n",
    "\n",
    "interact(\n",
    "    lambda x: show_analysis_5(x),\n",
    "    x=[y for y in os.listdir(analysis_5_compass) if not y.startswith(\".\")],\n",
    ")"
   ]
  },
  {
   "cell_type": "markdown",
   "metadata": {},
   "source": [
    "**Exercise 11**: Looking at the same feature value that you picked in Exercise 10, has the training type that led to the lowest ratio of prediction changes, and the one that led to the highest ratio changed? If so, what are they now?"
   ]
  },
  {
   "cell_type": "markdown",
   "metadata": {},
   "source": [
    "*Please single (or double) click this box and type your answer here.*"
   ]
  },
  {
   "cell_type": "markdown",
   "metadata": {},
   "source": [
    "___\n",
    "### End of the main part of the study\n",
    "You have now completed the main part of the study. There is an optional exercise below that invites you to apply concepts of bias to a new dataset, should you wish to spend more time learning about bias.\n",
    "\n",
    "If you decide to end the study here, please make sure to **manually save the Notebook** (if you click on _file_ in the top left of the menu bar, there is an option to _save_), and share it with the researchers (also in _file_, click _download_ and select the _.ipynb_ format. You will then be invited to take part in a follow-up interview.\n",
    "\n",
    "___"
   ]
  },
  {
   "cell_type": "markdown",
   "metadata": {},
   "source": [
    "# 4. OPTIONAL Exploration Exercise with a new Dataset"
   ]
  },
  {
   "cell_type": "markdown",
   "metadata": {},
   "source": [
    "The previous sections introduced you to concepts of bias through a tool developed for this study. It followed a dataset called COMPAS Recidivism Dataset. The following **optional** section is meant to be exploratory: it is meant to get you to think about bias in ML. \n",
    "\n",
    "**Exercise 12**: Please try the tool yourself on the following dataset: german credit. This is a popular dataset used for research within the Bias community. Boilerplate code is provided below to help compute the analysis. You are also free to try it on a dataset of your choice, should you prefer to do so.\n",
    "\n",
    "- Please run the analysis and observe the results.\n",
    "- Feel free to implement your own additional code based on other parts of the tutorial or your own knowledge, e.g., to help with visualizing the data, or with understanding bias, or to improve the ML model by trying other parameters. Feel free to add more code boxes using the + button at the top menu of the Notebook. \n",
    "- Please write down a few (at least 3) interesting insights that would help you in model building (e.g., switching training type to remove feature x results in a lower bias for feature y). Feel free to write answers in the space provided _below_.\n",
    "- Think about the different bias metrics (introduced in this tutorial or from your own research or knowledge). Which would you use and why?\n",
    "\n",
    "When you are done exploring, please save the Notebook and share it with the researchers. You will then be invited to take part in a follow-up interview."
   ]
  },
  {
   "cell_type": "markdown",
   "metadata": {},
   "source": [
    "Run the code below to compile the analysis. This is the skeleton code intended to get the tool to compute the analysis, but feel free to add additional code"
   ]
  },
  {
   "cell_type": "code",
   "execution_count": 28,
   "metadata": {},
   "outputs": [],
   "source": [
    "# Variables refering to folder locations for the German Credit dataset are defined here\n",
    "\"\"\"\n",
    "Provide the path to the dataset\n",
    "\"\"\"\n",
    "german_dataset_csv_path = \"scripts/data/3_german_credit/german_credit_data.csv\"\n",
    "\n",
    "\"\"\"\n",
    "Provide a list of columns that need to be removed from the dataset in the pre-processing stage\n",
    "\"\"\"\n",
    "german_dataset_columns_to_remove = Helper.read_yaml(\"scripts/data/3_german_credit/columns_to_remove.yml\")\n",
    "\n",
    "\"\"\"\n",
    "The desired location of the analysis output. These can be accessed at a later stage, \n",
    "to avoid having to re-run everything.\n",
    "\"\"\"\n",
    "german_output_folder_location = \"scripts/data/3_german_credit/output\""
   ]
  },
  {
   "cell_type": "code",
   "execution_count": 29,
   "metadata": {},
   "outputs": [
    {
     "data": {
      "text/html": [
       "<div>\n",
       "<style scoped>\n",
       "    .dataframe tbody tr th:only-of-type {\n",
       "        vertical-align: middle;\n",
       "    }\n",
       "\n",
       "    .dataframe tbody tr th {\n",
       "        vertical-align: top;\n",
       "    }\n",
       "\n",
       "    .dataframe thead th {\n",
       "        text-align: right;\n",
       "    }\n",
       "</style>\n",
       "<table border=\"1\" class=\"dataframe\">\n",
       "  <thead>\n",
       "    <tr style=\"text-align: right;\">\n",
       "      <th></th>\n",
       "      <th>age</th>\n",
       "      <th>sex</th>\n",
       "      <th>job</th>\n",
       "      <th>housing</th>\n",
       "      <th>saving_accounts</th>\n",
       "      <th>checking_account</th>\n",
       "      <th>credit_amount</th>\n",
       "      <th>duration</th>\n",
       "      <th>purpose</th>\n",
       "      <th>risk</th>\n",
       "    </tr>\n",
       "  </thead>\n",
       "  <tbody>\n",
       "    <tr>\n",
       "      <th>0</th>\n",
       "      <td>67</td>\n",
       "      <td>male</td>\n",
       "      <td>2</td>\n",
       "      <td>own</td>\n",
       "      <td></td>\n",
       "      <td>little</td>\n",
       "      <td>1169</td>\n",
       "      <td>6</td>\n",
       "      <td>radio/TV</td>\n",
       "      <td>1</td>\n",
       "    </tr>\n",
       "    <tr>\n",
       "      <th>1</th>\n",
       "      <td>22</td>\n",
       "      <td>female</td>\n",
       "      <td>2</td>\n",
       "      <td>own</td>\n",
       "      <td>little</td>\n",
       "      <td>moderate</td>\n",
       "      <td>5951</td>\n",
       "      <td>48</td>\n",
       "      <td>radio/TV</td>\n",
       "      <td>0</td>\n",
       "    </tr>\n",
       "    <tr>\n",
       "      <th>2</th>\n",
       "      <td>49</td>\n",
       "      <td>male</td>\n",
       "      <td>1</td>\n",
       "      <td>own</td>\n",
       "      <td>little</td>\n",
       "      <td></td>\n",
       "      <td>2096</td>\n",
       "      <td>12</td>\n",
       "      <td>education</td>\n",
       "      <td>1</td>\n",
       "    </tr>\n",
       "    <tr>\n",
       "      <th>3</th>\n",
       "      <td>45</td>\n",
       "      <td>male</td>\n",
       "      <td>2</td>\n",
       "      <td>free</td>\n",
       "      <td>little</td>\n",
       "      <td>little</td>\n",
       "      <td>7882</td>\n",
       "      <td>42</td>\n",
       "      <td>furniture/equipment</td>\n",
       "      <td>1</td>\n",
       "    </tr>\n",
       "    <tr>\n",
       "      <th>4</th>\n",
       "      <td>53</td>\n",
       "      <td>male</td>\n",
       "      <td>2</td>\n",
       "      <td>free</td>\n",
       "      <td>little</td>\n",
       "      <td>little</td>\n",
       "      <td>4870</td>\n",
       "      <td>24</td>\n",
       "      <td>car</td>\n",
       "      <td>0</td>\n",
       "    </tr>\n",
       "    <tr>\n",
       "      <th>...</th>\n",
       "      <td>...</td>\n",
       "      <td>...</td>\n",
       "      <td>...</td>\n",
       "      <td>...</td>\n",
       "      <td>...</td>\n",
       "      <td>...</td>\n",
       "      <td>...</td>\n",
       "      <td>...</td>\n",
       "      <td>...</td>\n",
       "      <td>...</td>\n",
       "    </tr>\n",
       "    <tr>\n",
       "      <th>995</th>\n",
       "      <td>31</td>\n",
       "      <td>female</td>\n",
       "      <td>1</td>\n",
       "      <td>own</td>\n",
       "      <td>little</td>\n",
       "      <td></td>\n",
       "      <td>1736</td>\n",
       "      <td>12</td>\n",
       "      <td>furniture/equipment</td>\n",
       "      <td>1</td>\n",
       "    </tr>\n",
       "    <tr>\n",
       "      <th>996</th>\n",
       "      <td>40</td>\n",
       "      <td>male</td>\n",
       "      <td>3</td>\n",
       "      <td>own</td>\n",
       "      <td>little</td>\n",
       "      <td>little</td>\n",
       "      <td>3857</td>\n",
       "      <td>30</td>\n",
       "      <td>car</td>\n",
       "      <td>1</td>\n",
       "    </tr>\n",
       "    <tr>\n",
       "      <th>997</th>\n",
       "      <td>38</td>\n",
       "      <td>male</td>\n",
       "      <td>2</td>\n",
       "      <td>own</td>\n",
       "      <td>little</td>\n",
       "      <td></td>\n",
       "      <td>804</td>\n",
       "      <td>12</td>\n",
       "      <td>radio/TV</td>\n",
       "      <td>1</td>\n",
       "    </tr>\n",
       "    <tr>\n",
       "      <th>998</th>\n",
       "      <td>23</td>\n",
       "      <td>male</td>\n",
       "      <td>2</td>\n",
       "      <td>free</td>\n",
       "      <td>little</td>\n",
       "      <td>little</td>\n",
       "      <td>1845</td>\n",
       "      <td>45</td>\n",
       "      <td>radio/TV</td>\n",
       "      <td>0</td>\n",
       "    </tr>\n",
       "    <tr>\n",
       "      <th>999</th>\n",
       "      <td>27</td>\n",
       "      <td>male</td>\n",
       "      <td>2</td>\n",
       "      <td>own</td>\n",
       "      <td>moderate</td>\n",
       "      <td>moderate</td>\n",
       "      <td>4576</td>\n",
       "      <td>45</td>\n",
       "      <td>car</td>\n",
       "      <td>1</td>\n",
       "    </tr>\n",
       "  </tbody>\n",
       "</table>\n",
       "<p>1000 rows × 10 columns</p>\n",
       "</div>"
      ],
      "text/plain": [
       "     age     sex  job housing saving_accounts checking_account  credit_amount  \\\n",
       "0     67    male    2     own                           little           1169   \n",
       "1     22  female    2     own          little         moderate           5951   \n",
       "2     49    male    1     own          little                            2096   \n",
       "3     45    male    2    free          little           little           7882   \n",
       "4     53    male    2    free          little           little           4870   \n",
       "..   ...     ...  ...     ...             ...              ...            ...   \n",
       "995   31  female    1     own          little                            1736   \n",
       "996   40    male    3     own          little           little           3857   \n",
       "997   38    male    2     own          little                             804   \n",
       "998   23    male    2    free          little           little           1845   \n",
       "999   27    male    2     own        moderate         moderate           4576   \n",
       "\n",
       "     duration              purpose  risk  \n",
       "0           6             radio/TV     1  \n",
       "1          48             radio/TV     0  \n",
       "2          12            education     1  \n",
       "3          42  furniture/equipment     1  \n",
       "4          24                  car     0  \n",
       "..        ...                  ...   ...  \n",
       "995        12  furniture/equipment     1  \n",
       "996        30                  car     1  \n",
       "997        12             radio/TV     1  \n",
       "998        45             radio/TV     0  \n",
       "999        45                  car     1  \n",
       "\n",
       "[1000 rows x 10 columns]"
      ]
     },
     "execution_count": 29,
     "metadata": {},
     "output_type": "execute_result"
    }
   ],
   "source": [
    "# Load and clean the dataset\n",
    "def clean_dataset(csv_path, columns_to_remove):\n",
    "    # The dataset used is taken from https://archive.ics.uci.edu/ml/datasets/statlog+(german+credit+data)\n",
    "    df = pd.read_csv(csv_path, index_col=0)\n",
    "\n",
    "    # get rid of columns that shouldn't be in the input model\n",
    "    filtered_columns_to_remove = df.filter(columns_to_remove)\n",
    "    df.drop(filtered_columns_to_remove, inplace=True, axis=1)\n",
    "\n",
    "    # lowercase + underscore for columns\n",
    "    df.columns = df.columns.str.lower()\n",
    "    df.columns = df.columns.str.replace(\" \", \"_\")\n",
    "\n",
    "    # map output to integer values\n",
    "    df[\"risk\"].replace({\"bad\": 0, \"good\": 1}, inplace=True)\n",
    "\n",
    "    # Ensure validity of inputs – No NaNs\n",
    "    object_list, numeric_list = Helper.get_df_types_list(df)\n",
    "    for column in object_list:\n",
    "        df[column].fillna(\"\", inplace=True)\n",
    "    for column in numeric_list:\n",
    "        df[column].fillna(-1, inplace=True)\n",
    "\n",
    "    return df\n",
    "\n",
    "german_credit_df = clean_dataset(german_dataset_csv_path, german_dataset_columns_to_remove)\n",
    "german_credit_df"
   ]
  },
  {
   "cell_type": "markdown",
   "metadata": {},
   "source": [
    "Here is a brief explanation of each feature:\n",
    "- age: ranges from 19 to 75\n",
    "- sex: male or female\n",
    "- job: 0 - unskilled and non-resident, 1 - unskilled and resident, 2 - skilled, 3 - highly skilled\n",
    "- housing: own, rent, or free\n",
    "- savings_accounts: amount of money in the account: unknown (empty entry), little, moderate, quite rich, rich\n",
    "- checking_account: amount of money in the account: unknown (empty entry), little, moderate, quite rich, rich\n",
    "- credit_amount: between 250 and 18424 Deutsch Mark (DM)\n",
    "- duration: how long the loan is taken out for. Ranges between 4 and 72 months\n",
    "- purpose: car, furniture/equipment, radio/TV, domestic appliances, repairs, education, business, vacation/others\n",
    "- risk (output feature): good or bad credit risks. 1 is good credit risk, 0 is bad credit risk."
   ]
  },
  {
   "cell_type": "code",
   "execution_count": 30,
   "metadata": {},
   "outputs": [],
   "source": [
    "# Define the following parameters for the tool\n",
    "german_training_types = [\n",
    "        \"original_dataset\",\n",
    "        \"remove_feature\",\n",
    "    ]\n",
    "german_features_of_interest = [\"age\", \"sex\"]\n",
    "german_output = \"risk\"\n",
    "german_unique_values = 10\n",
    "german_verbose = False"
   ]
  },
  {
   "cell_type": "code",
   "execution_count": 31,
   "metadata": {},
   "outputs": [],
   "source": [
    "# Parameters for the trained Neural Network model. You can optionally modify them if you choose to, but it is not necessary.\n",
    "german_best_params = dict(\n",
    "    batch_size=256,\n",
    "    epochs=15,\n",
    "    optimizer=\"Adam\",\n",
    "    init_mode=\"he_uniform\",\n",
    "    activation=\"relu\",\n",
    "    weight_constraint=3,\n",
    "    dropout_rate=0.1,\n",
    "    neurons=64,\n",
    "    hidden_layers=2,\n",
    ")"
   ]
  },
  {
   "cell_type": "code",
   "execution_count": 32,
   "metadata": {
    "scrolled": true
   },
   "outputs": [
    {
     "name": "stdout",
     "output_type": "stream",
     "text": [
      "RUNNING ANALYSIS FOR TRAINING TYPE: 'original_dataset'\n",
      "\n",
      "List of numeric features for this dataset: ['age', 'job', 'credit_amount', 'duration']\n",
      "List of non-numeric features: ['sex', 'housing', 'saving_accounts', 'checking_account', 'purpose']\n",
      "\n",
      "Total number of training samples: 640\n",
      "Total number of validation samples: 160\n",
      "Total number of test samples: 200\n",
      "\n",
      "Training the model:\n",
      "Epoch 1/15\n",
      "3/3 [==============================] - 1s 115ms/step - loss: 0.8834 - accuracy: 0.4469 - val_loss: 0.6906 - val_accuracy: 0.6125\n",
      "Epoch 2/15\n",
      "3/3 [==============================] - 0s 10ms/step - loss: 0.7345 - accuracy: 0.5781 - val_loss: 0.6398 - val_accuracy: 0.6812\n",
      "Epoch 3/15\n",
      "3/3 [==============================] - 0s 9ms/step - loss: 0.6908 - accuracy: 0.6406 - val_loss: 0.6280 - val_accuracy: 0.7000\n",
      "Epoch 4/15\n",
      "3/3 [==============================] - 0s 9ms/step - loss: 0.6790 - accuracy: 0.6609 - val_loss: 0.6106 - val_accuracy: 0.7063\n",
      "Epoch 5/15\n",
      "3/3 [==============================] - 0s 9ms/step - loss: 0.6297 - accuracy: 0.6891 - val_loss: 0.5823 - val_accuracy: 0.7188\n",
      "Epoch 6/15\n",
      "3/3 [==============================] - 0s 9ms/step - loss: 0.6070 - accuracy: 0.6875 - val_loss: 0.5534 - val_accuracy: 0.7125\n",
      "Epoch 7/15\n",
      "3/3 [==============================] - 0s 9ms/step - loss: 0.5920 - accuracy: 0.6859 - val_loss: 0.5324 - val_accuracy: 0.7312\n",
      "Epoch 8/15\n",
      "3/3 [==============================] - 0s 9ms/step - loss: 0.5806 - accuracy: 0.7031 - val_loss: 0.5220 - val_accuracy: 0.7375\n",
      "Epoch 9/15\n",
      "3/3 [==============================] - 0s 9ms/step - loss: 0.5653 - accuracy: 0.7047 - val_loss: 0.5171 - val_accuracy: 0.7375\n",
      "Epoch 10/15\n",
      "3/3 [==============================] - 0s 9ms/step - loss: 0.5428 - accuracy: 0.7344 - val_loss: 0.5125 - val_accuracy: 0.7437\n",
      "Epoch 11/15\n",
      "3/3 [==============================] - 0s 9ms/step - loss: 0.5415 - accuracy: 0.7109 - val_loss: 0.5082 - val_accuracy: 0.7437\n",
      "Epoch 12/15\n",
      "3/3 [==============================] - 0s 9ms/step - loss: 0.5372 - accuracy: 0.7141 - val_loss: 0.5064 - val_accuracy: 0.7500\n",
      "Epoch 13/15\n",
      "3/3 [==============================] - 0s 9ms/step - loss: 0.5325 - accuracy: 0.7297 - val_loss: 0.5068 - val_accuracy: 0.7500\n",
      "Epoch 14/15\n",
      "3/3 [==============================] - 0s 9ms/step - loss: 0.5262 - accuracy: 0.7266 - val_loss: 0.5062 - val_accuracy: 0.7437\n",
      "Epoch 15/15\n",
      "3/3 [==============================] - 0s 9ms/step - loss: 0.5215 - accuracy: 0.7234 - val_loss: 0.5053 - val_accuracy: 0.7500\n",
      "1/1 [==============================] - 0s 14ms/step - loss: 0.7078 - accuracy: 0.6364\n",
      "Model accuracy is: 0.6363636255264282\n",
      "\n",
      "Running the sensitivity analysis feature by feature. This might take a while.\n"
     ]
    },
    {
     "name": "stderr",
     "output_type": "stream",
     "text": [
      "[Parallel(n_jobs=-1)]: Using backend ThreadingBackend with 16 concurrent workers.\n",
      "[Parallel(n_jobs=-1)]: Done   2 out of   9 | elapsed:   28.8s remaining:  1.7min\n",
      "[Parallel(n_jobs=-1)]: Done   4 out of   9 | elapsed:   35.7s remaining:   44.6s\n",
      "[Parallel(n_jobs=-1)]: Done   6 out of   9 | elapsed:   35.9s remaining:   18.0s\n",
      "[Parallel(n_jobs=-1)]: Done   9 out of   9 | elapsed:   39.8s finished\n"
     ]
    },
    {
     "name": "stdout",
     "output_type": "stream",
     "text": [
      "RUNNING ANALYSIS FOR TRAINING TYPE: 'remove_feature_age'\n",
      "\n",
      "List of numeric features for this dataset: ['job', 'credit_amount', 'duration']\n",
      "List of non-numeric features: ['sex', 'housing', 'saving_accounts', 'checking_account', 'purpose']\n",
      "\n",
      "Total number of training samples: 640\n",
      "Total number of validation samples: 160\n",
      "Total number of test samples: 200\n",
      "\n",
      "Training the model:\n",
      "Epoch 1/15\n",
      "3/3 [==============================] - 1s 117ms/step - loss: 0.8253 - accuracy: 0.4828 - val_loss: 0.7323 - val_accuracy: 0.5813\n",
      "Epoch 2/15\n",
      "3/3 [==============================] - 0s 9ms/step - loss: 0.7208 - accuracy: 0.5891 - val_loss: 0.7030 - val_accuracy: 0.6313\n",
      "Epoch 3/15\n",
      "3/3 [==============================] - 0s 9ms/step - loss: 0.6676 - accuracy: 0.6453 - val_loss: 0.6894 - val_accuracy: 0.6687\n",
      "Epoch 4/15\n",
      "3/3 [==============================] - 0s 9ms/step - loss: 0.6302 - accuracy: 0.6891 - val_loss: 0.6774 - val_accuracy: 0.6875\n",
      "Epoch 5/15\n",
      "3/3 [==============================] - 0s 9ms/step - loss: 0.6039 - accuracy: 0.7078 - val_loss: 0.6663 - val_accuracy: 0.6625\n",
      "Epoch 6/15\n",
      "3/3 [==============================] - 0s 9ms/step - loss: 0.5962 - accuracy: 0.7094 - val_loss: 0.6540 - val_accuracy: 0.6625\n",
      "Epoch 7/15\n",
      "3/3 [==============================] - 0s 9ms/step - loss: 0.5782 - accuracy: 0.7156 - val_loss: 0.6430 - val_accuracy: 0.6625\n",
      "Epoch 8/15\n",
      "3/3 [==============================] - 0s 9ms/step - loss: 0.5638 - accuracy: 0.7109 - val_loss: 0.6324 - val_accuracy: 0.6750\n",
      "Epoch 9/15\n",
      "3/3 [==============================] - 0s 9ms/step - loss: 0.5531 - accuracy: 0.7219 - val_loss: 0.6244 - val_accuracy: 0.6687\n",
      "Epoch 10/15\n",
      "3/3 [==============================] - 0s 9ms/step - loss: 0.5341 - accuracy: 0.7453 - val_loss: 0.6193 - val_accuracy: 0.6812\n",
      "Epoch 11/15\n",
      "3/3 [==============================] - 0s 9ms/step - loss: 0.5416 - accuracy: 0.7344 - val_loss: 0.6152 - val_accuracy: 0.6687\n",
      "Epoch 12/15\n",
      "3/3 [==============================] - 0s 9ms/step - loss: 0.5407 - accuracy: 0.7234 - val_loss: 0.6105 - val_accuracy: 0.6562\n",
      "Epoch 13/15\n",
      "3/3 [==============================] - 0s 9ms/step - loss: 0.5214 - accuracy: 0.7453 - val_loss: 0.6073 - val_accuracy: 0.6750\n",
      "Epoch 14/15\n",
      "3/3 [==============================] - 0s 9ms/step - loss: 0.5255 - accuracy: 0.7531 - val_loss: 0.6052 - val_accuracy: 0.6625\n",
      "Epoch 15/15\n",
      "3/3 [==============================] - 0s 9ms/step - loss: 0.5191 - accuracy: 0.7531 - val_loss: 0.6029 - val_accuracy: 0.6562\n",
      "1/1 [==============================] - 0s 14ms/step - loss: 0.5997 - accuracy: 0.7059\n",
      "Model accuracy is: 0.7058823704719543\n",
      "\n",
      "Running the sensitivity analysis feature by feature. This might take a while.\n"
     ]
    },
    {
     "name": "stderr",
     "output_type": "stream",
     "text": [
      "[Parallel(n_jobs=-1)]: Using backend ThreadingBackend with 16 concurrent workers.\n",
      "[Parallel(n_jobs=-1)]: Done   3 out of   8 | elapsed:   29.9s remaining:   49.9s\n",
      "[Parallel(n_jobs=-1)]: Done   5 out of   8 | elapsed:   30.1s remaining:   18.0s\n",
      "[Parallel(n_jobs=-1)]: Done   8 out of   8 | elapsed:   34.4s finished\n"
     ]
    },
    {
     "name": "stdout",
     "output_type": "stream",
     "text": [
      "RUNNING ANALYSIS FOR TRAINING TYPE: 'remove_feature_sex'\n",
      "\n",
      "List of numeric features for this dataset: ['age', 'job', 'credit_amount', 'duration']\n",
      "List of non-numeric features: ['housing', 'saving_accounts', 'checking_account', 'purpose']\n",
      "\n",
      "Total number of training samples: 640\n",
      "Total number of validation samples: 160\n",
      "Total number of test samples: 200\n",
      "\n",
      "Training the model:\n",
      "Epoch 1/15\n",
      "3/3 [==============================] - 1s 106ms/step - loss: 0.9101 - accuracy: 0.4484 - val_loss: 0.7267 - val_accuracy: 0.6125\n",
      "Epoch 2/15\n",
      "3/3 [==============================] - 0s 9ms/step - loss: 0.7374 - accuracy: 0.5813 - val_loss: 0.6849 - val_accuracy: 0.6562\n",
      "Epoch 3/15\n",
      "3/3 [==============================] - 0s 9ms/step - loss: 0.6815 - accuracy: 0.6516 - val_loss: 0.6823 - val_accuracy: 0.7000\n",
      "Epoch 4/15\n",
      "3/3 [==============================] - 0s 9ms/step - loss: 0.6503 - accuracy: 0.6641 - val_loss: 0.6833 - val_accuracy: 0.6875\n",
      "Epoch 5/15\n",
      "3/3 [==============================] - 0s 9ms/step - loss: 0.6345 - accuracy: 0.7094 - val_loss: 0.6718 - val_accuracy: 0.6875\n",
      "Epoch 6/15\n",
      "3/3 [==============================] - 0s 9ms/step - loss: 0.6247 - accuracy: 0.7141 - val_loss: 0.6488 - val_accuracy: 0.6938\n",
      "Epoch 7/15\n",
      "3/3 [==============================] - 0s 9ms/step - loss: 0.5942 - accuracy: 0.7219 - val_loss: 0.6182 - val_accuracy: 0.7000\n",
      "Epoch 8/15\n",
      "3/3 [==============================] - 0s 9ms/step - loss: 0.5515 - accuracy: 0.7312 - val_loss: 0.5902 - val_accuracy: 0.7063\n",
      "Epoch 9/15\n",
      "3/3 [==============================] - 0s 9ms/step - loss: 0.5474 - accuracy: 0.7281 - val_loss: 0.5689 - val_accuracy: 0.7125\n",
      "Epoch 10/15\n",
      "3/3 [==============================] - 0s 9ms/step - loss: 0.5351 - accuracy: 0.7359 - val_loss: 0.5547 - val_accuracy: 0.7437\n",
      "Epoch 11/15\n",
      "3/3 [==============================] - 0s 9ms/step - loss: 0.5391 - accuracy: 0.7203 - val_loss: 0.5465 - val_accuracy: 0.7375\n",
      "Epoch 12/15\n",
      "3/3 [==============================] - 0s 9ms/step - loss: 0.5102 - accuracy: 0.7453 - val_loss: 0.5409 - val_accuracy: 0.7437\n",
      "Epoch 13/15\n",
      "3/3 [==============================] - 0s 9ms/step - loss: 0.5176 - accuracy: 0.7375 - val_loss: 0.5386 - val_accuracy: 0.7375\n",
      "Epoch 14/15\n",
      "3/3 [==============================] - 0s 9ms/step - loss: 0.5030 - accuracy: 0.7594 - val_loss: 0.5386 - val_accuracy: 0.7375\n",
      "Epoch 15/15\n",
      "3/3 [==============================] - 0s 9ms/step - loss: 0.4863 - accuracy: 0.7641 - val_loss: 0.5395 - val_accuracy: 0.7375\n",
      "1/1 [==============================] - 0s 14ms/step - loss: 0.7733 - accuracy: 0.5870\n",
      "Model accuracy is: 0.5869565010070801\n",
      "\n",
      "Running the sensitivity analysis feature by feature. This might take a while.\n"
     ]
    },
    {
     "name": "stderr",
     "output_type": "stream",
     "text": [
      "[Parallel(n_jobs=-1)]: Using backend ThreadingBackend with 16 concurrent workers.\n",
      "[Parallel(n_jobs=-1)]: Done   3 out of   8 | elapsed:   41.3s remaining:  1.1min\n",
      "[Parallel(n_jobs=-1)]: Done   5 out of   8 | elapsed:   41.7s remaining:   25.0s\n",
      "[Parallel(n_jobs=-1)]: Done   8 out of   8 | elapsed:   49.5s finished\n"
     ]
    },
    {
     "name": "stdout",
     "output_type": "stream",
     "text": [
      "RUNNING ANALYSIS FOR TRAINING TYPE: 'remove_feature_job'\n",
      "\n",
      "List of numeric features for this dataset: ['age', 'credit_amount', 'duration']\n",
      "List of non-numeric features: ['sex', 'housing', 'saving_accounts', 'checking_account', 'purpose']\n",
      "\n",
      "Total number of training samples: 640\n",
      "Total number of validation samples: 160\n",
      "Total number of test samples: 200\n",
      "\n",
      "Training the model:\n",
      "Epoch 1/15\n",
      "3/3 [==============================] - 1s 114ms/step - loss: 0.7833 - accuracy: 0.4859 - val_loss: 0.7149 - val_accuracy: 0.5500\n",
      "Epoch 2/15\n",
      "3/3 [==============================] - 0s 9ms/step - loss: 0.7096 - accuracy: 0.5750 - val_loss: 0.6680 - val_accuracy: 0.6313\n",
      "Epoch 3/15\n",
      "3/3 [==============================] - 0s 9ms/step - loss: 0.6578 - accuracy: 0.6734 - val_loss: 0.6362 - val_accuracy: 0.6938\n",
      "Epoch 4/15\n",
      "3/3 [==============================] - 0s 9ms/step - loss: 0.6345 - accuracy: 0.7094 - val_loss: 0.6069 - val_accuracy: 0.7000\n",
      "Epoch 5/15\n",
      "3/3 [==============================] - 0s 9ms/step - loss: 0.6030 - accuracy: 0.7125 - val_loss: 0.5823 - val_accuracy: 0.7000\n",
      "Epoch 6/15\n",
      "3/3 [==============================] - 0s 9ms/step - loss: 0.5769 - accuracy: 0.7219 - val_loss: 0.5638 - val_accuracy: 0.7250\n",
      "Epoch 7/15\n",
      "3/3 [==============================] - 0s 9ms/step - loss: 0.5838 - accuracy: 0.7141 - val_loss: 0.5509 - val_accuracy: 0.7250\n",
      "Epoch 8/15\n",
      "3/3 [==============================] - 0s 9ms/step - loss: 0.5634 - accuracy: 0.7125 - val_loss: 0.5407 - val_accuracy: 0.7250\n",
      "Epoch 9/15\n",
      "3/3 [==============================] - 0s 9ms/step - loss: 0.5445 - accuracy: 0.7281 - val_loss: 0.5326 - val_accuracy: 0.7312\n",
      "Epoch 10/15\n",
      "3/3 [==============================] - 0s 9ms/step - loss: 0.5427 - accuracy: 0.7203 - val_loss: 0.5264 - val_accuracy: 0.7250\n",
      "Epoch 11/15\n",
      "3/3 [==============================] - 0s 9ms/step - loss: 0.5182 - accuracy: 0.7500 - val_loss: 0.5222 - val_accuracy: 0.7063\n",
      "Epoch 12/15\n",
      "3/3 [==============================] - 0s 9ms/step - loss: 0.5203 - accuracy: 0.7375 - val_loss: 0.5198 - val_accuracy: 0.7063\n",
      "Epoch 13/15\n",
      "3/3 [==============================] - 0s 9ms/step - loss: 0.5140 - accuracy: 0.7437 - val_loss: 0.5181 - val_accuracy: 0.7188\n",
      "Epoch 14/15\n",
      "3/3 [==============================] - 0s 9ms/step - loss: 0.5072 - accuracy: 0.7406 - val_loss: 0.5163 - val_accuracy: 0.7125\n",
      "Epoch 15/15\n",
      "3/3 [==============================] - 0s 9ms/step - loss: 0.5048 - accuracy: 0.7484 - val_loss: 0.5142 - val_accuracy: 0.7375\n",
      "1/1 [==============================] - 0s 13ms/step - loss: 0.7180 - accuracy: 0.6045\n",
      "Model accuracy is: 0.60447758436203\n",
      "\n",
      "Running the sensitivity analysis feature by feature. This might take a while.\n"
     ]
    },
    {
     "name": "stderr",
     "output_type": "stream",
     "text": [
      "[Parallel(n_jobs=-1)]: Using backend ThreadingBackend with 16 concurrent workers.\n",
      "[Parallel(n_jobs=-1)]: Done   3 out of   8 | elapsed:   38.3s remaining:  1.1min\n",
      "[Parallel(n_jobs=-1)]: Done   5 out of   8 | elapsed:   39.8s remaining:   23.9s\n",
      "[Parallel(n_jobs=-1)]: Done   8 out of   8 | elapsed:   47.2s finished\n"
     ]
    },
    {
     "name": "stdout",
     "output_type": "stream",
     "text": [
      "RUNNING ANALYSIS FOR TRAINING TYPE: 'remove_feature_housing'\n",
      "\n",
      "List of numeric features for this dataset: ['age', 'job', 'credit_amount', 'duration']\n",
      "List of non-numeric features: ['sex', 'saving_accounts', 'checking_account', 'purpose']\n",
      "\n",
      "Total number of training samples: 640\n",
      "Total number of validation samples: 160\n",
      "Total number of test samples: 200\n",
      "\n",
      "Training the model:\n",
      "Epoch 1/15\n",
      "3/3 [==============================] - 1s 109ms/step - loss: 0.7531 - accuracy: 0.5609 - val_loss: 0.6687 - val_accuracy: 0.6187\n",
      "Epoch 2/15\n",
      "3/3 [==============================] - 0s 9ms/step - loss: 0.6987 - accuracy: 0.6484 - val_loss: 0.6401 - val_accuracy: 0.6438\n",
      "Epoch 3/15\n",
      "3/3 [==============================] - 0s 9ms/step - loss: 0.6545 - accuracy: 0.6687 - val_loss: 0.6178 - val_accuracy: 0.6562\n",
      "Epoch 4/15\n",
      "3/3 [==============================] - 0s 9ms/step - loss: 0.6266 - accuracy: 0.6812 - val_loss: 0.6019 - val_accuracy: 0.6625\n",
      "Epoch 5/15\n",
      "3/3 [==============================] - 0s 9ms/step - loss: 0.6017 - accuracy: 0.6734 - val_loss: 0.5909 - val_accuracy: 0.6625\n",
      "Epoch 6/15\n",
      "3/3 [==============================] - 0s 9ms/step - loss: 0.5843 - accuracy: 0.6859 - val_loss: 0.5820 - val_accuracy: 0.6750\n",
      "Epoch 7/15\n",
      "3/3 [==============================] - 0s 9ms/step - loss: 0.5655 - accuracy: 0.7000 - val_loss: 0.5747 - val_accuracy: 0.6687\n",
      "Epoch 8/15\n",
      "3/3 [==============================] - 0s 9ms/step - loss: 0.5481 - accuracy: 0.7000 - val_loss: 0.5689 - val_accuracy: 0.6750\n",
      "Epoch 9/15\n",
      "3/3 [==============================] - 0s 9ms/step - loss: 0.5421 - accuracy: 0.7000 - val_loss: 0.5644 - val_accuracy: 0.6875\n",
      "Epoch 10/15\n",
      "3/3 [==============================] - 0s 9ms/step - loss: 0.5327 - accuracy: 0.7063 - val_loss: 0.5617 - val_accuracy: 0.7188\n",
      "Epoch 11/15\n",
      "3/3 [==============================] - 0s 9ms/step - loss: 0.5185 - accuracy: 0.7172 - val_loss: 0.5605 - val_accuracy: 0.7000\n",
      "Epoch 12/15\n",
      "3/3 [==============================] - 0s 9ms/step - loss: 0.5106 - accuracy: 0.7359 - val_loss: 0.5593 - val_accuracy: 0.6938\n",
      "Epoch 13/15\n",
      "3/3 [==============================] - 0s 9ms/step - loss: 0.5130 - accuracy: 0.7375 - val_loss: 0.5582 - val_accuracy: 0.6938\n",
      "Epoch 14/15\n",
      "3/3 [==============================] - 0s 9ms/step - loss: 0.5042 - accuracy: 0.7500 - val_loss: 0.5573 - val_accuracy: 0.6875\n",
      "Epoch 15/15\n",
      "3/3 [==============================] - 0s 9ms/step - loss: 0.4969 - accuracy: 0.7484 - val_loss: 0.5568 - val_accuracy: 0.6938\n",
      "1/1 [==============================] - 0s 13ms/step - loss: 0.6617 - accuracy: 0.5877\n",
      "Model accuracy is: 0.5877193212509155\n",
      "\n",
      "Running the sensitivity analysis feature by feature. This might take a while.\n"
     ]
    },
    {
     "name": "stderr",
     "output_type": "stream",
     "text": [
      "[Parallel(n_jobs=-1)]: Using backend ThreadingBackend with 16 concurrent workers.\n",
      "[Parallel(n_jobs=-1)]: Done   3 out of   8 | elapsed:   38.2s remaining:  1.1min\n",
      "[Parallel(n_jobs=-1)]: Done   5 out of   8 | elapsed:   38.5s remaining:   23.1s\n",
      "[Parallel(n_jobs=-1)]: Done   8 out of   8 | elapsed:   43.9s finished\n"
     ]
    },
    {
     "name": "stdout",
     "output_type": "stream",
     "text": [
      "RUNNING ANALYSIS FOR TRAINING TYPE: 'remove_feature_saving_accounts'\n",
      "\n",
      "List of numeric features for this dataset: ['age', 'job', 'credit_amount', 'duration']\n",
      "List of non-numeric features: ['sex', 'housing', 'checking_account', 'purpose']\n",
      "\n",
      "Total number of training samples: 640\n",
      "Total number of validation samples: 160\n",
      "Total number of test samples: 200\n",
      "\n",
      "Training the model:\n",
      "Epoch 1/15\n",
      "3/3 [==============================] - 1s 107ms/step - loss: 0.6380 - accuracy: 0.6516 - val_loss: 0.6981 - val_accuracy: 0.6562\n",
      "Epoch 2/15\n",
      "3/3 [==============================] - 0s 9ms/step - loss: 0.5924 - accuracy: 0.6906 - val_loss: 0.6794 - val_accuracy: 0.6750\n",
      "Epoch 3/15\n",
      "3/3 [==============================] - 0s 9ms/step - loss: 0.5856 - accuracy: 0.6875 - val_loss: 0.6539 - val_accuracy: 0.6812\n",
      "Epoch 4/15\n",
      "3/3 [==============================] - 0s 9ms/step - loss: 0.5749 - accuracy: 0.7047 - val_loss: 0.6314 - val_accuracy: 0.6750\n",
      "Epoch 5/15\n",
      "3/3 [==============================] - 0s 9ms/step - loss: 0.5507 - accuracy: 0.7125 - val_loss: 0.6101 - val_accuracy: 0.6875\n",
      "Epoch 6/15\n",
      "3/3 [==============================] - 0s 8ms/step - loss: 0.5349 - accuracy: 0.7109 - val_loss: 0.5933 - val_accuracy: 0.7063\n",
      "Epoch 7/15\n",
      "3/3 [==============================] - 0s 9ms/step - loss: 0.5305 - accuracy: 0.7125 - val_loss: 0.5857 - val_accuracy: 0.7063\n",
      "Epoch 8/15\n",
      "3/3 [==============================] - 0s 9ms/step - loss: 0.5133 - accuracy: 0.7297 - val_loss: 0.5831 - val_accuracy: 0.7063\n",
      "Epoch 9/15\n",
      "3/3 [==============================] - 0s 9ms/step - loss: 0.5152 - accuracy: 0.7297 - val_loss: 0.5854 - val_accuracy: 0.7063\n",
      "Epoch 10/15\n",
      "3/3 [==============================] - 0s 9ms/step - loss: 0.4974 - accuracy: 0.7359 - val_loss: 0.5857 - val_accuracy: 0.7063\n",
      "Epoch 11/15\n",
      "3/3 [==============================] - 0s 9ms/step - loss: 0.4924 - accuracy: 0.7484 - val_loss: 0.5832 - val_accuracy: 0.6938\n",
      "Epoch 12/15\n",
      "3/3 [==============================] - 0s 9ms/step - loss: 0.4902 - accuracy: 0.7484 - val_loss: 0.5825 - val_accuracy: 0.7063\n",
      "Epoch 13/15\n",
      "3/3 [==============================] - 0s 9ms/step - loss: 0.5011 - accuracy: 0.7500 - val_loss: 0.5765 - val_accuracy: 0.7375\n",
      "Epoch 14/15\n",
      "3/3 [==============================] - 0s 10ms/step - loss: 0.5030 - accuracy: 0.7281 - val_loss: 0.5786 - val_accuracy: 0.7250\n",
      "Epoch 15/15\n",
      "3/3 [==============================] - 0s 9ms/step - loss: 0.4846 - accuracy: 0.7500 - val_loss: 0.5801 - val_accuracy: 0.7312\n",
      "1/1 [==============================] - 0s 13ms/step - loss: 0.6196 - accuracy: 0.6161\n",
      "Model accuracy is: 0.6160714030265808\n",
      "\n",
      "Running the sensitivity analysis feature by feature. This might take a while.\n"
     ]
    },
    {
     "name": "stderr",
     "output_type": "stream",
     "text": [
      "[Parallel(n_jobs=-1)]: Using backend ThreadingBackend with 16 concurrent workers.\n",
      "[Parallel(n_jobs=-1)]: Done   3 out of   8 | elapsed:   35.6s remaining:   59.3s\n",
      "[Parallel(n_jobs=-1)]: Done   5 out of   8 | elapsed:   36.9s remaining:   22.2s\n",
      "[Parallel(n_jobs=-1)]: Done   8 out of   8 | elapsed:   42.9s finished\n"
     ]
    },
    {
     "name": "stdout",
     "output_type": "stream",
     "text": [
      "RUNNING ANALYSIS FOR TRAINING TYPE: 'remove_feature_checking_account'\n",
      "\n",
      "List of numeric features for this dataset: ['age', 'job', 'credit_amount', 'duration']\n",
      "List of non-numeric features: ['sex', 'housing', 'saving_accounts', 'purpose']\n",
      "\n",
      "Total number of training samples: 640\n",
      "Total number of validation samples: 160\n",
      "Total number of test samples: 200\n",
      "\n",
      "Training the model:\n",
      "Epoch 1/15\n",
      "3/3 [==============================] - 1s 105ms/step - loss: 0.9485 - accuracy: 0.4500 - val_loss: 0.7746 - val_accuracy: 0.5500\n",
      "Epoch 2/15\n",
      "3/3 [==============================] - 0s 9ms/step - loss: 0.7563 - accuracy: 0.5906 - val_loss: 0.6257 - val_accuracy: 0.7125\n",
      "Epoch 3/15\n",
      "3/3 [==============================] - 0s 10ms/step - loss: 0.6723 - accuracy: 0.6578 - val_loss: 0.5641 - val_accuracy: 0.7375\n",
      "Epoch 4/15\n",
      "3/3 [==============================] - 0s 9ms/step - loss: 0.6480 - accuracy: 0.6641 - val_loss: 0.5460 - val_accuracy: 0.7500\n",
      "Epoch 5/15\n",
      "3/3 [==============================] - 0s 9ms/step - loss: 0.6429 - accuracy: 0.6812 - val_loss: 0.5408 - val_accuracy: 0.7563\n",
      "Epoch 6/15\n",
      "3/3 [==============================] - 0s 9ms/step - loss: 0.6388 - accuracy: 0.6812 - val_loss: 0.5356 - val_accuracy: 0.7563\n",
      "Epoch 7/15\n",
      "3/3 [==============================] - 0s 9ms/step - loss: 0.6267 - accuracy: 0.7000 - val_loss: 0.5300 - val_accuracy: 0.7563\n",
      "Epoch 8/15\n",
      "3/3 [==============================] - 0s 9ms/step - loss: 0.6042 - accuracy: 0.6984 - val_loss: 0.5276 - val_accuracy: 0.7688\n",
      "Epoch 9/15\n",
      "3/3 [==============================] - 0s 9ms/step - loss: 0.5979 - accuracy: 0.6938 - val_loss: 0.5302 - val_accuracy: 0.7312\n",
      "Epoch 10/15\n",
      "3/3 [==============================] - 0s 9ms/step - loss: 0.5798 - accuracy: 0.6938 - val_loss: 0.5357 - val_accuracy: 0.7437\n",
      "Epoch 11/15\n",
      "3/3 [==============================] - 0s 9ms/step - loss: 0.5659 - accuracy: 0.7109 - val_loss: 0.5398 - val_accuracy: 0.7375\n",
      "Epoch 12/15\n",
      "3/3 [==============================] - 0s 9ms/step - loss: 0.5804 - accuracy: 0.7031 - val_loss: 0.5404 - val_accuracy: 0.7437\n",
      "Epoch 13/15\n",
      "3/3 [==============================] - 0s 9ms/step - loss: 0.5722 - accuracy: 0.6969 - val_loss: 0.5354 - val_accuracy: 0.7375\n",
      "Epoch 14/15\n",
      "3/3 [==============================] - 0s 9ms/step - loss: 0.5596 - accuracy: 0.7266 - val_loss: 0.5285 - val_accuracy: 0.7437\n",
      "Epoch 15/15\n",
      "3/3 [==============================] - 0s 9ms/step - loss: 0.5557 - accuracy: 0.7203 - val_loss: 0.5224 - val_accuracy: 0.7563\n",
      "1/1 [==============================] - 0s 13ms/step - loss: 0.7918 - accuracy: 0.5873\n",
      "Model accuracy is: 0.5873016119003296\n",
      "\n",
      "Running the sensitivity analysis feature by feature. This might take a while.\n"
     ]
    },
    {
     "name": "stderr",
     "output_type": "stream",
     "text": [
      "[Parallel(n_jobs=-1)]: Using backend ThreadingBackend with 16 concurrent workers.\n",
      "[Parallel(n_jobs=-1)]: Done   3 out of   8 | elapsed:   35.0s remaining:   58.4s\n",
      "[Parallel(n_jobs=-1)]: Done   5 out of   8 | elapsed:   36.0s remaining:   21.6s\n",
      "[Parallel(n_jobs=-1)]: Done   8 out of   8 | elapsed:   42.9s finished\n"
     ]
    },
    {
     "name": "stdout",
     "output_type": "stream",
     "text": [
      "RUNNING ANALYSIS FOR TRAINING TYPE: 'remove_feature_credit_amount'\n",
      "\n",
      "List of numeric features for this dataset: ['age', 'job', 'duration']\n",
      "List of non-numeric features: ['sex', 'housing', 'saving_accounts', 'checking_account', 'purpose']\n",
      "\n",
      "Total number of training samples: 640\n",
      "Total number of validation samples: 160\n",
      "Total number of test samples: 200\n",
      "\n",
      "Training the model:\n",
      "Epoch 1/15\n",
      "3/3 [==============================] - 1s 114ms/step - loss: 0.8093 - accuracy: 0.5734 - val_loss: 0.6545 - val_accuracy: 0.6375\n",
      "Epoch 2/15\n",
      "3/3 [==============================] - 0s 9ms/step - loss: 0.7397 - accuracy: 0.5891 - val_loss: 0.6042 - val_accuracy: 0.7000\n",
      "Epoch 3/15\n",
      "3/3 [==============================] - 0s 9ms/step - loss: 0.6637 - accuracy: 0.6281 - val_loss: 0.5627 - val_accuracy: 0.7250\n",
      "Epoch 4/15\n",
      "3/3 [==============================] - 0s 9ms/step - loss: 0.6744 - accuracy: 0.6187 - val_loss: 0.5365 - val_accuracy: 0.7375\n",
      "Epoch 5/15\n",
      "3/3 [==============================] - 0s 9ms/step - loss: 0.6334 - accuracy: 0.6516 - val_loss: 0.5165 - val_accuracy: 0.7500\n",
      "Epoch 6/15\n",
      "3/3 [==============================] - 0s 9ms/step - loss: 0.6067 - accuracy: 0.6531 - val_loss: 0.5032 - val_accuracy: 0.7125\n",
      "Epoch 7/15\n",
      "3/3 [==============================] - 0s 9ms/step - loss: 0.5999 - accuracy: 0.6625 - val_loss: 0.4873 - val_accuracy: 0.7563\n",
      "Epoch 8/15\n",
      "3/3 [==============================] - 0s 9ms/step - loss: 0.5879 - accuracy: 0.6812 - val_loss: 0.4696 - val_accuracy: 0.7563\n",
      "Epoch 9/15\n",
      "3/3 [==============================] - 0s 9ms/step - loss: 0.5853 - accuracy: 0.6984 - val_loss: 0.4600 - val_accuracy: 0.7688\n",
      "Epoch 10/15\n",
      "3/3 [==============================] - 0s 9ms/step - loss: 0.5613 - accuracy: 0.7188 - val_loss: 0.4569 - val_accuracy: 0.7688\n",
      "Epoch 11/15\n",
      "3/3 [==============================] - 0s 9ms/step - loss: 0.5581 - accuracy: 0.7094 - val_loss: 0.4569 - val_accuracy: 0.7563\n",
      "Epoch 12/15\n",
      "3/3 [==============================] - 0s 9ms/step - loss: 0.5449 - accuracy: 0.7281 - val_loss: 0.4562 - val_accuracy: 0.7625\n",
      "Epoch 13/15\n",
      "3/3 [==============================] - 0s 9ms/step - loss: 0.5520 - accuracy: 0.7125 - val_loss: 0.4542 - val_accuracy: 0.7688\n",
      "Epoch 14/15\n",
      "3/3 [==============================] - 0s 9ms/step - loss: 0.5378 - accuracy: 0.7312 - val_loss: 0.4549 - val_accuracy: 0.7750\n",
      "Epoch 15/15\n",
      "3/3 [==============================] - 0s 9ms/step - loss: 0.5405 - accuracy: 0.7312 - val_loss: 0.4578 - val_accuracy: 0.7688\n",
      "1/1 [==============================] - 0s 13ms/step - loss: 0.6239 - accuracy: 0.6415\n",
      "Model accuracy is: 0.6415094137191772\n",
      "\n",
      "Running the sensitivity analysis feature by feature. This might take a while.\n"
     ]
    },
    {
     "name": "stderr",
     "output_type": "stream",
     "text": [
      "[Parallel(n_jobs=-1)]: Using backend ThreadingBackend with 16 concurrent workers.\n",
      "[Parallel(n_jobs=-1)]: Done   3 out of   8 | elapsed:   35.2s remaining:   58.7s\n",
      "[Parallel(n_jobs=-1)]: Done   5 out of   8 | elapsed:   35.7s remaining:   21.4s\n",
      "[Parallel(n_jobs=-1)]: Done   8 out of   8 | elapsed:   42.4s finished\n"
     ]
    },
    {
     "name": "stdout",
     "output_type": "stream",
     "text": [
      "RUNNING ANALYSIS FOR TRAINING TYPE: 'remove_feature_duration'\n",
      "\n",
      "List of numeric features for this dataset: ['age', 'job', 'credit_amount']\n",
      "List of non-numeric features: ['sex', 'housing', 'saving_accounts', 'checking_account', 'purpose']\n",
      "\n",
      "Total number of training samples: 640\n",
      "Total number of validation samples: 160\n",
      "Total number of test samples: 200\n",
      "\n",
      "Training the model:\n",
      "Epoch 1/15\n",
      "3/3 [==============================] - 1s 113ms/step - loss: 0.6520 - accuracy: 0.6719 - val_loss: 0.6901 - val_accuracy: 0.6438\n",
      "Epoch 2/15\n",
      "3/3 [==============================] - 0s 9ms/step - loss: 0.6213 - accuracy: 0.6984 - val_loss: 0.6602 - val_accuracy: 0.6562\n",
      "Epoch 3/15\n",
      "3/3 [==============================] - 0s 9ms/step - loss: 0.6054 - accuracy: 0.6984 - val_loss: 0.6349 - val_accuracy: 0.6625\n",
      "Epoch 4/15\n",
      "3/3 [==============================] - 0s 9ms/step - loss: 0.5858 - accuracy: 0.7031 - val_loss: 0.6143 - val_accuracy: 0.6625\n",
      "Epoch 5/15\n",
      "3/3 [==============================] - 0s 9ms/step - loss: 0.5871 - accuracy: 0.6828 - val_loss: 0.5996 - val_accuracy: 0.6750\n",
      "Epoch 6/15\n",
      "3/3 [==============================] - 0s 9ms/step - loss: 0.5607 - accuracy: 0.7063 - val_loss: 0.5880 - val_accuracy: 0.7000\n",
      "Epoch 7/15\n",
      "3/3 [==============================] - 0s 9ms/step - loss: 0.5495 - accuracy: 0.7203 - val_loss: 0.5787 - val_accuracy: 0.6875\n",
      "Epoch 8/15\n",
      "3/3 [==============================] - 0s 9ms/step - loss: 0.5394 - accuracy: 0.7297 - val_loss: 0.5709 - val_accuracy: 0.6875\n",
      "Epoch 9/15\n",
      "3/3 [==============================] - 0s 9ms/step - loss: 0.5331 - accuracy: 0.7266 - val_loss: 0.5647 - val_accuracy: 0.6812\n",
      "Epoch 10/15\n",
      "3/3 [==============================] - 0s 9ms/step - loss: 0.5324 - accuracy: 0.7312 - val_loss: 0.5599 - val_accuracy: 0.7000\n",
      "Epoch 11/15\n",
      "3/3 [==============================] - 0s 9ms/step - loss: 0.5166 - accuracy: 0.7375 - val_loss: 0.5557 - val_accuracy: 0.7000\n",
      "Epoch 12/15\n",
      "3/3 [==============================] - 0s 9ms/step - loss: 0.5265 - accuracy: 0.7328 - val_loss: 0.5499 - val_accuracy: 0.7063\n",
      "Epoch 13/15\n",
      "3/3 [==============================] - 0s 9ms/step - loss: 0.5199 - accuracy: 0.7406 - val_loss: 0.5439 - val_accuracy: 0.7000\n",
      "Epoch 14/15\n",
      "3/3 [==============================] - 0s 9ms/step - loss: 0.5036 - accuracy: 0.7547 - val_loss: 0.5410 - val_accuracy: 0.7000\n",
      "Epoch 15/15\n",
      "3/3 [==============================] - 0s 9ms/step - loss: 0.5062 - accuracy: 0.7437 - val_loss: 0.5393 - val_accuracy: 0.7063\n",
      "1/1 [==============================] - 0s 13ms/step - loss: 0.6741 - accuracy: 0.6333\n",
      "Model accuracy is: 0.6333333253860474\n",
      "\n",
      "Running the sensitivity analysis feature by feature. This might take a while.\n"
     ]
    },
    {
     "name": "stderr",
     "output_type": "stream",
     "text": [
      "[Parallel(n_jobs=-1)]: Using backend ThreadingBackend with 16 concurrent workers.\n",
      "[Parallel(n_jobs=-1)]: Done   3 out of   8 | elapsed:   38.6s remaining:  1.1min\n",
      "[Parallel(n_jobs=-1)]: Done   5 out of   8 | elapsed:   39.6s remaining:   23.7s\n",
      "[Parallel(n_jobs=-1)]: Done   8 out of   8 | elapsed:   43.6s finished\n"
     ]
    },
    {
     "name": "stdout",
     "output_type": "stream",
     "text": [
      "RUNNING ANALYSIS FOR TRAINING TYPE: 'remove_feature_purpose'\n",
      "\n",
      "List of numeric features for this dataset: ['age', 'job', 'credit_amount', 'duration']\n",
      "List of non-numeric features: ['sex', 'housing', 'saving_accounts', 'checking_account']\n",
      "\n",
      "Total number of training samples: 640\n",
      "Total number of validation samples: 160\n",
      "Total number of test samples: 200\n",
      "\n",
      "Training the model:\n",
      "Epoch 1/15\n",
      "3/3 [==============================] - 1s 106ms/step - loss: 0.6582 - accuracy: 0.6062 - val_loss: 0.5725 - val_accuracy: 0.7063\n",
      "Epoch 2/15\n",
      "3/3 [==============================] - 0s 9ms/step - loss: 0.6255 - accuracy: 0.6516 - val_loss: 0.5373 - val_accuracy: 0.7312\n",
      "Epoch 3/15\n",
      "3/3 [==============================] - 0s 9ms/step - loss: 0.6080 - accuracy: 0.6797 - val_loss: 0.5217 - val_accuracy: 0.7437\n",
      "Epoch 4/15\n",
      "3/3 [==============================] - 0s 9ms/step - loss: 0.5877 - accuracy: 0.7078 - val_loss: 0.5130 - val_accuracy: 0.7437\n",
      "Epoch 5/15\n",
      "3/3 [==============================] - 0s 9ms/step - loss: 0.5722 - accuracy: 0.7063 - val_loss: 0.5092 - val_accuracy: 0.7437\n",
      "Epoch 6/15\n",
      "3/3 [==============================] - 0s 9ms/step - loss: 0.5716 - accuracy: 0.6891 - val_loss: 0.5054 - val_accuracy: 0.7625\n",
      "Epoch 7/15\n",
      "3/3 [==============================] - 0s 9ms/step - loss: 0.5513 - accuracy: 0.7109 - val_loss: 0.5006 - val_accuracy: 0.7625\n",
      "Epoch 8/15\n",
      "3/3 [==============================] - 0s 9ms/step - loss: 0.5354 - accuracy: 0.7297 - val_loss: 0.4942 - val_accuracy: 0.7688\n",
      "Epoch 9/15\n",
      "3/3 [==============================] - 0s 9ms/step - loss: 0.5194 - accuracy: 0.7422 - val_loss: 0.4902 - val_accuracy: 0.7688\n",
      "Epoch 10/15\n",
      "3/3 [==============================] - 0s 9ms/step - loss: 0.5233 - accuracy: 0.7375 - val_loss: 0.4875 - val_accuracy: 0.7563\n",
      "Epoch 11/15\n",
      "3/3 [==============================] - 0s 9ms/step - loss: 0.5246 - accuracy: 0.7453 - val_loss: 0.4859 - val_accuracy: 0.7563\n",
      "Epoch 12/15\n",
      "3/3 [==============================] - 0s 9ms/step - loss: 0.5102 - accuracy: 0.7469 - val_loss: 0.4859 - val_accuracy: 0.7563\n",
      "Epoch 13/15\n",
      "3/3 [==============================] - 0s 9ms/step - loss: 0.4986 - accuracy: 0.7500 - val_loss: 0.4865 - val_accuracy: 0.7625\n",
      "Epoch 14/15\n",
      "3/3 [==============================] - 0s 9ms/step - loss: 0.4923 - accuracy: 0.7672 - val_loss: 0.4883 - val_accuracy: 0.7563\n",
      "Epoch 15/15\n",
      "3/3 [==============================] - 0s 9ms/step - loss: 0.4962 - accuracy: 0.7453 - val_loss: 0.4900 - val_accuracy: 0.7500\n",
      "1/1 [==============================] - 0s 13ms/step - loss: 0.6547 - accuracy: 0.6515\n",
      "Model accuracy is: 0.6515151262283325\n",
      "\n",
      "Running the sensitivity analysis feature by feature. This might take a while.\n"
     ]
    },
    {
     "name": "stderr",
     "output_type": "stream",
     "text": [
      "[Parallel(n_jobs=-1)]: Using backend ThreadingBackend with 16 concurrent workers.\n",
      "[Parallel(n_jobs=-1)]: Done   3 out of   8 | elapsed:   35.2s remaining:   58.7s\n",
      "[Parallel(n_jobs=-1)]: Done   5 out of   8 | elapsed:   36.1s remaining:   21.6s\n"
     ]
    },
    {
     "name": "stdout",
     "output_type": "stream",
     "text": [
      "\n",
      "Data Computation Phase Completed Successfully.\n",
      "\n"
     ]
    },
    {
     "name": "stderr",
     "output_type": "stream",
     "text": [
      "[Parallel(n_jobs=-1)]: Done   8 out of   8 | elapsed:   37.6s finished\n"
     ]
    }
   ],
   "source": [
    "# Running the analysis itself\n",
    "(\n",
    "    german_model_evaluation_df,\n",
    "    german_raw_predictions_df,\n",
    "    german_predictions_change_df,\n",
    "    german_volatility_df,\n",
    "    german_sensitivity_evaluation_df,\n",
    ") = CompileModelAndAnalysis(\n",
    "    german_training_types,\n",
    "    german_features_of_interest,\n",
    "    german_output,\n",
    "    german_dataset_columns_to_remove,\n",
    "    german_dataset_csv_path,\n",
    "    None,\n",
    "    german_unique_values,\n",
    "    german_best_params,\n",
    ").main(\n",
    "    german_credit_df\n",
    ")"
   ]
  },
  {
   "cell_type": "code",
   "execution_count": 33,
   "metadata": {},
   "outputs": [],
   "source": [
    "# Saving the computed datasets. These are used in the analysis part of the tool\n",
    "german_model_evaluation_df.round(2).to_csv(\n",
    "    f\"{german_output_folder_location}/ml_models_evaluation.csv\", index=False,\n",
    ")\n",
    "german_raw_predictions_df.round(2).to_csv(\n",
    "    f\"{german_output_folder_location}/sensitivity_predictions_raw.csv\", index=False,\n",
    ")\n",
    "german_predictions_change_df.round(2).to_csv(\n",
    "    f\"{german_output_folder_location}/sensitivity_predictions_change.csv\", index=False,\n",
    ")\n",
    "german_volatility_df.round(2).to_csv(\n",
    "    f\"{german_output_folder_location}/sensitivity_predictions_volatility.csv\", index=False,\n",
    ")\n",
    "german_sensitivity_evaluation_df.round(2).to_csv(\n",
    "    f\"{german_output_folder_location}/sensitivity_output_evaluation.csv\", index=False,\n",
    ")"
   ]
  },
  {
   "cell_type": "code",
   "execution_count": 34,
   "metadata": {
    "scrolled": true
   },
   "outputs": [
    {
     "name": "stdout",
     "output_type": "stream",
     "text": [
      "Creating visualizations based on the computed datasets.\n",
      "\n",
      "Creating correlation plot.\n",
      "\n",
      "Creating delta bias plots.\n",
      "\n",
      "Creating sensitivity analysis plots.\n",
      "\n",
      "Visualization creation completed.\n",
      "\n"
     ]
    }
   ],
   "source": [
    "# Run tool interaction\n",
    "RunInteraction(german_dataset_csv_path, german_output, german_output_folder_location, german_verbose).main(german_credit_df)"
   ]
  },
  {
   "cell_type": "markdown",
   "metadata": {},
   "source": [
    "For the next part, have a look at the computed analysis. Feel free to refer to the analysis section of the tutorial for inspiration on what you can look out for.\n",
    "\n",
    "Feel free to also manually open the CSV and image files for this dataset. They are located under: ``ml_bias_explainability/scripts/data/3_german_credit``. The input dataset is called ``german_credit_data.csv`` and the output files are located inside the ``output`` folder."
   ]
  },
  {
   "cell_type": "code",
   "execution_count": 35,
   "metadata": {},
   "outputs": [],
   "source": [
    "# Space to add own code. Feel free to add more code boxes using the \"+ Code\" button at the top menu of the Notebook. \n",
    "# Feel free to write answers using Markdown, this can be done by using the \"+ Text\" buton at the top menu of the Notebook."
   ]
  },
  {
   "cell_type": "code",
   "execution_count": null,
   "metadata": {},
   "outputs": [],
   "source": []
  },
  {
   "cell_type": "code",
   "execution_count": null,
   "metadata": {},
   "outputs": [],
   "source": []
  }
 ],
 "metadata": {
  "kernelspec": {
   "display_name": "ml_explainability_bias",
   "language": "python",
   "name": "ml_explainability_bias"
  },
  "language_info": {
   "codemirror_mode": {
    "name": "ipython",
    "version": 3
   },
   "file_extension": ".py",
   "mimetype": "text/x-python",
   "name": "python",
   "nbconvert_exporter": "python",
   "pygments_lexer": "ipython3",
   "version": "3.9.10"
  }
 },
 "nbformat": 4,
 "nbformat_minor": 4
}
